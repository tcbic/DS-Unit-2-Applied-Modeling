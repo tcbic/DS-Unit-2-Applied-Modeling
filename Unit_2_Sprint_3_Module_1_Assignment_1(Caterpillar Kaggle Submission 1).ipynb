{
  "nbformat": 4,
  "nbformat_minor": 0,
  "metadata": {
    "colab": {
      "name": "Unit 2_Sprint 3_Module 1_Assignment 1.ipynb",
      "version": "0.3.2",
      "provenance": [],
      "collapsed_sections": [],
      "include_colab_link": true
    },
    "kernelspec": {
      "name": "python3",
      "display_name": "Python 3"
    }
  },
  "cells": [
    {
      "cell_type": "markdown",
      "metadata": {
        "id": "view-in-github",
        "colab_type": "text"
      },
      "source": [
        "<a href=\"https://colab.research.google.com/github/tcbic/DS-Unit-2-Applied-Modeling/blob/master/Unit_2_Sprint_3_Module_1_Assignment_1(Caterpillar%20Kaggle%20Submission%201).ipynb\" target=\"_parent\"><img src=\"https://colab.research.google.com/assets/colab-badge.svg\" alt=\"Open In Colab\"/></a>"
      ]
    },
    {
      "cell_type": "code",
      "metadata": {
        "id": "4TWfYgfeXfvN",
        "colab_type": "code",
        "colab": {
          "base_uri": "https://localhost:8080/",
          "height": 212
        },
        "outputId": "6e726523-cd5a-4975-e961-11e3e056eef1"
      },
      "source": [
        "!wget https://raw.githubusercontent.com/LambdaSchool/DS-Unit-2-Applied-Modeling/master/data/caterpillar/caterpillar-tube-pricing.zip"
      ],
      "execution_count": 1,
      "outputs": [
        {
          "output_type": "stream",
          "text": [
            "--2019-07-23 21:34:55--  https://raw.githubusercontent.com/LambdaSchool/DS-Unit-2-Applied-Modeling/master/data/caterpillar/caterpillar-tube-pricing.zip\n",
            "Resolving raw.githubusercontent.com (raw.githubusercontent.com)... 151.101.0.133, 151.101.64.133, 151.101.128.133, ...\n",
            "Connecting to raw.githubusercontent.com (raw.githubusercontent.com)|151.101.0.133|:443... connected.\n",
            "HTTP request sent, awaiting response... 200 OK\n",
            "Length: 823789 (804K) [application/zip]\n",
            "Saving to: ‘caterpillar-tube-pricing.zip’\n",
            "\n",
            "\r          caterpill   0%[                    ]       0  --.-KB/s               \rcaterpillar-tube-pr 100%[===================>] 804.48K  --.-KB/s    in 0.06s   \n",
            "\n",
            "2019-07-23 21:34:55 (12.6 MB/s) - ‘caterpillar-tube-pricing.zip’ saved [823789/823789]\n",
            "\n"
          ],
          "name": "stdout"
        }
      ]
    },
    {
      "cell_type": "code",
      "metadata": {
        "id": "f1lCmseUXi6q",
        "colab_type": "code",
        "colab": {
          "base_uri": "https://localhost:8080/",
          "height": 70
        },
        "outputId": "888c8195-22f7-4a10-c737-a27ac6cd7af8"
      },
      "source": [
        "!unzip caterpillar-tube-pricing.zip"
      ],
      "execution_count": 2,
      "outputs": [
        {
          "output_type": "stream",
          "text": [
            "Archive:  caterpillar-tube-pricing.zip\n",
            "  inflating: sample_submission.csv   \n",
            "  inflating: data.zip                \n"
          ],
          "name": "stdout"
        }
      ]
    },
    {
      "cell_type": "code",
      "metadata": {
        "id": "bIZR51T9XlSA",
        "colab_type": "code",
        "colab": {
          "base_uri": "https://localhost:8080/",
          "height": 426
        },
        "outputId": "f943c42f-25ea-44b6-92c8-9911fe1467da"
      },
      "source": [
        "!unzip data.zip"
      ],
      "execution_count": 3,
      "outputs": [
        {
          "output_type": "stream",
          "text": [
            "Archive:  data.zip\n",
            "   creating: competition_data/\n",
            "  inflating: competition_data/bill_of_materials.csv  \n",
            "  inflating: competition_data/comp_adaptor.csv  \n",
            "  inflating: competition_data/comp_boss.csv  \n",
            "  inflating: competition_data/comp_elbow.csv  \n",
            "  inflating: competition_data/comp_float.csv  \n",
            "  inflating: competition_data/comp_hfl.csv  \n",
            "  inflating: competition_data/comp_nut.csv  \n",
            "  inflating: competition_data/comp_other.csv  \n",
            "  inflating: competition_data/comp_sleeve.csv  \n",
            "  inflating: competition_data/comp_straight.csv  \n",
            "  inflating: competition_data/comp_tee.csv  \n",
            "  inflating: competition_data/comp_threaded.csv  \n",
            "  inflating: competition_data/components.csv  \n",
            "  inflating: competition_data/specs.csv  \n",
            "  inflating: competition_data/test_set.csv  \n",
            "  inflating: competition_data/train_set.csv  \n",
            "  inflating: competition_data/tube.csv  \n",
            "  inflating: competition_data/tube_end_form.csv  \n",
            "  inflating: competition_data/type_component.csv  \n",
            "  inflating: competition_data/type_connection.csv  \n",
            "  inflating: competition_data/type_end_form.csv  \n"
          ],
          "name": "stdout"
        }
      ]
    },
    {
      "cell_type": "code",
      "metadata": {
        "id": "lYOBmXauuPMf",
        "colab_type": "code",
        "colab": {}
      },
      "source": [
        "SOURCE = '../data/caterpillar/caterpillar-tube-pricing/competition_data/'"
      ],
      "execution_count": 0,
      "outputs": []
    },
    {
      "cell_type": "code",
      "metadata": {
        "id": "F9GFHsyYuQX6",
        "colab_type": "code",
        "colab": {}
      },
      "source": [
        "SOURCE = 'competition_data/'"
      ],
      "execution_count": 0,
      "outputs": []
    },
    {
      "cell_type": "code",
      "metadata": {
        "id": "fDknOJz2uben",
        "colab_type": "code",
        "colab": {}
      },
      "source": [
        "import pandas as pd\n",
        "\n",
        "materials = pd.read_csv(SOURCE + 'bill_of_materials.csv')\n",
        "\n",
        "components = pd.read_csv(SOURCE + 'components.csv')"
      ],
      "execution_count": 0,
      "outputs": []
    },
    {
      "cell_type": "code",
      "metadata": {
        "id": "BAlvAZYSYIG7",
        "colab_type": "code",
        "colab": {
          "base_uri": "https://localhost:8080/",
          "height": 390
        },
        "outputId": "873528a9-f494-480f-d31e-d283afe94893"
      },
      "source": [
        "from glob import glob\n",
        "\n",
        "for path in glob('competition_data/*.csv'):\n",
        "    df = pd.read_csv(path)\n",
        "    print(path, df.shape)"
      ],
      "execution_count": 7,
      "outputs": [
        {
          "output_type": "stream",
          "text": [
            "competition_data/type_end_form.csv (8, 2)\n",
            "competition_data/comp_elbow.csv (178, 16)\n",
            "competition_data/tube_end_form.csv (27, 2)\n",
            "competition_data/type_connection.csv (14, 2)\n",
            "competition_data/comp_adaptor.csv (25, 20)\n",
            "competition_data/bill_of_materials.csv (21198, 17)\n",
            "competition_data/comp_sleeve.csv (50, 10)\n",
            "competition_data/comp_straight.csv (361, 12)\n",
            "competition_data/comp_hfl.csv (6, 9)\n",
            "competition_data/components.csv (2048, 3)\n",
            "competition_data/comp_float.csv (16, 7)\n",
            "competition_data/comp_threaded.csv (194, 32)\n",
            "competition_data/test_set.csv (30235, 8)\n",
            "competition_data/comp_nut.csv (65, 11)\n",
            "competition_data/tube.csv (21198, 16)\n",
            "competition_data/train_set.csv (30213, 8)\n",
            "competition_data/specs.csv (21198, 11)\n",
            "competition_data/comp_other.csv (1001, 3)\n",
            "competition_data/type_component.csv (29, 2)\n",
            "competition_data/comp_boss.csv (147, 15)\n",
            "competition_data/comp_tee.csv (4, 14)\n"
          ],
          "name": "stdout"
        }
      ]
    },
    {
      "cell_type": "markdown",
      "metadata": {
        "id": "jrBKTOpCYrfT",
        "colab_type": "text"
      },
      "source": [
        "We are evaluating based on RMSLE (Root Mean Squared Logarithmic Error)."
      ]
    },
    {
      "cell_type": "code",
      "metadata": {
        "id": "ENCl-1BrY1JC",
        "colab_type": "code",
        "colab": {}
      },
      "source": [
        "import numpy as np\n",
        "from sklearn.metrics import mean_squared_log_error\n",
        "\n",
        "#Create a function for finding RMSLE.\n",
        "\n",
        "def rmsle(y_true, y_pred):\n",
        "  return np.sqrt(mean_squared_log_error(y_true, y_pred))"
      ],
      "execution_count": 0,
      "outputs": []
    },
    {
      "cell_type": "code",
      "metadata": {
        "id": "eh-nlAj3emMr",
        "colab_type": "code",
        "colab": {}
      },
      "source": [
        "#What kind of date ranges does our test set deal with?\n",
        "\n",
        "#Are they overlapping date ranges and overlapping tube assemblies from train to test? If train is earlier dates and then test is later dates, then we\n",
        "#probably want to do a time based split. That's telling us that the goal is to forecast out into the future using earlier information to forecast or predict later information. But if the\n",
        "#test set has the same date ranges, then that is evidently not how this model is being used. We would then have to look at some different strategies for splitting."
      ],
      "execution_count": 0,
      "outputs": []
    },
    {
      "cell_type": "code",
      "metadata": {
        "id": "xkrkg3oWq9IO",
        "colab_type": "code",
        "colab": {}
      },
      "source": [
        "train_and_val = pd.read_csv('competition_data/train_set.csv')\n",
        "test = pd.read_csv('competition_data/test_set.csv')"
      ],
      "execution_count": 0,
      "outputs": []
    },
    {
      "cell_type": "code",
      "metadata": {
        "id": "Mb9pSo63rydT",
        "colab_type": "code",
        "colab": {}
      },
      "source": [
        "#Let's take a look at our data.\n",
        "#We specifically want to take a close look at the date ranges here."
      ],
      "execution_count": 0,
      "outputs": []
    },
    {
      "cell_type": "code",
      "metadata": {
        "id": "tPsm_hZYrr7s",
        "colab_type": "code",
        "colab": {
          "base_uri": "https://localhost:8080/",
          "height": 200
        },
        "outputId": "8cdb764c-d64f-472d-acee-d8ba5989b28d"
      },
      "source": [
        "train_and_val.head()"
      ],
      "execution_count": 10,
      "outputs": [
        {
          "output_type": "execute_result",
          "data": {
            "text/html": [
              "<div>\n",
              "<style scoped>\n",
              "    .dataframe tbody tr th:only-of-type {\n",
              "        vertical-align: middle;\n",
              "    }\n",
              "\n",
              "    .dataframe tbody tr th {\n",
              "        vertical-align: top;\n",
              "    }\n",
              "\n",
              "    .dataframe thead th {\n",
              "        text-align: right;\n",
              "    }\n",
              "</style>\n",
              "<table border=\"1\" class=\"dataframe\">\n",
              "  <thead>\n",
              "    <tr style=\"text-align: right;\">\n",
              "      <th></th>\n",
              "      <th>tube_assembly_id</th>\n",
              "      <th>supplier</th>\n",
              "      <th>quote_date</th>\n",
              "      <th>annual_usage</th>\n",
              "      <th>min_order_quantity</th>\n",
              "      <th>bracket_pricing</th>\n",
              "      <th>quantity</th>\n",
              "      <th>cost</th>\n",
              "    </tr>\n",
              "  </thead>\n",
              "  <tbody>\n",
              "    <tr>\n",
              "      <th>0</th>\n",
              "      <td>TA-00002</td>\n",
              "      <td>S-0066</td>\n",
              "      <td>2013-07-07</td>\n",
              "      <td>0</td>\n",
              "      <td>0</td>\n",
              "      <td>Yes</td>\n",
              "      <td>1</td>\n",
              "      <td>21.905933</td>\n",
              "    </tr>\n",
              "    <tr>\n",
              "      <th>1</th>\n",
              "      <td>TA-00002</td>\n",
              "      <td>S-0066</td>\n",
              "      <td>2013-07-07</td>\n",
              "      <td>0</td>\n",
              "      <td>0</td>\n",
              "      <td>Yes</td>\n",
              "      <td>2</td>\n",
              "      <td>12.341214</td>\n",
              "    </tr>\n",
              "    <tr>\n",
              "      <th>2</th>\n",
              "      <td>TA-00002</td>\n",
              "      <td>S-0066</td>\n",
              "      <td>2013-07-07</td>\n",
              "      <td>0</td>\n",
              "      <td>0</td>\n",
              "      <td>Yes</td>\n",
              "      <td>5</td>\n",
              "      <td>6.601826</td>\n",
              "    </tr>\n",
              "    <tr>\n",
              "      <th>3</th>\n",
              "      <td>TA-00002</td>\n",
              "      <td>S-0066</td>\n",
              "      <td>2013-07-07</td>\n",
              "      <td>0</td>\n",
              "      <td>0</td>\n",
              "      <td>Yes</td>\n",
              "      <td>10</td>\n",
              "      <td>4.687770</td>\n",
              "    </tr>\n",
              "    <tr>\n",
              "      <th>4</th>\n",
              "      <td>TA-00002</td>\n",
              "      <td>S-0066</td>\n",
              "      <td>2013-07-07</td>\n",
              "      <td>0</td>\n",
              "      <td>0</td>\n",
              "      <td>Yes</td>\n",
              "      <td>25</td>\n",
              "      <td>3.541561</td>\n",
              "    </tr>\n",
              "  </tbody>\n",
              "</table>\n",
              "</div>"
            ],
            "text/plain": [
              "  tube_assembly_id supplier  quote_date  ...  bracket_pricing  quantity       cost\n",
              "0         TA-00002   S-0066  2013-07-07  ...              Yes         1  21.905933\n",
              "1         TA-00002   S-0066  2013-07-07  ...              Yes         2  12.341214\n",
              "2         TA-00002   S-0066  2013-07-07  ...              Yes         5   6.601826\n",
              "3         TA-00002   S-0066  2013-07-07  ...              Yes        10   4.687770\n",
              "4         TA-00002   S-0066  2013-07-07  ...              Yes        25   3.541561\n",
              "\n",
              "[5 rows x 8 columns]"
            ]
          },
          "metadata": {
            "tags": []
          },
          "execution_count": 10
        }
      ]
    },
    {
      "cell_type": "code",
      "metadata": {
        "id": "u2c1TryVruId",
        "colab_type": "code",
        "colab": {
          "base_uri": "https://localhost:8080/",
          "height": 200
        },
        "outputId": "ce4f4aa4-6d87-4421-8a06-65ef614941ec"
      },
      "source": [
        "test.head()"
      ],
      "execution_count": 11,
      "outputs": [
        {
          "output_type": "execute_result",
          "data": {
            "text/html": [
              "<div>\n",
              "<style scoped>\n",
              "    .dataframe tbody tr th:only-of-type {\n",
              "        vertical-align: middle;\n",
              "    }\n",
              "\n",
              "    .dataframe tbody tr th {\n",
              "        vertical-align: top;\n",
              "    }\n",
              "\n",
              "    .dataframe thead th {\n",
              "        text-align: right;\n",
              "    }\n",
              "</style>\n",
              "<table border=\"1\" class=\"dataframe\">\n",
              "  <thead>\n",
              "    <tr style=\"text-align: right;\">\n",
              "      <th></th>\n",
              "      <th>id</th>\n",
              "      <th>tube_assembly_id</th>\n",
              "      <th>supplier</th>\n",
              "      <th>quote_date</th>\n",
              "      <th>annual_usage</th>\n",
              "      <th>min_order_quantity</th>\n",
              "      <th>bracket_pricing</th>\n",
              "      <th>quantity</th>\n",
              "    </tr>\n",
              "  </thead>\n",
              "  <tbody>\n",
              "    <tr>\n",
              "      <th>0</th>\n",
              "      <td>1</td>\n",
              "      <td>TA-00001</td>\n",
              "      <td>S-0066</td>\n",
              "      <td>2013-06-23</td>\n",
              "      <td>0</td>\n",
              "      <td>0</td>\n",
              "      <td>Yes</td>\n",
              "      <td>1</td>\n",
              "    </tr>\n",
              "    <tr>\n",
              "      <th>1</th>\n",
              "      <td>2</td>\n",
              "      <td>TA-00001</td>\n",
              "      <td>S-0066</td>\n",
              "      <td>2013-06-23</td>\n",
              "      <td>0</td>\n",
              "      <td>0</td>\n",
              "      <td>Yes</td>\n",
              "      <td>2</td>\n",
              "    </tr>\n",
              "    <tr>\n",
              "      <th>2</th>\n",
              "      <td>3</td>\n",
              "      <td>TA-00001</td>\n",
              "      <td>S-0066</td>\n",
              "      <td>2013-06-23</td>\n",
              "      <td>0</td>\n",
              "      <td>0</td>\n",
              "      <td>Yes</td>\n",
              "      <td>5</td>\n",
              "    </tr>\n",
              "    <tr>\n",
              "      <th>3</th>\n",
              "      <td>4</td>\n",
              "      <td>TA-00001</td>\n",
              "      <td>S-0066</td>\n",
              "      <td>2013-06-23</td>\n",
              "      <td>0</td>\n",
              "      <td>0</td>\n",
              "      <td>Yes</td>\n",
              "      <td>10</td>\n",
              "    </tr>\n",
              "    <tr>\n",
              "      <th>4</th>\n",
              "      <td>5</td>\n",
              "      <td>TA-00001</td>\n",
              "      <td>S-0066</td>\n",
              "      <td>2013-06-23</td>\n",
              "      <td>0</td>\n",
              "      <td>0</td>\n",
              "      <td>Yes</td>\n",
              "      <td>25</td>\n",
              "    </tr>\n",
              "  </tbody>\n",
              "</table>\n",
              "</div>"
            ],
            "text/plain": [
              "   id tube_assembly_id supplier  ... min_order_quantity  bracket_pricing  quantity\n",
              "0   1         TA-00001   S-0066  ...                  0              Yes         1\n",
              "1   2         TA-00001   S-0066  ...                  0              Yes         2\n",
              "2   3         TA-00001   S-0066  ...                  0              Yes         5\n",
              "3   4         TA-00001   S-0066  ...                  0              Yes        10\n",
              "4   5         TA-00001   S-0066  ...                  0              Yes        25\n",
              "\n",
              "[5 rows x 8 columns]"
            ]
          },
          "metadata": {
            "tags": []
          },
          "execution_count": 11
        }
      ]
    },
    {
      "cell_type": "code",
      "metadata": {
        "id": "5Kzo-XzmtWHl",
        "colab_type": "code",
        "colab": {}
      },
      "source": [
        "#We are going to convert quote_date to a datetime in each data frame.\n",
        "\n",
        "train_and_val['quote_date'] = pd.to_datetime(train_and_val['quote_date'], infer_datetime_format=True)\n",
        "\n",
        "test['quote_date'] = pd.to_datetime(test['quote_date'], infer_datetime_format=True)"
      ],
      "execution_count": 0,
      "outputs": []
    },
    {
      "cell_type": "code",
      "metadata": {
        "id": "HJ1vUtisuKHC",
        "colab_type": "code",
        "colab": {
          "base_uri": "https://localhost:8080/",
          "height": 141
        },
        "outputId": "42e7b34c-f63f-44c8-d775-945e2cfe3578"
      },
      "source": [
        "train_and_val['quote_date'].describe()"
      ],
      "execution_count": 13,
      "outputs": [
        {
          "output_type": "execute_result",
          "data": {
            "text/plain": [
              "count                   30213\n",
              "unique                   1781\n",
              "top       2013-10-01 00:00:00\n",
              "freq                     2877\n",
              "first     1982-09-22 00:00:00\n",
              "last      2017-01-01 00:00:00\n",
              "Name: quote_date, dtype: object"
            ]
          },
          "metadata": {
            "tags": []
          },
          "execution_count": 13
        }
      ]
    },
    {
      "cell_type": "code",
      "metadata": {
        "id": "V9PFe3kvuQmy",
        "colab_type": "code",
        "colab": {
          "base_uri": "https://localhost:8080/",
          "height": 141
        },
        "outputId": "df495299-ee3b-4703-e2a6-89ef757603bd"
      },
      "source": [
        "test['quote_date'].describe()"
      ],
      "execution_count": 14,
      "outputs": [
        {
          "output_type": "execute_result",
          "data": {
            "text/plain": [
              "count                   30235\n",
              "unique                   1778\n",
              "top       2013-09-01 00:00:00\n",
              "freq                     2992\n",
              "first     1985-11-16 00:00:00\n",
              "last      2017-01-01 00:00:00\n",
              "Name: quote_date, dtype: object"
            ]
          },
          "metadata": {
            "tags": []
          },
          "execution_count": 14
        }
      ]
    },
    {
      "cell_type": "code",
      "metadata": {
        "id": "NNKVdUKuxyJW",
        "colab_type": "code",
        "colab": {}
      },
      "source": [
        "#These are highly overlapping date ranges. With this, their goal isn't to forecast from earlier information to later information. \n",
        "#Instead their goal might be to use information about tube assemblies that you have seen before to make predictions for tube assemblies that are unknown."
      ],
      "execution_count": 0,
      "outputs": []
    },
    {
      "cell_type": "code",
      "metadata": {
        "id": "ekwZyGRRy1t2",
        "colab_type": "code",
        "colab": {
          "base_uri": "https://localhost:8080/",
          "height": 35
        },
        "outputId": "c58f3b6b-6a65-4d46-b09a-55aa1af25149"
      },
      "source": [
        "#Does the test set have different tube assemblies?\n",
        "\n",
        "train_and_val['tube_assembly_id'].nunique()"
      ],
      "execution_count": 15,
      "outputs": [
        {
          "output_type": "execute_result",
          "data": {
            "text/plain": [
              "8855"
            ]
          },
          "metadata": {
            "tags": []
          },
          "execution_count": 15
        }
      ]
    },
    {
      "cell_type": "code",
      "metadata": {
        "id": "lih6e8MbzIRT",
        "colab_type": "code",
        "colab": {
          "base_uri": "https://localhost:8080/",
          "height": 35
        },
        "outputId": "9d418f13-d4a8-40e8-e7ed-bc08f081c976"
      },
      "source": [
        "test['tube_assembly_id'].nunique()"
      ],
      "execution_count": 16,
      "outputs": [
        {
          "output_type": "execute_result",
          "data": {
            "text/plain": [
              "8856"
            ]
          },
          "metadata": {
            "tags": []
          },
          "execution_count": 16
        }
      ]
    },
    {
      "cell_type": "code",
      "metadata": {
        "id": "qnhm_POB0O1L",
        "colab_type": "code",
        "colab": {
          "base_uri": "https://localhost:8080/",
          "height": 35
        },
        "outputId": "98e531a2-37b0-434e-e27a-61ccc7662f7e"
      },
      "source": [
        "train_and_val_tube_assemblies = train_and_val['tube_assembly_id'].unique()\n",
        "\n",
        "test_tube_assemblies = test['tube_assembly_id'].unique()\n",
        "\n",
        "len(train_and_val_tube_assemblies), len(test_tube_assemblies)"
      ],
      "execution_count": 17,
      "outputs": [
        {
          "output_type": "execute_result",
          "data": {
            "text/plain": [
              "(8855, 8856)"
            ]
          },
          "metadata": {
            "tags": []
          },
          "execution_count": 17
        }
      ]
    },
    {
      "cell_type": "code",
      "metadata": {
        "id": "FS9xrLtM1IvL",
        "colab_type": "code",
        "colab": {
          "base_uri": "https://localhost:8080/",
          "height": 35
        },
        "outputId": "5961de49-825e-4907-f615-5c4a975c76de"
      },
      "source": [
        "#Show me the intersection.\n",
        "\n",
        "set(train_and_val_tube_assemblies) & set(test_tube_assemblies)"
      ],
      "execution_count": 18,
      "outputs": [
        {
          "output_type": "execute_result",
          "data": {
            "text/plain": [
              "set()"
            ]
          },
          "metadata": {
            "tags": []
          },
          "execution_count": 18
        }
      ]
    },
    {
      "cell_type": "code",
      "metadata": {
        "id": "b3Udbwu6zQCv",
        "colab_type": "code",
        "colab": {}
      },
      "source": [
        "#We notice that each set has almost the exact same number. But, do they have overlap?"
      ],
      "execution_count": 0,
      "outputs": []
    },
    {
      "cell_type": "code",
      "metadata": {
        "id": "S4Y4NrUbzsHl",
        "colab_type": "code",
        "colab": {}
      },
      "source": [
        "#From previous information, we know that there is no overlap."
      ],
      "execution_count": 0,
      "outputs": []
    },
    {
      "cell_type": "code",
      "metadata": {
        "id": "JESokRCLzidT",
        "colab_type": "code",
        "colab": {}
      },
      "source": [
        "#Make the validation set like the test set."
      ],
      "execution_count": 0,
      "outputs": []
    },
    {
      "cell_type": "code",
      "metadata": {
        "id": "_HKGYf2HW-NV",
        "colab_type": "code",
        "colab": {
          "base_uri": "https://localhost:8080/",
          "height": 52
        },
        "outputId": "fc82fc12-a69e-4c33-8720-90739241b3e7"
      },
      "source": [
        "train_and_val_tube_assemblies"
      ],
      "execution_count": 19,
      "outputs": [
        {
          "output_type": "execute_result",
          "data": {
            "text/plain": [
              "array(['TA-00002', 'TA-00004', 'TA-00005', ..., 'TA-21195', 'TA-21196',\n",
              "       'TA-21197'], dtype=object)"
            ]
          },
          "metadata": {
            "tags": []
          },
          "execution_count": 19
        }
      ]
    },
    {
      "cell_type": "code",
      "metadata": {
        "id": "3-MFlGpYXCQG",
        "colab_type": "code",
        "colab": {}
      },
      "source": [
        "from sklearn.model_selection import train_test_split\n",
        "\n",
        "train_tube_assemblies, val_tube_assemblies = train_test_split(train_and_val_tube_assemblies, random_state=42)"
      ],
      "execution_count": 0,
      "outputs": []
    },
    {
      "cell_type": "code",
      "metadata": {
        "id": "PXmWOyubX17m",
        "colab_type": "code",
        "colab": {
          "base_uri": "https://localhost:8080/",
          "height": 35
        },
        "outputId": "d261af41-56df-462a-e7d5-e2c9db248cad"
      },
      "source": [
        "len(train_tube_assemblies), len(val_tube_assemblies)"
      ],
      "execution_count": 21,
      "outputs": [
        {
          "output_type": "execute_result",
          "data": {
            "text/plain": [
              "(6641, 2214)"
            ]
          },
          "metadata": {
            "tags": []
          },
          "execution_count": 21
        }
      ]
    },
    {
      "cell_type": "code",
      "metadata": {
        "id": "eIF9OC6SYUhk",
        "colab_type": "code",
        "colab": {
          "base_uri": "https://localhost:8080/",
          "height": 35
        },
        "outputId": "5360b06f-f967-4caa-d404-ebe782312b2a"
      },
      "source": [
        "#Verifying that there is no intersection.\n",
        "\n",
        "set(train_tube_assemblies) & set(val_tube_assemblies)\n",
        "\n",
        "#An empty set means that we've done it correctly."
      ],
      "execution_count": 22,
      "outputs": [
        {
          "output_type": "execute_result",
          "data": {
            "text/plain": [
              "set()"
            ]
          },
          "metadata": {
            "tags": []
          },
          "execution_count": 22
        }
      ]
    },
    {
      "cell_type": "code",
      "metadata": {
        "id": "-_79BMkzYv-M",
        "colab_type": "code",
        "colab": {
          "base_uri": "https://localhost:8080/",
          "height": 35
        },
        "outputId": "6ded57c9-1e63-4e17-c03e-f7327237dd2d"
      },
      "source": [
        "train = train_and_val[train_and_val.tube_assembly_id.isin(train_tube_assemblies)]\n",
        "\n",
        "val = train_and_val[train_and_val.tube_assembly_id.isin(val_tube_assemblies)]\n",
        "\n",
        "train.shape, val.shape, train_and_val.shape"
      ],
      "execution_count": 23,
      "outputs": [
        {
          "output_type": "execute_result",
          "data": {
            "text/plain": [
              "((22628, 8), (7585, 8), (30213, 8))"
            ]
          },
          "metadata": {
            "tags": []
          },
          "execution_count": 23
        }
      ]
    },
    {
      "cell_type": "code",
      "metadata": {
        "id": "Gb0663olax88",
        "colab_type": "code",
        "colab": {
          "base_uri": "https://localhost:8080/",
          "height": 35
        },
        "outputId": "09bea448-b91f-4f6d-e9b3-14e241731f0f"
      },
      "source": [
        "len(train) + len(val) == len(train_and_val)"
      ],
      "execution_count": 24,
      "outputs": [
        {
          "output_type": "execute_result",
          "data": {
            "text/plain": [
              "True"
            ]
          },
          "metadata": {
            "tags": []
          },
          "execution_count": 24
        }
      ]
    },
    {
      "cell_type": "markdown",
      "metadata": {
        "id": "Ir7mdTT3cCIQ",
        "colab_type": "text"
      },
      "source": [
        "**Establishing a baseline**"
      ]
    },
    {
      "cell_type": "code",
      "metadata": {
        "id": "2iP_x1N6bBw9",
        "colab_type": "code",
        "colab": {
          "base_uri": "https://localhost:8080/",
          "height": 291
        },
        "outputId": "bc8a89e4-1fe1-49aa-bea9-5191fb3449d4"
      },
      "source": [
        "#Numeric features of the train set.\n",
        "\n",
        "train.describe()"
      ],
      "execution_count": 25,
      "outputs": [
        {
          "output_type": "execute_result",
          "data": {
            "text/html": [
              "<div>\n",
              "<style scoped>\n",
              "    .dataframe tbody tr th:only-of-type {\n",
              "        vertical-align: middle;\n",
              "    }\n",
              "\n",
              "    .dataframe tbody tr th {\n",
              "        vertical-align: top;\n",
              "    }\n",
              "\n",
              "    .dataframe thead th {\n",
              "        text-align: right;\n",
              "    }\n",
              "</style>\n",
              "<table border=\"1\" class=\"dataframe\">\n",
              "  <thead>\n",
              "    <tr style=\"text-align: right;\">\n",
              "      <th></th>\n",
              "      <th>annual_usage</th>\n",
              "      <th>min_order_quantity</th>\n",
              "      <th>quantity</th>\n",
              "      <th>cost</th>\n",
              "    </tr>\n",
              "  </thead>\n",
              "  <tbody>\n",
              "    <tr>\n",
              "      <th>count</th>\n",
              "      <td>22628.000000</td>\n",
              "      <td>22628.000000</td>\n",
              "      <td>22628.000000</td>\n",
              "      <td>22628.000000</td>\n",
              "    </tr>\n",
              "    <tr>\n",
              "      <th>mean</th>\n",
              "      <td>116.908830</td>\n",
              "      <td>2.130193</td>\n",
              "      <td>38.267677</td>\n",
              "      <td>13.450500</td>\n",
              "    </tr>\n",
              "    <tr>\n",
              "      <th>std</th>\n",
              "      <td>1678.532065</td>\n",
              "      <td>13.262875</td>\n",
              "      <td>71.313125</td>\n",
              "      <td>27.622252</td>\n",
              "    </tr>\n",
              "    <tr>\n",
              "      <th>min</th>\n",
              "      <td>0.000000</td>\n",
              "      <td>0.000000</td>\n",
              "      <td>1.000000</td>\n",
              "      <td>0.523027</td>\n",
              "    </tr>\n",
              "    <tr>\n",
              "      <th>25%</th>\n",
              "      <td>0.000000</td>\n",
              "      <td>0.000000</td>\n",
              "      <td>2.000000</td>\n",
              "      <td>3.855934</td>\n",
              "    </tr>\n",
              "    <tr>\n",
              "      <th>50%</th>\n",
              "      <td>0.000000</td>\n",
              "      <td>0.000000</td>\n",
              "      <td>10.000000</td>\n",
              "      <td>6.507236</td>\n",
              "    </tr>\n",
              "    <tr>\n",
              "      <th>75%</th>\n",
              "      <td>2.000000</td>\n",
              "      <td>0.000000</td>\n",
              "      <td>40.000000</td>\n",
              "      <td>13.451951</td>\n",
              "    </tr>\n",
              "    <tr>\n",
              "      <th>max</th>\n",
              "      <td>150000.000000</td>\n",
              "      <td>535.000000</td>\n",
              "      <td>2500.000000</td>\n",
              "      <td>1000.000000</td>\n",
              "    </tr>\n",
              "  </tbody>\n",
              "</table>\n",
              "</div>"
            ],
            "text/plain": [
              "        annual_usage  min_order_quantity      quantity          cost\n",
              "count   22628.000000        22628.000000  22628.000000  22628.000000\n",
              "mean      116.908830            2.130193     38.267677     13.450500\n",
              "std      1678.532065           13.262875     71.313125     27.622252\n",
              "min         0.000000            0.000000      1.000000      0.523027\n",
              "25%         0.000000            0.000000      2.000000      3.855934\n",
              "50%         0.000000            0.000000     10.000000      6.507236\n",
              "75%         2.000000            0.000000     40.000000     13.451951\n",
              "max    150000.000000          535.000000   2500.000000   1000.000000"
            ]
          },
          "metadata": {
            "tags": []
          },
          "execution_count": 25
        }
      ]
    },
    {
      "cell_type": "code",
      "metadata": {
        "id": "8CdLd89acUG9",
        "colab_type": "code",
        "colab": {
          "base_uri": "https://localhost:8080/",
          "height": 230
        },
        "outputId": "93d3db71-b164-4ff8-82ea-e22e793d8fa1"
      },
      "source": [
        "#Non-numeric features of the train set.\n",
        "\n",
        "train.describe(exclude='number')"
      ],
      "execution_count": 26,
      "outputs": [
        {
          "output_type": "execute_result",
          "data": {
            "text/html": [
              "<div>\n",
              "<style scoped>\n",
              "    .dataframe tbody tr th:only-of-type {\n",
              "        vertical-align: middle;\n",
              "    }\n",
              "\n",
              "    .dataframe tbody tr th {\n",
              "        vertical-align: top;\n",
              "    }\n",
              "\n",
              "    .dataframe thead th {\n",
              "        text-align: right;\n",
              "    }\n",
              "</style>\n",
              "<table border=\"1\" class=\"dataframe\">\n",
              "  <thead>\n",
              "    <tr style=\"text-align: right;\">\n",
              "      <th></th>\n",
              "      <th>tube_assembly_id</th>\n",
              "      <th>supplier</th>\n",
              "      <th>quote_date</th>\n",
              "      <th>bracket_pricing</th>\n",
              "    </tr>\n",
              "  </thead>\n",
              "  <tbody>\n",
              "    <tr>\n",
              "      <th>count</th>\n",
              "      <td>22628</td>\n",
              "      <td>22628</td>\n",
              "      <td>22628</td>\n",
              "      <td>22628</td>\n",
              "    </tr>\n",
              "    <tr>\n",
              "      <th>unique</th>\n",
              "      <td>6641</td>\n",
              "      <td>52</td>\n",
              "      <td>1510</td>\n",
              "      <td>2</td>\n",
              "    </tr>\n",
              "    <tr>\n",
              "      <th>top</th>\n",
              "      <td>TA-04750</td>\n",
              "      <td>S-0066</td>\n",
              "      <td>2013-10-01 00:00:00</td>\n",
              "      <td>Yes</td>\n",
              "    </tr>\n",
              "    <tr>\n",
              "      <th>freq</th>\n",
              "      <td>12</td>\n",
              "      <td>15391</td>\n",
              "      <td>2077</td>\n",
              "      <td>19699</td>\n",
              "    </tr>\n",
              "    <tr>\n",
              "      <th>first</th>\n",
              "      <td>NaN</td>\n",
              "      <td>NaN</td>\n",
              "      <td>1987-04-10 00:00:00</td>\n",
              "      <td>NaN</td>\n",
              "    </tr>\n",
              "    <tr>\n",
              "      <th>last</th>\n",
              "      <td>NaN</td>\n",
              "      <td>NaN</td>\n",
              "      <td>2017-01-01 00:00:00</td>\n",
              "      <td>NaN</td>\n",
              "    </tr>\n",
              "  </tbody>\n",
              "</table>\n",
              "</div>"
            ],
            "text/plain": [
              "       tube_assembly_id supplier           quote_date bracket_pricing\n",
              "count             22628    22628                22628           22628\n",
              "unique             6641       52                 1510               2\n",
              "top            TA-04750   S-0066  2013-10-01 00:00:00             Yes\n",
              "freq                 12    15391                 2077           19699\n",
              "first               NaN      NaN  1987-04-10 00:00:00             NaN\n",
              "last                NaN      NaN  2017-01-01 00:00:00             NaN"
            ]
          },
          "metadata": {
            "tags": []
          },
          "execution_count": 26
        }
      ]
    },
    {
      "cell_type": "code",
      "metadata": {
        "id": "7Eo9d3Xfepvx",
        "colab_type": "code",
        "colab": {}
      },
      "source": [
        "import numpy as np"
      ],
      "execution_count": 0,
      "outputs": []
    },
    {
      "cell_type": "code",
      "metadata": {
        "id": "O_7p-Txxcg_I",
        "colab_type": "code",
        "colab": {}
      },
      "source": [
        "target = 'cost'\n",
        "\n",
        "y_train = train[target]\n",
        "\n",
        "y_val = val[target]\n",
        "\n",
        "#We'll use the mean to establish a target baseline.\n",
        "\n",
        "y_pred = np.full_like(y_val, fill_value=y_train.mean())"
      ],
      "execution_count": 0,
      "outputs": []
    },
    {
      "cell_type": "code",
      "metadata": {
        "id": "T5Y-Lm64fcal",
        "colab_type": "code",
        "colab": {
          "base_uri": "https://localhost:8080/",
          "height": 35
        },
        "outputId": "26a5ddae-b12b-4446-bf92-0040fcc235dc"
      },
      "source": [
        "#Verify the length of y_pred.\n",
        "\n",
        "len(y_pred) == len(y_val)"
      ],
      "execution_count": 29,
      "outputs": [
        {
          "output_type": "execute_result",
          "data": {
            "text/plain": [
              "True"
            ]
          },
          "metadata": {
            "tags": []
          },
          "execution_count": 29
        }
      ]
    },
    {
      "cell_type": "code",
      "metadata": {
        "id": "PMzM9345fj60",
        "colab_type": "code",
        "colab": {
          "base_uri": "https://localhost:8080/",
          "height": 35
        },
        "outputId": "76811a3c-78b7-4e5a-d46c-1808ddf55b60"
      },
      "source": [
        "print('Validation RMSLE for Mean Baseline:', rmsle(y_val, y_pred))\n",
        "\n",
        "#This is the error of our baseline. Now, we are looking to make a model as quickly as we can that produces an error lower than that.\n",
        "\n",
        "#Overall, a lower RMSLE is better."
      ],
      "execution_count": 30,
      "outputs": [
        {
          "output_type": "stream",
          "text": [
            "Validation RMSLE for Mean Baseline: 0.9418101276064408\n"
          ],
          "name": "stdout"
        }
      ]
    },
    {
      "cell_type": "code",
      "metadata": {
        "id": "e3AnWSKzkhUy",
        "colab_type": "code",
        "colab": {
          "base_uri": "https://localhost:8080/",
          "height": 35
        },
        "outputId": "53d4e12b-6248-4bdf-cd1c-2b5edad0914c"
      },
      "source": [
        "from sklearn.metrics import r2_score\n",
        "\n",
        "print('Validation R^2 for Mean Baseline:', r2_score(y_val, y_pred))"
      ],
      "execution_count": 31,
      "outputs": [
        {
          "output_type": "stream",
          "text": [
            "Validation R^2 for Mean Baseline: -4.701447715138585e-06\n"
          ],
          "name": "stdout"
        }
      ]
    },
    {
      "cell_type": "markdown",
      "metadata": {
        "id": "xi0yKFT8gqN7",
        "colab_type": "text"
      },
      "source": [
        "**Let's develop a first model that performs better than our basic baseline.**"
      ]
    },
    {
      "cell_type": "code",
      "metadata": {
        "id": "9_coXXYshISW",
        "colab_type": "code",
        "colab": {
          "base_uri": "https://localhost:8080/",
          "height": 35
        },
        "outputId": "880b5150-e4ee-4886-883a-dbdf2f478768"
      },
      "source": [
        "train.cost.mean()"
      ],
      "execution_count": 32,
      "outputs": [
        {
          "output_type": "execute_result",
          "data": {
            "text/plain": [
              "13.450499769517025"
            ]
          },
          "metadata": {
            "tags": []
          },
          "execution_count": 32
        }
      ]
    },
    {
      "cell_type": "code",
      "metadata": {
        "id": "ad46DCgjhK_Y",
        "colab_type": "code",
        "colab": {
          "base_uri": "https://localhost:8080/",
          "height": 1000
        },
        "outputId": "21d623d2-99c9-40b4-856d-b827bc9f59e8"
      },
      "source": [
        "train.groupby('quantity').cost.mean()"
      ],
      "execution_count": 33,
      "outputs": [
        {
          "output_type": "execute_result",
          "data": {
            "text/plain": [
              "quantity\n",
              "1       26.602862\n",
              "2       19.222738\n",
              "3       37.130535\n",
              "4       26.695014\n",
              "5       12.671149\n",
              "6       10.638119\n",
              "7       31.482244\n",
              "8       16.170021\n",
              "9       21.015575\n",
              "10       7.356611\n",
              "11      23.711489\n",
              "12      14.262210\n",
              "13       7.798112\n",
              "14       9.330717\n",
              "15      13.173706\n",
              "16      10.771868\n",
              "17      13.403166\n",
              "18      11.248039\n",
              "19       7.092018\n",
              "20       5.070719\n",
              "21       7.277866\n",
              "22       6.174626\n",
              "24       9.232764\n",
              "25       5.098735\n",
              "26       4.847274\n",
              "27       5.278957\n",
              "28       5.888784\n",
              "29       5.586375\n",
              "30       8.083138\n",
              "31       4.047340\n",
              "          ...    \n",
              "167     19.449375\n",
              "170      7.603367\n",
              "180      2.601225\n",
              "185     13.746154\n",
              "195      1.627505\n",
              "200      3.792344\n",
              "205      1.941877\n",
              "210      3.741869\n",
              "225      7.873227\n",
              "240      2.573405\n",
              "250      4.077934\n",
              "253     11.945605\n",
              "285      2.107410\n",
              "290      1.620549\n",
              "300      5.785755\n",
              "325      3.994341\n",
              "350      4.594571\n",
              "400      4.321465\n",
              "480      4.932591\n",
              "500      3.597759\n",
              "535      6.357005\n",
              "550      1.414677\n",
              "574      1.926576\n",
              "666      2.871085\n",
              "700      0.817925\n",
              "750      1.980826\n",
              "829      3.076957\n",
              "1034     2.590097\n",
              "1045    11.492686\n",
              "2500     1.571863\n",
              "Name: cost, Length: 109, dtype: float64"
            ]
          },
          "metadata": {
            "tags": []
          },
          "execution_count": 33
        }
      ]
    },
    {
      "cell_type": "code",
      "metadata": {
        "id": "ip2PIU6ygw-5",
        "colab_type": "code",
        "colab": {}
      },
      "source": [
        "#We'll start with using just the quantity feature."
      ],
      "execution_count": 0,
      "outputs": []
    },
    {
      "cell_type": "code",
      "metadata": {
        "id": "p3SBOZYri79d",
        "colab_type": "code",
        "colab": {}
      },
      "source": [
        "#We've already defined target above.\n",
        "\n",
        "features = ['quantity']\n",
        "X_train = train[features]\n",
        "X_val = val[features]"
      ],
      "execution_count": 0,
      "outputs": []
    },
    {
      "cell_type": "code",
      "metadata": {
        "id": "mBEko1WTjPCW",
        "colab_type": "code",
        "colab": {
          "base_uri": "https://localhost:8080/",
          "height": 35
        },
        "outputId": "7e57b0a0-879c-47f8-b405-11dd33318d9d"
      },
      "source": [
        "#Because we are projecting how many dollars(continuous variable), this is a regression problem.\n",
        "\n",
        "from sklearn.ensemble import RandomForestRegressor\n",
        "\n",
        "model = RandomForestRegressor(n_estimators=100, random_state=42, n_jobs=-1)\n",
        "\n",
        "model.fit(X_train, y_train)\n",
        "\n",
        "r2 = model.score(X_val, y_val)\n",
        "\n",
        "print('Validation R^2:', r2)"
      ],
      "execution_count": 35,
      "outputs": [
        {
          "output_type": "stream",
          "text": [
            "Validation R^2: 0.08879518736792147\n"
          ],
          "name": "stdout"
        }
      ]
    },
    {
      "cell_type": "code",
      "metadata": {
        "id": "N7IaqYNLlqWj",
        "colab_type": "code",
        "colab": {
          "base_uri": "https://localhost:8080/",
          "height": 52
        },
        "outputId": "47b5ab05-2d6a-4b0b-f8c0-88dffc926d7c"
      },
      "source": [
        "y_pred = model.predict(X_val)\n",
        "\n",
        "print(f'Validation RMSLE for Random Forest with {features}:')\n",
        "print(rmsle(y_val, y_pred))"
      ],
      "execution_count": 36,
      "outputs": [
        {
          "output_type": "stream",
          "text": [
            "Validation RMSLE for Random Forest with ['quantity']:\n",
            "0.6908805822519186\n"
          ],
          "name": "stdout"
        }
      ]
    },
    {
      "cell_type": "code",
      "metadata": {
        "id": "7MQZBYBAm1F9",
        "colab_type": "code",
        "colab": {}
      },
      "source": [
        "#Before we were off by .94 log dollars on average, and now we are off by only .69."
      ],
      "execution_count": 0,
      "outputs": []
    },
    {
      "cell_type": "code",
      "metadata": {
        "id": "-PptzWjip2Wv",
        "colab_type": "code",
        "colab": {
          "base_uri": "https://localhost:8080/",
          "height": 283
        },
        "outputId": "0e41b9d8-939f-4d59-d218-14cb9de675c1"
      },
      "source": [
        "#One way we can get a better error here is by log transforming the regression target with our right skewed distribution.\n",
        "\n",
        "#What does our distribution look like?\n",
        "\n",
        "%matplotlib inline\n",
        "import matplotlib.pyplot as plt\n",
        "import seaborn as sns\n",
        "\n",
        "sns.distplot(y_train);"
      ],
      "execution_count": 37,
      "outputs": [
        {
          "output_type": "display_data",
          "data": {
            "image/png": "[encoded data removed]",
            "text/plain": [
              "<Figure size 432x288 with 1 Axes>"
            ]
          },
          "metadata": {
            "tags": []
          }
        }
      ]
    },
    {
      "cell_type": "code",
      "metadata": {
        "id": "K9CMgQ1Kr5-b",
        "colab_type": "code",
        "colab": {
          "base_uri": "https://localhost:8080/",
          "height": 35
        },
        "outputId": "c11c9b57-4264-4d2c-d2c3-cce0054a4c84"
      },
      "source": [
        "#Use numpy for exponents and log functions.\n",
        "\n",
        "#Example\n",
        "\n",
        "2 ** 3"
      ],
      "execution_count": 38,
      "outputs": [
        {
          "output_type": "execute_result",
          "data": {
            "text/plain": [
              "8"
            ]
          },
          "metadata": {
            "tags": []
          },
          "execution_count": 38
        }
      ]
    },
    {
      "cell_type": "code",
      "metadata": {
        "id": "fKi7b9RXsCRO",
        "colab_type": "code",
        "colab": {
          "base_uri": "https://localhost:8080/",
          "height": 35
        },
        "outputId": "5aeb32b4-7a7c-41b6-9ac2-dad99daf5ee0"
      },
      "source": [
        "#We can see that this undoes the above operation.\n",
        "\n",
        "np.log2(8)"
      ],
      "execution_count": 39,
      "outputs": [
        {
          "output_type": "execute_result",
          "data": {
            "text/plain": [
              "3.0"
            ]
          },
          "metadata": {
            "tags": []
          },
          "execution_count": 39
        }
      ]
    },
    {
      "cell_type": "markdown",
      "metadata": {
        "id": "77AnyYV7tHjJ",
        "colab_type": "text"
      },
      "source": [
        "**Let's go ahead and apply this to our training labels.**"
      ]
    },
    {
      "cell_type": "code",
      "metadata": {
        "id": "GQb8vgBsspaO",
        "colab_type": "code",
        "colab": {
          "base_uri": "https://localhost:8080/",
          "height": 283
        },
        "outputId": "e7b5bc9b-ba9a-459b-8546-e679480256a2"
      },
      "source": [
        "y_train_log = np.log1p(y_train)\n",
        "\n",
        "#Let's go ahead and plot this.\n",
        "\n",
        "sns.distplot(y_train_log);\n",
        "\n",
        "#It's not a perfect bell curve by any means, but it will certainly make life easier for us."
      ],
      "execution_count": 40,
      "outputs": [
        {
          "output_type": "display_data",
          "data": {
            "image/png": "[encoded data removed]",
            "text/plain": [
              "<Figure size 432x288 with 1 Axes>"
            ]
          },
          "metadata": {
            "tags": []
          }
        }
      ]
    },
    {
      "cell_type": "code",
      "metadata": {
        "id": "C5FwMBYsuGfd",
        "colab_type": "code",
        "colab": {
          "base_uri": "https://localhost:8080/",
          "height": 283
        },
        "outputId": "cb33efa5-b892-4a98-da84-33bf7b31f040"
      },
      "source": [
        "#We've taken the log and now we are going to exponentiate it. So, we are transforming it again. This takes us back to where we started.\n",
        "\n",
        "y_train_log_exp = np.expm1(y_train_log)\n",
        "\n",
        "#And the plot for visual verification...\n",
        "\n",
        "sns.distplot(y_train_log_exp);"
      ],
      "execution_count": 41,
      "outputs": [
        {
          "output_type": "display_data",
          "data": {
            "image/png": "[encoded data removed]",
            "text/plain": [
              "<Figure size 432x288 with 1 Axes>"
            ]
          },
          "metadata": {
            "tags": []
          }
        }
      ]
    },
    {
      "cell_type": "code",
      "metadata": {
        "id": "d3F8-FLxvfAY",
        "colab_type": "code",
        "colab": {
          "base_uri": "https://localhost:8080/",
          "height": 35
        },
        "outputId": "944aaf8d-fa16-4139-a9bf-b3341b39b101"
      },
      "source": [
        "#Let's refit our model with our log transformed target.\n",
        "\n",
        "model.fit(X_train, y_train_log)   #Training the model on log dollars.\n",
        "\n",
        "y_pred_log = model.predict(X_val) #Generating predictions in log dollars.\n",
        "\n",
        "#Converting back to the original units...\n",
        "\n",
        "y_pred = np.expm1(y_pred_log)\n",
        "\n",
        "rmsle(y_val, y_pred)"
      ],
      "execution_count": 42,
      "outputs": [
        {
          "output_type": "execute_result",
          "data": {
            "text/plain": [
              "0.622925465880199"
            ]
          },
          "metadata": {
            "tags": []
          },
          "execution_count": 42
        }
      ]
    },
    {
      "cell_type": "code",
      "metadata": {
        "id": "1LQ8ztd3w1Uk",
        "colab_type": "code",
        "colab": {}
      },
      "source": [
        "#We observe a lower error."
      ],
      "execution_count": 0,
      "outputs": []
    },
    {
      "cell_type": "markdown",
      "metadata": {
        "id": "1rSfpUsxyQAZ",
        "colab_type": "text"
      },
      "source": [
        "**RMSLE with original targets = RMSE with log-transformed targets**"
      ]
    },
    {
      "cell_type": "code",
      "metadata": {
        "id": "GK1xnp69yfYy",
        "colab_type": "code",
        "colab": {}
      },
      "source": [
        "from sklearn.metrics import mean_squared_error\n",
        "\n",
        "def rmse(y_true, y_pred):\n",
        "  return np.sqrt(mean_squared_error(y_true, y_pred))"
      ],
      "execution_count": 0,
      "outputs": []
    },
    {
      "cell_type": "code",
      "metadata": {
        "id": "Zv3q8kany40x",
        "colab_type": "code",
        "colab": {
          "base_uri": "https://localhost:8080/",
          "height": 35
        },
        "outputId": "7676256c-9af0-4e1b-9197-b35b5f934792"
      },
      "source": [
        "#Log transform of the validation targets\n",
        "\n",
        "y_val_log = np.log1p(y_val)\n",
        "\n",
        "rmse(y_val_log, y_pred_log ) #Keeping in the log dollar unit"
      ],
      "execution_count": 44,
      "outputs": [
        {
          "output_type": "execute_result",
          "data": {
            "text/plain": [
              "0.622925465880199"
            ]
          },
          "metadata": {
            "tags": []
          },
          "execution_count": 44
        }
      ]
    },
    {
      "cell_type": "markdown",
      "metadata": {
        "id": "01hnSDy81kId",
        "colab_type": "text"
      },
      "source": [
        "**Let's select some more features to use from our data.**"
      ]
    },
    {
      "cell_type": "code",
      "metadata": {
        "id": "QYLacRSQ1pTn",
        "colab_type": "code",
        "colab": {
          "base_uri": "https://localhost:8080/",
          "height": 284
        },
        "outputId": "45a67c34-935b-4b71-b4a4-dccea61532d9"
      },
      "source": [
        "!pip install category_encoders"
      ],
      "execution_count": 45,
      "outputs": [
        {
          "output_type": "stream",
          "text": [
            "Collecting category_encoders\n",
            "\u001b[?25l  Downloading https://files.pythonhosted.org/packages/6e/a1/f7a22f144f33be78afeb06bfa78478e8284a64263a3c09b1ef54e673841e/category_encoders-2.0.0-py2.py3-none-any.whl (87kB)\n",
            "\u001b[K     |████████████████████████████████| 92kB 3.5MB/s \n",
            "\u001b[?25hRequirement already satisfied: scipy>=0.19.0 in /usr/local/lib/python3.6/dist-packages (from category_encoders) (1.3.0)\n",
            "Requirement already satisfied: pandas>=0.21.1 in /usr/local/lib/python3.6/dist-packages (from category_encoders) (0.24.2)\n",
            "Requirement already satisfied: statsmodels>=0.6.1 in /usr/local/lib/python3.6/dist-packages (from category_encoders) (0.10.0)\n",
            "Requirement already satisfied: scikit-learn>=0.20.0 in /usr/local/lib/python3.6/dist-packages (from category_encoders) (0.21.2)\n",
            "Requirement already satisfied: patsy>=0.4.1 in /usr/local/lib/python3.6/dist-packages (from category_encoders) (0.5.1)\n",
            "Requirement already satisfied: numpy>=1.11.3 in /usr/local/lib/python3.6/dist-packages (from category_encoders) (1.16.4)\n",
            "Requirement already satisfied: pytz>=2011k in /usr/local/lib/python3.6/dist-packages (from pandas>=0.21.1->category_encoders) (2018.9)\n",
            "Requirement already satisfied: python-dateutil>=2.5.0 in /usr/local/lib/python3.6/dist-packages (from pandas>=0.21.1->category_encoders) (2.5.3)\n",
            "Requirement already satisfied: joblib>=0.11 in /usr/local/lib/python3.6/dist-packages (from scikit-learn>=0.20.0->category_encoders) (0.13.2)\n",
            "Requirement already satisfied: six in /usr/local/lib/python3.6/dist-packages (from patsy>=0.4.1->category_encoders) (1.12.0)\n",
            "Installing collected packages: category-encoders\n",
            "Successfully installed category-encoders-2.0.0\n"
          ],
          "name": "stdout"
        }
      ]
    },
    {
      "cell_type": "code",
      "metadata": {
        "id": "DMI9Gd3i2Sb7",
        "colab_type": "code",
        "colab": {
          "base_uri": "https://localhost:8080/",
          "height": 200
        },
        "outputId": "2e12795a-2d5a-4ab3-8d02-22ded541f0eb"
      },
      "source": [
        "#We'll remind ourselves of what features we have available to us...\n",
        "\n",
        "train.head()"
      ],
      "execution_count": 46,
      "outputs": [
        {
          "output_type": "execute_result",
          "data": {
            "text/html": [
              "<div>\n",
              "<style scoped>\n",
              "    .dataframe tbody tr th:only-of-type {\n",
              "        vertical-align: middle;\n",
              "    }\n",
              "\n",
              "    .dataframe tbody tr th {\n",
              "        vertical-align: top;\n",
              "    }\n",
              "\n",
              "    .dataframe thead th {\n",
              "        text-align: right;\n",
              "    }\n",
              "</style>\n",
              "<table border=\"1\" class=\"dataframe\">\n",
              "  <thead>\n",
              "    <tr style=\"text-align: right;\">\n",
              "      <th></th>\n",
              "      <th>tube_assembly_id</th>\n",
              "      <th>supplier</th>\n",
              "      <th>quote_date</th>\n",
              "      <th>annual_usage</th>\n",
              "      <th>min_order_quantity</th>\n",
              "      <th>bracket_pricing</th>\n",
              "      <th>quantity</th>\n",
              "      <th>cost</th>\n",
              "    </tr>\n",
              "  </thead>\n",
              "  <tbody>\n",
              "    <tr>\n",
              "      <th>8</th>\n",
              "      <td>TA-00004</td>\n",
              "      <td>S-0066</td>\n",
              "      <td>2013-07-07</td>\n",
              "      <td>0</td>\n",
              "      <td>0</td>\n",
              "      <td>Yes</td>\n",
              "      <td>1</td>\n",
              "      <td>21.972702</td>\n",
              "    </tr>\n",
              "    <tr>\n",
              "      <th>9</th>\n",
              "      <td>TA-00004</td>\n",
              "      <td>S-0066</td>\n",
              "      <td>2013-07-07</td>\n",
              "      <td>0</td>\n",
              "      <td>0</td>\n",
              "      <td>Yes</td>\n",
              "      <td>2</td>\n",
              "      <td>12.407983</td>\n",
              "    </tr>\n",
              "    <tr>\n",
              "      <th>10</th>\n",
              "      <td>TA-00004</td>\n",
              "      <td>S-0066</td>\n",
              "      <td>2013-07-07</td>\n",
              "      <td>0</td>\n",
              "      <td>0</td>\n",
              "      <td>Yes</td>\n",
              "      <td>5</td>\n",
              "      <td>6.668596</td>\n",
              "    </tr>\n",
              "    <tr>\n",
              "      <th>11</th>\n",
              "      <td>TA-00004</td>\n",
              "      <td>S-0066</td>\n",
              "      <td>2013-07-07</td>\n",
              "      <td>0</td>\n",
              "      <td>0</td>\n",
              "      <td>Yes</td>\n",
              "      <td>10</td>\n",
              "      <td>4.754539</td>\n",
              "    </tr>\n",
              "    <tr>\n",
              "      <th>12</th>\n",
              "      <td>TA-00004</td>\n",
              "      <td>S-0066</td>\n",
              "      <td>2013-07-07</td>\n",
              "      <td>0</td>\n",
              "      <td>0</td>\n",
              "      <td>Yes</td>\n",
              "      <td>25</td>\n",
              "      <td>3.608331</td>\n",
              "    </tr>\n",
              "  </tbody>\n",
              "</table>\n",
              "</div>"
            ],
            "text/plain": [
              "   tube_assembly_id supplier quote_date  ...  bracket_pricing  quantity       cost\n",
              "8          TA-00004   S-0066 2013-07-07  ...              Yes         1  21.972702\n",
              "9          TA-00004   S-0066 2013-07-07  ...              Yes         2  12.407983\n",
              "10         TA-00004   S-0066 2013-07-07  ...              Yes         5   6.668596\n",
              "11         TA-00004   S-0066 2013-07-07  ...              Yes        10   4.754539\n",
              "12         TA-00004   S-0066 2013-07-07  ...              Yes        25   3.608331\n",
              "\n",
              "[5 rows x 8 columns]"
            ]
          },
          "metadata": {
            "tags": []
          },
          "execution_count": 46
        }
      ]
    },
    {
      "cell_type": "code",
      "metadata": {
        "id": "iGE1PoNc2k98",
        "colab_type": "code",
        "colab": {}
      },
      "source": [
        "#We are going to engineer some features off of the quote date.\n",
        "\n",
        "#Let's go ahead and define a wrangle function to do that...\n",
        "\n",
        "def wrangle(X):\n",
        "  X = X.copy()\n",
        "  \n",
        "  #Engineer date features\n",
        "  \n",
        "  X['quote_date'] = pd.to_datetime(X['quote_date'], infer_datetime_format=True)\n",
        "  X['quote_date_year'] = X['quote_date'].dt.year\n",
        "  X['quote_date_month'] = X['quote_date'].dt.month\n",
        "  X = X.drop(columns='quote_date')\n",
        "  \n",
        "  #Drop tube_assembly_id because our goal is to predict unknown assemblies.\n",
        "  \n",
        "  X = X.drop(columns='tube_assembly_id')\n",
        "  \n",
        "  return X\n",
        "\n",
        "train_wrangled = wrangle(train)\n",
        "val_wrangled = wrangle(val)"
      ],
      "execution_count": 0,
      "outputs": []
    },
    {
      "cell_type": "code",
      "metadata": {
        "id": "I6mu71Y34n3T",
        "colab_type": "code",
        "colab": {
          "base_uri": "https://localhost:8080/",
          "height": 35
        },
        "outputId": "6332f7d1-7cd5-4b91-c724-c905a8c8c86c"
      },
      "source": [
        "features = train_wrangled.columns.drop(target)\n",
        "\n",
        "print('Features:', features.tolist())\n",
        "\n",
        "#These are the features we'll be using that are already conveniently available to us."
      ],
      "execution_count": 48,
      "outputs": [
        {
          "output_type": "stream",
          "text": [
            "Features: ['supplier', 'annual_usage', 'min_order_quantity', 'bracket_pricing', 'quantity', 'quote_date_year', 'quote_date_month']\n"
          ],
          "name": "stdout"
        }
      ]
    },
    {
      "cell_type": "code",
      "metadata": {
        "id": "H5TQ45uS5OYL",
        "colab_type": "code",
        "colab": {}
      },
      "source": [
        "X_train = train_wrangled[features]\n",
        "X_val = val_wrangled[features]"
      ],
      "execution_count": 0,
      "outputs": []
    },
    {
      "cell_type": "code",
      "metadata": {
        "id": "ioWStWKA5ana",
        "colab_type": "code",
        "colab": {
          "base_uri": "https://localhost:8080/",
          "height": 35
        },
        "outputId": "d4d6f958-2c11-47b8-85d3-8771352b3a4e"
      },
      "source": [
        "#Let's create a pipeline.\n",
        "\n",
        "import category_encoders as ce\n",
        "from sklearn.pipeline import make_pipeline\n",
        "\n",
        "pipeline = make_pipeline(ce.OrdinalEncoder(), RandomForestRegressor(n_estimators=100, random_state=42, n_jobs=-1))\n",
        "\n",
        "pipeline.fit(X_train, y_train_log)\n",
        "y_pred_log = pipeline.predict(X_val) #Again, these are in the log dollars units.\n",
        "\n",
        "rmse(y_val_log, y_pred_log)\n",
        "\n",
        "#We observe an even lower error."
      ],
      "execution_count": 50,
      "outputs": [
        {
          "output_type": "execute_result",
          "data": {
            "text/plain": [
              "0.3950096664322286"
            ]
          },
          "metadata": {
            "tags": []
          },
          "execution_count": 50
        }
      ]
    },
    {
      "cell_type": "code",
      "metadata": {
        "id": "18OyF5SX7Lmu",
        "colab_type": "code",
        "colab": {
          "base_uri": "https://localhost:8080/",
          "height": 35
        },
        "outputId": "f730fbe5-b72e-4aad-b5bd-844dec9afebe"
      },
      "source": [
        "#Equivalent when converting back from log dollars to regular dollars.\n",
        "\n",
        "y_pred = np.expm1(y_pred_log)\n",
        "rmsle(y_val, y_pred)"
      ],
      "execution_count": 51,
      "outputs": [
        {
          "output_type": "execute_result",
          "data": {
            "text/plain": [
              "0.3950096664322286"
            ]
          },
          "metadata": {
            "tags": []
          },
          "execution_count": 51
        }
      ]
    },
    {
      "cell_type": "markdown",
      "metadata": {
        "id": "ebjInYS97-5S",
        "colab_type": "text"
      },
      "source": [
        "**Looking at our feature importances.**"
      ]
    },
    {
      "cell_type": "code",
      "metadata": {
        "id": "exgXT6Dd8DN_",
        "colab_type": "code",
        "colab": {
          "base_uri": "https://localhost:8080/",
          "height": 159
        },
        "outputId": "f3644b06-dfca-43db-a61c-fe97f60f1c8a"
      },
      "source": [
        "rf = pipeline.named_steps['randomforestregressor']\n",
        "importances = pd.Series(rf.feature_importances_, X_train.columns)\n",
        "\n",
        "importances.sort_values()\n",
        "\n",
        "#quantity in this simple model is associated with more feature importance than the other features included in our model."
      ],
      "execution_count": 52,
      "outputs": [
        {
          "output_type": "execute_result",
          "data": {
            "text/plain": [
              "bracket_pricing       0.006545\n",
              "min_order_quantity    0.045384\n",
              "quote_date_month      0.060107\n",
              "quote_date_year       0.087693\n",
              "supplier              0.100287\n",
              "annual_usage          0.174479\n",
              "quantity              0.525504\n",
              "dtype: float64"
            ]
          },
          "metadata": {
            "tags": []
          },
          "execution_count": 52
        }
      ]
    },
    {
      "cell_type": "code",
      "metadata": {
        "id": "wAUxbuMM9af0",
        "colab_type": "code",
        "colab": {
          "base_uri": "https://localhost:8080/",
          "height": 304
        },
        "outputId": "a965d0f5-e9fa-4f20-ba5e-9b6765104e46"
      },
      "source": [
        "#Let's plot this...\n",
        "\n",
        "importances.sort_values().plot.barh(colors='grey');"
      ],
      "execution_count": 53,
      "outputs": [
        {
          "output_type": "stream",
          "text": [
            "/usr/local/lib/python3.6/dist-packages/pandas/plotting/_core.py:185: UserWarning: 'colors' is being deprecated. Please use 'color'instead of 'colors'\n",
            "  warnings.warn((\"'colors' is being deprecated. Please use 'color'\"\n"
          ],
          "name": "stderr"
        },
        {
          "output_type": "display_data",
          "data": {
            "image/png": "[encoded data removed]",
            "text/plain": [
              "<Figure size 432x288 with 1 Axes>"
            ]
          },
          "metadata": {
            "tags": []
          }
        }
      ]
    },
    {
      "cell_type": "code",
      "metadata": {
        "id": "H9IVu0_M9zty",
        "colab_type": "code",
        "colab": {
          "base_uri": "https://localhost:8080/",
          "height": 283
        },
        "outputId": "88686a56-25c1-4850-e9ad-1f3297cfd1ed"
      },
      "source": [
        "#To better understand the relationship between quantity and the target becuase quantity is such an important feature...\n",
        "\n",
        "quantity_quartiles = pd.qcut(train_wrangled['quantity'], q=4)\n",
        "\n",
        "sns.pointplot(x=quantity_quartiles, y=train_wrangled['cost']);\n",
        "\n",
        "#As quantity increases, the price drops. Notice that it is not linear. It's monotonically decreasing as we'd expect. At first it drops faster, and then the rate of change slows down."
      ],
      "execution_count": 54,
      "outputs": [
        {
          "output_type": "display_data",
          "data": {
            "image/png": "[encoded data removed]",
            "text/plain": [
              "<Figure size 432x288 with 1 Axes>"
            ]
          },
          "metadata": {
            "tags": []
          }
        }
      ]
    },
    {
      "cell_type": "code",
      "metadata": {
        "id": "MhxTF9L8Z2CT",
        "colab_type": "code",
        "colab": {
          "base_uri": "https://localhost:8080/",
          "height": 284
        },
        "outputId": "2fb96faa-9760-4341-8fd1-a733c166a710"
      },
      "source": [
        "sns.distplot(y_val_log, label='True')\n",
        "sns.distplot(y_pred_log, label='Predicted')\n",
        "plt.legend();"
      ],
      "execution_count": 55,
      "outputs": [
        {
          "output_type": "display_data",
          "data": {
            "image/png": "[encoded data removed]",
            "text/plain": [
              "<Figure size 432x288 with 1 Axes>"
            ]
          },
          "metadata": {
            "tags": []
          }
        }
      ]
    },
    {
      "cell_type": "markdown",
      "metadata": {
        "id": "RB-yuQkhfYv9",
        "colab_type": "text"
      },
      "source": [
        "**Feature engineering with relational data**"
      ]
    },
    {
      "cell_type": "code",
      "metadata": {
        "id": "xuY2oi1kffMo",
        "colab_type": "code",
        "colab": {
          "base_uri": "https://localhost:8080/",
          "height": 304
        },
        "outputId": "1ffcc4ab-55f7-456f-ae17-1d216becfaa1"
      },
      "source": [
        "for path in glob('competition_data/*.csv'):\n",
        "  df = pd.read_csv(path)\n",
        "  shared_columns = set(df.columns) & set(train.columns)\n",
        "  if shared_columns:\n",
        "    print(path, df.shape)\n",
        "    print(df.columns.tolist(), '\\n')\n",
        "    \n",
        "    #Try to see what columns each of these files might have in common with the training set."
      ],
      "execution_count": 56,
      "outputs": [
        {
          "output_type": "stream",
          "text": [
            "competition_data/bill_of_materials.csv (21198, 17)\n",
            "['tube_assembly_id', 'component_id_1', 'quantity_1', 'component_id_2', 'quantity_2', 'component_id_3', 'quantity_3', 'component_id_4', 'quantity_4', 'component_id_5', 'quantity_5', 'component_id_6', 'quantity_6', 'component_id_7', 'quantity_7', 'component_id_8', 'quantity_8'] \n",
            "\n",
            "competition_data/test_set.csv (30235, 8)\n",
            "['id', 'tube_assembly_id', 'supplier', 'quote_date', 'annual_usage', 'min_order_quantity', 'bracket_pricing', 'quantity'] \n",
            "\n",
            "competition_data/tube.csv (21198, 16)\n",
            "['tube_assembly_id', 'material_id', 'diameter', 'wall', 'length', 'num_bends', 'bend_radius', 'end_a_1x', 'end_a_2x', 'end_x_1x', 'end_x_2x', 'end_a', 'end_x', 'num_boss', 'num_bracket', 'other'] \n",
            "\n",
            "competition_data/train_set.csv (30213, 8)\n",
            "['tube_assembly_id', 'supplier', 'quote_date', 'annual_usage', 'min_order_quantity', 'bracket_pricing', 'quantity', 'cost'] \n",
            "\n",
            "competition_data/specs.csv (21198, 11)\n",
            "['tube_assembly_id', 'spec1', 'spec2', 'spec3', 'spec4', 'spec5', 'spec6', 'spec7', 'spec8', 'spec9', 'spec10'] \n",
            "\n"
          ],
          "name": "stdout"
        }
      ]
    },
    {
      "cell_type": "code",
      "metadata": {
        "id": "2hkCn0lFgq0N",
        "colab_type": "code",
        "colab": {
          "base_uri": "https://localhost:8080/",
          "height": 70
        },
        "outputId": "630b0c60-ad1c-4edd-e232-d8ce88a8d4c7"
      },
      "source": [
        "train.columns"
      ],
      "execution_count": 57,
      "outputs": [
        {
          "output_type": "execute_result",
          "data": {
            "text/plain": [
              "Index(['tube_assembly_id', 'supplier', 'quote_date', 'annual_usage',\n",
              "       'min_order_quantity', 'bracket_pricing', 'quantity', 'cost'],\n",
              "      dtype='object')"
            ]
          },
          "metadata": {
            "tags": []
          },
          "execution_count": 57
        }
      ]
    },
    {
      "cell_type": "code",
      "metadata": {
        "id": "EQR85yXTgw9i",
        "colab_type": "code",
        "colab": {}
      },
      "source": [
        "#We can merge on the columns our data frames have in common."
      ],
      "execution_count": 0,
      "outputs": []
    },
    {
      "cell_type": "code",
      "metadata": {
        "id": "N5epiX8-iO8k",
        "colab_type": "code",
        "colab": {}
      },
      "source": [
        "tube = pd.read_csv('competition_data/tube.csv')"
      ],
      "execution_count": 0,
      "outputs": []
    },
    {
      "cell_type": "code",
      "metadata": {
        "id": "cGYly1c7ibFr",
        "colab_type": "code",
        "colab": {
          "base_uri": "https://localhost:8080/",
          "height": 291
        },
        "outputId": "532aa8ab-8022-4cd0-d894-ba6302eb0f5e"
      },
      "source": [
        "#Numeric features\n",
        "\n",
        "tube.describe()"
      ],
      "execution_count": 59,
      "outputs": [
        {
          "output_type": "execute_result",
          "data": {
            "text/html": [
              "<div>\n",
              "<style scoped>\n",
              "    .dataframe tbody tr th:only-of-type {\n",
              "        vertical-align: middle;\n",
              "    }\n",
              "\n",
              "    .dataframe tbody tr th {\n",
              "        vertical-align: top;\n",
              "    }\n",
              "\n",
              "    .dataframe thead th {\n",
              "        text-align: right;\n",
              "    }\n",
              "</style>\n",
              "<table border=\"1\" class=\"dataframe\">\n",
              "  <thead>\n",
              "    <tr style=\"text-align: right;\">\n",
              "      <th></th>\n",
              "      <th>diameter</th>\n",
              "      <th>wall</th>\n",
              "      <th>length</th>\n",
              "      <th>num_bends</th>\n",
              "      <th>bend_radius</th>\n",
              "      <th>num_boss</th>\n",
              "      <th>num_bracket</th>\n",
              "      <th>other</th>\n",
              "    </tr>\n",
              "  </thead>\n",
              "  <tbody>\n",
              "    <tr>\n",
              "      <th>count</th>\n",
              "      <td>21198.000000</td>\n",
              "      <td>21198.000000</td>\n",
              "      <td>21198.000000</td>\n",
              "      <td>21198.000000</td>\n",
              "      <td>21198.000000</td>\n",
              "      <td>21198.000000</td>\n",
              "      <td>21198.000000</td>\n",
              "      <td>21198.000000</td>\n",
              "    </tr>\n",
              "    <tr>\n",
              "      <th>mean</th>\n",
              "      <td>23.687764</td>\n",
              "      <td>1.578402</td>\n",
              "      <td>100.312844</td>\n",
              "      <td>3.748137</td>\n",
              "      <td>49.350767</td>\n",
              "      <td>0.044485</td>\n",
              "      <td>0.006746</td>\n",
              "      <td>0.022644</td>\n",
              "    </tr>\n",
              "    <tr>\n",
              "      <th>std</th>\n",
              "      <td>25.396277</td>\n",
              "      <td>0.745749</td>\n",
              "      <td>70.542771</td>\n",
              "      <td>2.265405</td>\n",
              "      <td>196.468480</td>\n",
              "      <td>0.260737</td>\n",
              "      <td>0.100015</td>\n",
              "      <td>0.199676</td>\n",
              "    </tr>\n",
              "    <tr>\n",
              "      <th>min</th>\n",
              "      <td>3.180000</td>\n",
              "      <td>0.710000</td>\n",
              "      <td>0.000000</td>\n",
              "      <td>0.000000</td>\n",
              "      <td>0.000000</td>\n",
              "      <td>0.000000</td>\n",
              "      <td>0.000000</td>\n",
              "      <td>0.000000</td>\n",
              "    </tr>\n",
              "    <tr>\n",
              "      <th>25%</th>\n",
              "      <td>9.520000</td>\n",
              "      <td>0.890000</td>\n",
              "      <td>48.000000</td>\n",
              "      <td>2.000000</td>\n",
              "      <td>19.050000</td>\n",
              "      <td>0.000000</td>\n",
              "      <td>0.000000</td>\n",
              "      <td>0.000000</td>\n",
              "    </tr>\n",
              "    <tr>\n",
              "      <th>50%</th>\n",
              "      <td>15.880000</td>\n",
              "      <td>1.650000</td>\n",
              "      <td>86.000000</td>\n",
              "      <td>3.000000</td>\n",
              "      <td>38.100000</td>\n",
              "      <td>0.000000</td>\n",
              "      <td>0.000000</td>\n",
              "      <td>0.000000</td>\n",
              "    </tr>\n",
              "    <tr>\n",
              "      <th>75%</th>\n",
              "      <td>25.400000</td>\n",
              "      <td>1.650000</td>\n",
              "      <td>135.000000</td>\n",
              "      <td>5.000000</td>\n",
              "      <td>50.800000</td>\n",
              "      <td>0.000000</td>\n",
              "      <td>0.000000</td>\n",
              "      <td>0.000000</td>\n",
              "    </tr>\n",
              "    <tr>\n",
              "      <th>max</th>\n",
              "      <td>203.200000</td>\n",
              "      <td>7.900000</td>\n",
              "      <td>1333.000000</td>\n",
              "      <td>17.000000</td>\n",
              "      <td>9999.000000</td>\n",
              "      <td>5.000000</td>\n",
              "      <td>5.000000</td>\n",
              "      <td>8.000000</td>\n",
              "    </tr>\n",
              "  </tbody>\n",
              "</table>\n",
              "</div>"
            ],
            "text/plain": [
              "           diameter          wall  ...   num_bracket         other\n",
              "count  21198.000000  21198.000000  ...  21198.000000  21198.000000\n",
              "mean      23.687764      1.578402  ...      0.006746      0.022644\n",
              "std       25.396277      0.745749  ...      0.100015      0.199676\n",
              "min        3.180000      0.710000  ...      0.000000      0.000000\n",
              "25%        9.520000      0.890000  ...      0.000000      0.000000\n",
              "50%       15.880000      1.650000  ...      0.000000      0.000000\n",
              "75%       25.400000      1.650000  ...      0.000000      0.000000\n",
              "max      203.200000      7.900000  ...      5.000000      8.000000\n",
              "\n",
              "[8 rows x 8 columns]"
            ]
          },
          "metadata": {
            "tags": []
          },
          "execution_count": 59
        }
      ]
    },
    {
      "cell_type": "code",
      "metadata": {
        "id": "uut6NU6Lil17",
        "colab_type": "code",
        "colab": {
          "base_uri": "https://localhost:8080/",
          "height": 170
        },
        "outputId": "71c7b60e-3c71-40d6-a01c-ed41f3307d17"
      },
      "source": [
        "#Non-numeric features\n",
        "\n",
        "tube.describe(exclude='number')"
      ],
      "execution_count": 60,
      "outputs": [
        {
          "output_type": "execute_result",
          "data": {
            "text/html": [
              "<div>\n",
              "<style scoped>\n",
              "    .dataframe tbody tr th:only-of-type {\n",
              "        vertical-align: middle;\n",
              "    }\n",
              "\n",
              "    .dataframe tbody tr th {\n",
              "        vertical-align: top;\n",
              "    }\n",
              "\n",
              "    .dataframe thead th {\n",
              "        text-align: right;\n",
              "    }\n",
              "</style>\n",
              "<table border=\"1\" class=\"dataframe\">\n",
              "  <thead>\n",
              "    <tr style=\"text-align: right;\">\n",
              "      <th></th>\n",
              "      <th>tube_assembly_id</th>\n",
              "      <th>material_id</th>\n",
              "      <th>end_a_1x</th>\n",
              "      <th>end_a_2x</th>\n",
              "      <th>end_x_1x</th>\n",
              "      <th>end_x_2x</th>\n",
              "      <th>end_a</th>\n",
              "      <th>end_x</th>\n",
              "    </tr>\n",
              "  </thead>\n",
              "  <tbody>\n",
              "    <tr>\n",
              "      <th>count</th>\n",
              "      <td>21198</td>\n",
              "      <td>20919</td>\n",
              "      <td>21198</td>\n",
              "      <td>21198</td>\n",
              "      <td>21198</td>\n",
              "      <td>21198</td>\n",
              "      <td>21198</td>\n",
              "      <td>21198</td>\n",
              "    </tr>\n",
              "    <tr>\n",
              "      <th>unique</th>\n",
              "      <td>21198</td>\n",
              "      <td>19</td>\n",
              "      <td>2</td>\n",
              "      <td>2</td>\n",
              "      <td>2</td>\n",
              "      <td>2</td>\n",
              "      <td>25</td>\n",
              "      <td>27</td>\n",
              "    </tr>\n",
              "    <tr>\n",
              "      <th>top</th>\n",
              "      <td>TA-03368</td>\n",
              "      <td>SP-0029</td>\n",
              "      <td>N</td>\n",
              "      <td>N</td>\n",
              "      <td>N</td>\n",
              "      <td>N</td>\n",
              "      <td>EF-003</td>\n",
              "      <td>EF-003</td>\n",
              "    </tr>\n",
              "    <tr>\n",
              "      <th>freq</th>\n",
              "      <td>1</td>\n",
              "      <td>11488</td>\n",
              "      <td>20118</td>\n",
              "      <td>18015</td>\n",
              "      <td>20377</td>\n",
              "      <td>18493</td>\n",
              "      <td>11388</td>\n",
              "      <td>10863</td>\n",
              "    </tr>\n",
              "  </tbody>\n",
              "</table>\n",
              "</div>"
            ],
            "text/plain": [
              "       tube_assembly_id material_id end_a_1x  ... end_x_2x   end_a   end_x\n",
              "count             21198       20919    21198  ...    21198   21198   21198\n",
              "unique            21198          19        2  ...        2      25      27\n",
              "top            TA-03368     SP-0029        N  ...        N  EF-003  EF-003\n",
              "freq                  1       11488    20118  ...    18493   11388   10863\n",
              "\n",
              "[4 rows x 8 columns]"
            ]
          },
          "metadata": {
            "tags": []
          },
          "execution_count": 60
        }
      ]
    },
    {
      "cell_type": "code",
      "metadata": {
        "id": "MKxsKm-Witbp",
        "colab_type": "code",
        "colab": {}
      },
      "source": [
        "#We are going to use the wrangle function we created above and redefine it.\n",
        "\n",
        "def wrangle(X):\n",
        "  X = X.copy()\n",
        "  \n",
        "  #Engineer date features\n",
        "  \n",
        "  X['quote_date'] = pd.to_datetime(X['quote_date'], infer_datetime_format=True)\n",
        "  X['quote_date_year'] = X['quote_date'].dt.year\n",
        "  X['quote_date_month'] = X['quote_date'].dt.month\n",
        "  X = X.drop(columns='quote_date')\n",
        "  \n",
        "  #Merge tube data\n",
        "  \n",
        "  tube = pd.read_csv('competition_data/tube.csv')\n",
        "  X = X.merge(tube, how='left')\n",
        "  \n",
        "  #Drop tube_assembly_id because our goal is to predict unknown assemblies.\n",
        "  \n",
        "  X = X.drop(columns='tube_assembly_id')\n",
        "  \n",
        "  return X\n",
        "\n",
        "train_wrangled = wrangle(train)\n",
        "val_wrangled = wrangle(val)"
      ],
      "execution_count": 0,
      "outputs": []
    },
    {
      "cell_type": "code",
      "metadata": {
        "id": "f_0s_6FjjyIU",
        "colab_type": "code",
        "colab": {
          "base_uri": "https://localhost:8080/",
          "height": 35
        },
        "outputId": "e0413a3a-08dc-4a57-82d0-cb0741a3bf01"
      },
      "source": [
        "train_wrangled.shape, val_wrangled.shape"
      ],
      "execution_count": 62,
      "outputs": [
        {
          "output_type": "execute_result",
          "data": {
            "text/plain": [
              "((22628, 23), (7585, 23))"
            ]
          },
          "metadata": {
            "tags": []
          },
          "execution_count": 62
        }
      ]
    },
    {
      "cell_type": "code",
      "metadata": {
        "id": "qUUQ6rZfj9p1",
        "colab_type": "code",
        "colab": {
          "base_uri": "https://localhost:8080/",
          "height": 305
        },
        "outputId": "24de01a8-fb6d-4964-8f42-374343798414"
      },
      "source": [
        "train_wrangled.head()"
      ],
      "execution_count": 63,
      "outputs": [
        {
          "output_type": "execute_result",
          "data": {
            "text/html": [
              "<div>\n",
              "<style scoped>\n",
              "    .dataframe tbody tr th:only-of-type {\n",
              "        vertical-align: middle;\n",
              "    }\n",
              "\n",
              "    .dataframe tbody tr th {\n",
              "        vertical-align: top;\n",
              "    }\n",
              "\n",
              "    .dataframe thead th {\n",
              "        text-align: right;\n",
              "    }\n",
              "</style>\n",
              "<table border=\"1\" class=\"dataframe\">\n",
              "  <thead>\n",
              "    <tr style=\"text-align: right;\">\n",
              "      <th></th>\n",
              "      <th>supplier</th>\n",
              "      <th>annual_usage</th>\n",
              "      <th>min_order_quantity</th>\n",
              "      <th>bracket_pricing</th>\n",
              "      <th>quantity</th>\n",
              "      <th>cost</th>\n",
              "      <th>quote_date_year</th>\n",
              "      <th>quote_date_month</th>\n",
              "      <th>material_id</th>\n",
              "      <th>diameter</th>\n",
              "      <th>wall</th>\n",
              "      <th>length</th>\n",
              "      <th>num_bends</th>\n",
              "      <th>bend_radius</th>\n",
              "      <th>end_a_1x</th>\n",
              "      <th>end_a_2x</th>\n",
              "      <th>end_x_1x</th>\n",
              "      <th>end_x_2x</th>\n",
              "      <th>end_a</th>\n",
              "      <th>end_x</th>\n",
              "      <th>num_boss</th>\n",
              "      <th>num_bracket</th>\n",
              "      <th>other</th>\n",
              "    </tr>\n",
              "  </thead>\n",
              "  <tbody>\n",
              "    <tr>\n",
              "      <th>0</th>\n",
              "      <td>S-0066</td>\n",
              "      <td>0</td>\n",
              "      <td>0</td>\n",
              "      <td>Yes</td>\n",
              "      <td>1</td>\n",
              "      <td>21.972702</td>\n",
              "      <td>2013</td>\n",
              "      <td>7</td>\n",
              "      <td>SP-0019</td>\n",
              "      <td>6.35</td>\n",
              "      <td>0.71</td>\n",
              "      <td>137.0</td>\n",
              "      <td>9</td>\n",
              "      <td>19.05</td>\n",
              "      <td>N</td>\n",
              "      <td>N</td>\n",
              "      <td>N</td>\n",
              "      <td>N</td>\n",
              "      <td>EF-008</td>\n",
              "      <td>EF-008</td>\n",
              "      <td>0</td>\n",
              "      <td>0</td>\n",
              "      <td>0</td>\n",
              "    </tr>\n",
              "    <tr>\n",
              "      <th>1</th>\n",
              "      <td>S-0066</td>\n",
              "      <td>0</td>\n",
              "      <td>0</td>\n",
              "      <td>Yes</td>\n",
              "      <td>2</td>\n",
              "      <td>12.407983</td>\n",
              "      <td>2013</td>\n",
              "      <td>7</td>\n",
              "      <td>SP-0019</td>\n",
              "      <td>6.35</td>\n",
              "      <td>0.71</td>\n",
              "      <td>137.0</td>\n",
              "      <td>9</td>\n",
              "      <td>19.05</td>\n",
              "      <td>N</td>\n",
              "      <td>N</td>\n",
              "      <td>N</td>\n",
              "      <td>N</td>\n",
              "      <td>EF-008</td>\n",
              "      <td>EF-008</td>\n",
              "      <td>0</td>\n",
              "      <td>0</td>\n",
              "      <td>0</td>\n",
              "    </tr>\n",
              "    <tr>\n",
              "      <th>2</th>\n",
              "      <td>S-0066</td>\n",
              "      <td>0</td>\n",
              "      <td>0</td>\n",
              "      <td>Yes</td>\n",
              "      <td>5</td>\n",
              "      <td>6.668596</td>\n",
              "      <td>2013</td>\n",
              "      <td>7</td>\n",
              "      <td>SP-0019</td>\n",
              "      <td>6.35</td>\n",
              "      <td>0.71</td>\n",
              "      <td>137.0</td>\n",
              "      <td>9</td>\n",
              "      <td>19.05</td>\n",
              "      <td>N</td>\n",
              "      <td>N</td>\n",
              "      <td>N</td>\n",
              "      <td>N</td>\n",
              "      <td>EF-008</td>\n",
              "      <td>EF-008</td>\n",
              "      <td>0</td>\n",
              "      <td>0</td>\n",
              "      <td>0</td>\n",
              "    </tr>\n",
              "    <tr>\n",
              "      <th>3</th>\n",
              "      <td>S-0066</td>\n",
              "      <td>0</td>\n",
              "      <td>0</td>\n",
              "      <td>Yes</td>\n",
              "      <td>10</td>\n",
              "      <td>4.754539</td>\n",
              "      <td>2013</td>\n",
              "      <td>7</td>\n",
              "      <td>SP-0019</td>\n",
              "      <td>6.35</td>\n",
              "      <td>0.71</td>\n",
              "      <td>137.0</td>\n",
              "      <td>9</td>\n",
              "      <td>19.05</td>\n",
              "      <td>N</td>\n",
              "      <td>N</td>\n",
              "      <td>N</td>\n",
              "      <td>N</td>\n",
              "      <td>EF-008</td>\n",
              "      <td>EF-008</td>\n",
              "      <td>0</td>\n",
              "      <td>0</td>\n",
              "      <td>0</td>\n",
              "    </tr>\n",
              "    <tr>\n",
              "      <th>4</th>\n",
              "      <td>S-0066</td>\n",
              "      <td>0</td>\n",
              "      <td>0</td>\n",
              "      <td>Yes</td>\n",
              "      <td>25</td>\n",
              "      <td>3.608331</td>\n",
              "      <td>2013</td>\n",
              "      <td>7</td>\n",
              "      <td>SP-0019</td>\n",
              "      <td>6.35</td>\n",
              "      <td>0.71</td>\n",
              "      <td>137.0</td>\n",
              "      <td>9</td>\n",
              "      <td>19.05</td>\n",
              "      <td>N</td>\n",
              "      <td>N</td>\n",
              "      <td>N</td>\n",
              "      <td>N</td>\n",
              "      <td>EF-008</td>\n",
              "      <td>EF-008</td>\n",
              "      <td>0</td>\n",
              "      <td>0</td>\n",
              "      <td>0</td>\n",
              "    </tr>\n",
              "  </tbody>\n",
              "</table>\n",
              "</div>"
            ],
            "text/plain": [
              "  supplier  annual_usage  min_order_quantity  ... num_boss  num_bracket  other\n",
              "0   S-0066             0                   0  ...        0            0      0\n",
              "1   S-0066             0                   0  ...        0            0      0\n",
              "2   S-0066             0                   0  ...        0            0      0\n",
              "3   S-0066             0                   0  ...        0            0      0\n",
              "4   S-0066             0                   0  ...        0            0      0\n",
              "\n",
              "[5 rows x 23 columns]"
            ]
          },
          "metadata": {
            "tags": []
          },
          "execution_count": 63
        }
      ]
    },
    {
      "cell_type": "code",
      "metadata": {
        "id": "pE3aMaT8kWZE",
        "colab_type": "code",
        "colab": {
          "base_uri": "https://localhost:8080/",
          "height": 35
        },
        "outputId": "12dfc854-3835-4290-ac92-6a7c3e6f0f02"
      },
      "source": [
        "#Let's train our model.\n",
        "\n",
        "X_train = train_wrangled.drop(columns=target)\n",
        "X_val = val_wrangled.drop(columns=target)\n",
        "\n",
        "pipeline = make_pipeline(ce.OrdinalEncoder(), RandomForestRegressor(n_estimators=100, random_state=42, n_jobs=-1))\n",
        "\n",
        "pipeline.fit(X_train, y_train_log)\n",
        "y_pred_log = pipeline.predict(X_val)\n",
        "\n",
        "rmse(y_val_log, y_pred_log)\n",
        "\n",
        "#We observe that our error has dropped even further still."
      ],
      "execution_count": 64,
      "outputs": [
        {
          "output_type": "execute_result",
          "data": {
            "text/plain": [
              "0.3071425826783341"
            ]
          },
          "metadata": {
            "tags": []
          },
          "execution_count": 64
        }
      ]
    },
    {
      "cell_type": "code",
      "metadata": {
        "id": "biCHtZmGlaoK",
        "colab_type": "code",
        "colab": {
          "base_uri": "https://localhost:8080/",
          "height": 35
        },
        "outputId": "893fc965-6f6c-47e1-b10c-829182cc9cdb"
      },
      "source": [
        "#Before generating predictions to submit to Kaggle, we need to wrangle the test set.\n",
        "\n",
        "test_wrangled = wrangle(test)\n",
        "X_test = test_wrangled.drop(columns='id')\n",
        "all(X_test.columns == X_train.columns)\n",
        "\n",
        "#We verify that all of the columns in X_test are the same as the columns we trained on."
      ],
      "execution_count": 65,
      "outputs": [
        {
          "output_type": "execute_result",
          "data": {
            "text/plain": [
              "True"
            ]
          },
          "metadata": {
            "tags": []
          },
          "execution_count": 65
        }
      ]
    },
    {
      "cell_type": "code",
      "metadata": {
        "id": "EdCBYVgDmSA_",
        "colab_type": "code",
        "colab": {}
      },
      "source": [
        "#Make predictions for the test set.\n",
        "\n",
        "y_pred_log = pipeline.predict(X_test) #Remember that these predictions are in log dollars, and Kaggle expects that the predictions will be in the original units(dollars).\n",
        "y_pred = np.expm1(y_pred_log) #This transforms log dollars to dollars."
      ],
      "execution_count": 0,
      "outputs": []
    },
    {
      "cell_type": "markdown",
      "metadata": {
        "id": "ekdbn3Mfn93q",
        "colab_type": "text"
      },
      "source": [
        "**Now use at least one more file and then to submit those results to Kaggle!**"
      ]
    },
    {
      "cell_type": "code",
      "metadata": {
        "id": "iCT9e3PVtWah",
        "colab_type": "code",
        "colab": {}
      },
      "source": [
        "import category_encoders as ce\n",
        "import pandas as pd\n",
        "import numpy as np\n",
        "from sklearn.ensemble import RandomForestRegressor\n",
        "from sklearn.metrics import mean_squared_error, mean_squared_log_error\n",
        "from sklearn.model_selection import train_test_split\n",
        "from sklearn.pipeline import make_pipeline\n",
        "\n",
        "def rmse(y_true, y_pred):\n",
        "    return np.sqrt(mean_squared_error(y_true, y_pred))\n",
        "\n",
        "def rmsle(y_true, y_pred):\n",
        "    return np.sqrt(mean_squared_log_error(y_true, y_pred))\n",
        "\n",
        "def wrangle(X):\n",
        "    X = X.copy()\n",
        "    \n",
        "    # Engineer date features\n",
        "    X['quote_date'] = pd.to_datetime(X['quote_date'], infer_datetime_format=True)\n",
        "    X['quote_date_year'] = X['quote_date'].dt.year\n",
        "    X['quote_date_month'] = X['quote_date'].dt.month\n",
        "    X = X.drop(columns='quote_date')\n",
        "    \n",
        "    # Merge tube data\n",
        "    tube = pd.read_csv(SOURCE + 'tube.csv')\n",
        "    X = X.merge(tube, how='left')\n",
        "    \n",
        "    # Engineer features from bill_of_materials\n",
        "    materials = pd.read_csv(SOURCE + 'bill_of_materials.csv')\n",
        "    \n",
        "    materials['components_total'] = (materials['quantity_1'].fillna(0) + \n",
        "                                     materials['quantity_2'].fillna(0) + \n",
        "                                     materials['quantity_3'].fillna(0) + \n",
        "                                     materials['quantity_4'].fillna(0) + \n",
        "                                     materials['quantity_5'].fillna(0) + \n",
        "                                     materials['quantity_6'].fillna(0) + \n",
        "                                     materials['quantity_7'].fillna(0) + \n",
        "                                     materials['quantity_8'].fillna(0))\n",
        "\n",
        "    materials['components_distinct'] = (materials['component_id_1'].notnull().astype(int) + \n",
        "                                        materials['component_id_2'].notnull().astype(int) + \n",
        "                                        materials['component_id_3'].notnull().astype(int) + \n",
        "                                        materials['component_id_4'].notnull().astype(int) + \n",
        "                                        materials['component_id_5'].notnull().astype(int) + \n",
        "                                        materials['component_id_6'].notnull().astype(int) + \n",
        "                                        materials['component_id_7'].notnull().astype(int) + \n",
        "                                        materials['component_id_8'].notnull().astype(int))\n",
        "    \n",
        "    # Merge selected features from bill_of_materials\n",
        "    # Just use the first component_id, ignore the others for now!\n",
        "    features = ['tube_assembly_id', 'component_id_1', 'components_total', 'components_distinct']\n",
        "    X = X.merge(materials[features], how='left')\n",
        "    \n",
        "    # Get component_type_id (has lower cardinality than component_id)\n",
        "    components = pd.read_csv(SOURCE + 'components.csv')\n",
        "    components = components.rename(columns={'component_id': 'component_id_1'})\n",
        "    features = ['component_id_1', 'component_type_id']\n",
        "    X = X.merge(components[features], how='left')\n",
        "    \n",
        "    # Count the number of specs for the tube assembly\n",
        "    specs = pd.read_csv(SOURCE + 'specs.csv')\n",
        "    specs['specs_total'] = specs.drop(columns=['tube_assembly_id']).count(axis=1)\n",
        "    features = ['tube_assembly_id', 'specs_total', 'spec1']\n",
        "    X = X.merge(specs[features], how='left')\n",
        "    \n",
        "    # Drop tube_assembly_id because our goal is to predict unknown assemblies\n",
        "    X = X.drop(columns='tube_assembly_id')\n",
        "    \n",
        "    return X\n",
        "\n",
        "\n",
        "# Read data\n",
        "trainval = pd.read_csv(SOURCE + 'train_set.csv')\n",
        "test = pd.read_csv(SOURCE + 'test_set.csv')\n",
        "\n",
        "# Split into train & validation sets\n",
        "# All rows for a given tube_assembly_id should go in either train or validation\n",
        "trainval_tube_assemblies = trainval['tube_assembly_id'].unique()\n",
        "train_tube_assemblies, val_tube_assemblies = train_test_split(\n",
        "    trainval_tube_assemblies, random_state=42)\n",
        "train = trainval[trainval.tube_assembly_id.isin(train_tube_assemblies)]\n",
        "val = trainval[trainval.tube_assembly_id.isin(val_tube_assemblies)]\n",
        "\n",
        "# Wrangle train, validation, and test sets\n",
        "train = wrangle(train)\n",
        "val = wrangle(val)\n",
        "test = wrangle(test)\n",
        "\n",
        "# Arrange X matrix and y vector (log-transformed)\n",
        "target = 'cost'\n",
        "X_train = train.drop(columns=target)\n",
        "X_val = val.drop(columns=target)\n",
        "X_test = test.drop(columns='id')\n",
        "y_train = train[target]\n",
        "y_val = val[target]\n",
        "y_train_log = np.log1p(y_train)\n",
        "y_val_log = np.log1p(y_val)"
      ],
      "execution_count": 0,
      "outputs": []
    },
    {
      "cell_type": "code",
      "metadata": {
        "id": "c5ehwu80xdEc",
        "colab_type": "code",
        "colab": {
          "base_uri": "https://localhost:8080/",
          "height": 35
        },
        "outputId": "5ad92b3d-5025-465f-e780-031321cf530d"
      },
      "source": [
        "# Make pipeline\n",
        "pipeline = make_pipeline(\n",
        "    ce.OrdinalEncoder(), \n",
        "    RandomForestRegressor(n_estimators=100, random_state=42, n_jobs=-1)\n",
        ")\n",
        "\n",
        "# Fit\n",
        "pipeline.fit(X_train, y_train_log)\n",
        "\n",
        "# Validate\n",
        "y_pred_log = pipeline.predict(X_val)\n",
        "print('Validation Error', rmse(y_val_log, y_pred_log))\n",
        "\n",
        "# Predict\n",
        "def generate_submission(estimator, X_test, filename):\n",
        "    y_pred_log = estimator.predict(X_test)\n",
        "    y_pred = np.expm1(y_pred_log)  # Convert from log-dollars to dollars\n",
        "    submission = pd.read_csv(SOURCE + '../sample_submission.csv')\n",
        "    submission['cost'] = y_pred\n",
        "    submission.to_csv(filename, index=False)\n",
        "    \n",
        "generate_submission(pipeline, X_test, 'submission-02.csv')"
      ],
      "execution_count": 69,
      "outputs": [
        {
          "output_type": "stream",
          "text": [
            "Validation Error 0.2958563668935705\n"
          ],
          "name": "stdout"
        }
      ]
    },
    {
      "cell_type": "code",
      "metadata": {
        "id": "5WdPWqnT7JH8",
        "colab_type": "code",
        "colab": {}
      },
      "source": [
        "from google.colab import files\n",
        "files.download('submission-02.csv')"
      ],
      "execution_count": 0,
      "outputs": []
    }
  ]
}