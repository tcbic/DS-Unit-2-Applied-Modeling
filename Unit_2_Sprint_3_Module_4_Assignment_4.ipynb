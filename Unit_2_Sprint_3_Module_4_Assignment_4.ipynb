{
  "nbformat": 4,
  "nbformat_minor": 0,
  "metadata": {
    "colab": {
      "name": "Unit 2_Sprint 3_Module 4_Assignment 4.ipynb",
      "version": "0.3.2",
      "provenance": [],
      "collapsed_sections": [],
      "include_colab_link": true
    },
    "kernelspec": {
      "name": "python3",
      "display_name": "Python 3"
    }
  },
  "cells": [
    {
      "cell_type": "markdown",
      "metadata": {
        "id": "view-in-github",
        "colab_type": "text"
      },
      "source": [
        "<a href=\"https://colab.research.google.com/github/tcbic/DS-Unit-2-Applied-Modeling/blob/master/Unit_2_Sprint_3_Module_4_Assignment_4.ipynb\" target=\"_parent\"><img src=\"https://colab.research.google.com/assets/colab-badge.svg\" alt=\"Open In Colab\"/></a>"
      ]
    },
    {
      "cell_type": "code",
      "metadata": {
        "id": "j81Tw7tc8eKp",
        "colab_type": "code",
        "colab": {}
      },
      "source": [
        "#Classification last week, but back to a regression problem with the Caterpillar data set this week!"
      ],
      "execution_count": 0,
      "outputs": []
    },
    {
      "cell_type": "code",
      "metadata": {
        "id": "zHQk5IJH8sPm",
        "colab_type": "code",
        "colab": {}
      },
      "source": [
        "#Let's load our data."
      ],
      "execution_count": 0,
      "outputs": []
    },
    {
      "cell_type": "code",
      "metadata": {
        "id": "cLCwNdjT_mxX",
        "colab_type": "code",
        "outputId": "a9663eb2-52c6-4994-d103-0ca34ae58efd",
        "colab": {
          "base_uri": "https://localhost:8080/",
          "height": 212
        }
      },
      "source": [
        "!wget https://raw.githubusercontent.com/LambdaSchool/DS-Unit-2-Applied-Modeling/master/data/caterpillar/caterpillar-tube-pricing.zip"
      ],
      "execution_count": 77,
      "outputs": [
        {
          "output_type": "stream",
          "text": [
            "--2019-07-26 04:37:12--  https://raw.githubusercontent.com/LambdaSchool/DS-Unit-2-Applied-Modeling/master/data/caterpillar/caterpillar-tube-pricing.zip\n",
            "Resolving raw.githubusercontent.com (raw.githubusercontent.com)... 151.101.0.133, 151.101.64.133, 151.101.128.133, ...\n",
            "Connecting to raw.githubusercontent.com (raw.githubusercontent.com)|151.101.0.133|:443... connected.\n",
            "HTTP request sent, awaiting response... 200 OK\n",
            "Length: 823789 (804K) [application/zip]\n",
            "Saving to: ‘caterpillar-tube-pricing.zip.2’\n",
            "\n",
            "\r          caterpill   0%[                    ]       0  --.-KB/s               \rcaterpillar-tube-pr 100%[===================>] 804.48K  --.-KB/s    in 0.04s   \n",
            "\n",
            "2019-07-26 04:37:12 (21.4 MB/s) - ‘caterpillar-tube-pricing.zip.2’ saved [823789/823789]\n",
            "\n"
          ],
          "name": "stdout"
        }
      ]
    },
    {
      "cell_type": "code",
      "metadata": {
        "id": "587kvyqL_twM",
        "colab_type": "code",
        "outputId": "c2db0325-b3b6-48f6-de73-719fc005a68e",
        "colab": {
          "base_uri": "https://localhost:8080/",
          "height": 88
        }
      },
      "source": [
        "!unzip caterpillar-tube-pricing.zip"
      ],
      "execution_count": 78,
      "outputs": [
        {
          "output_type": "stream",
          "text": [
            "Archive:  caterpillar-tube-pricing.zip\n",
            "replace sample_submission.csv? [y]es, [n]o, [A]ll, [N]one, [r]ename: All\n",
            "  inflating: sample_submission.csv   \n",
            "  inflating: data.zip                \n"
          ],
          "name": "stdout"
        }
      ]
    },
    {
      "cell_type": "code",
      "metadata": {
        "id": "ZaqQIf9R_yGC",
        "colab_type": "code",
        "outputId": "5bc6a54c-8458-45b5-969c-8e3719e98b08",
        "colab": {
          "base_uri": "https://localhost:8080/",
          "height": 426
        }
      },
      "source": [
        "!unzip data.zip"
      ],
      "execution_count": 79,
      "outputs": [
        {
          "output_type": "stream",
          "text": [
            "Archive:  data.zip\n",
            "replace competition_data/bill_of_materials.csv? [y]es, [n]o, [A]ll, [N]one, [r]ename: All\n",
            "  inflating: competition_data/bill_of_materials.csv  \n",
            "  inflating: competition_data/comp_adaptor.csv  \n",
            "  inflating: competition_data/comp_boss.csv  \n",
            "  inflating: competition_data/comp_elbow.csv  \n",
            "  inflating: competition_data/comp_float.csv  \n",
            "  inflating: competition_data/comp_hfl.csv  \n",
            "  inflating: competition_data/comp_nut.csv  \n",
            "  inflating: competition_data/comp_other.csv  \n",
            "  inflating: competition_data/comp_sleeve.csv  \n",
            "  inflating: competition_data/comp_straight.csv  \n",
            "  inflating: competition_data/comp_tee.csv  \n",
            "  inflating: competition_data/comp_threaded.csv  \n",
            "  inflating: competition_data/components.csv  \n",
            "  inflating: competition_data/specs.csv  \n",
            "  inflating: competition_data/test_set.csv  \n",
            "  inflating: competition_data/train_set.csv  \n",
            "  inflating: competition_data/tube.csv  \n",
            "  inflating: competition_data/tube_end_form.csv  \n",
            "  inflating: competition_data/type_component.csv  \n",
            "  inflating: competition_data/type_connection.csv  \n",
            "  inflating: competition_data/type_end_form.csv  \n"
          ],
          "name": "stdout"
        }
      ]
    },
    {
      "cell_type": "code",
      "metadata": {
        "id": "D9XURVR7Huzg",
        "colab_type": "code",
        "outputId": "a2f6b2f3-7d58-4ad0-cdb1-9e324bddaccd",
        "colab": {
          "base_uri": "https://localhost:8080/",
          "height": 390
        }
      },
      "source": [
        "import pandas as pd\n",
        "from glob import glob    #Included with Python.\n",
        "\n",
        "for path in glob('competition_data/*.csv'):\n",
        "    df = pd.read_csv(path)\n",
        "    print(path, df.shape)\n",
        "\n",
        "#With so much data, we want to be able to read in the csv files efficiently. How can we best do that?\n",
        "#We want to read in all the csv files in the folder and get some initial information about it.\n",
        "#We see that our files really vary in terms of number of rows and columns.\n",
        "\n",
        "#These files represent relational tables that we'll use to do a bunch of wrangling and try and engineer/select the right features\n",
        "#that will help us predict the price of the tube assemblies."
      ],
      "execution_count": 80,
      "outputs": [
        {
          "output_type": "stream",
          "text": [
            "competition_data/comp_other.csv (1001, 3)\n",
            "competition_data/comp_adaptor.csv (25, 20)\n",
            "competition_data/components.csv (2048, 3)\n",
            "competition_data/type_end_form.csv (8, 2)\n",
            "competition_data/tube.csv (21198, 16)\n",
            "competition_data/comp_elbow.csv (178, 16)\n",
            "competition_data/type_connection.csv (14, 2)\n",
            "competition_data/train_set.csv (30213, 8)\n",
            "competition_data/comp_tee.csv (4, 14)\n",
            "competition_data/comp_straight.csv (361, 12)\n",
            "competition_data/comp_float.csv (16, 7)\n",
            "competition_data/comp_boss.csv (147, 15)\n",
            "competition_data/comp_hfl.csv (6, 9)\n",
            "competition_data/comp_nut.csv (65, 11)\n",
            "competition_data/tube_end_form.csv (27, 2)\n",
            "competition_data/comp_sleeve.csv (50, 10)\n",
            "competition_data/test_set.csv (30235, 8)\n",
            "competition_data/bill_of_materials.csv (21198, 17)\n",
            "competition_data/comp_threaded.csv (194, 32)\n",
            "competition_data/specs.csv (21198, 11)\n",
            "competition_data/type_component.csv (29, 2)\n"
          ],
          "name": "stdout"
        }
      ]
    },
    {
      "cell_type": "code",
      "metadata": {
        "id": "-1nvVpkkdSSw",
        "colab_type": "code",
        "colab": {}
      },
      "source": [
        "#What metrics are we going to use to measure success. Kaggle tells us that we are going to be evaluated off of RMSLE (Root Mean Squared Logarithmic Error).\n",
        "#This is a commonly used error metric for regression problems."
      ],
      "execution_count": 0,
      "outputs": []
    },
    {
      "cell_type": "markdown",
      "metadata": {
        "id": "2HEs3KYggauW",
        "colab_type": "text"
      },
      "source": [
        "RMSLE"
      ]
    },
    {
      "cell_type": "code",
      "metadata": {
        "id": "wSfGd6_NfQJG",
        "colab_type": "code",
        "colab": {}
      },
      "source": [
        "#We'll create a function to define RMSLE.\n",
        "\n",
        "import numpy as np\n",
        "from sklearn.metrics import mean_squared_log_error\n",
        "\n",
        "def rmsle(y_true, y_pred):\n",
        "  return np.sqrt(mean_squared_log_error(y_true, y_pred))"
      ],
      "execution_count": 0,
      "outputs": []
    },
    {
      "cell_type": "code",
      "metadata": {
        "id": "w9300iuEgYu9",
        "colab_type": "code",
        "colab": {}
      },
      "source": [
        "#Determine the evaluation protocol."
      ],
      "execution_count": 0,
      "outputs": []
    },
    {
      "cell_type": "code",
      "metadata": {
        "id": "vGg005G-pK7p",
        "colab_type": "code",
        "colab": {}
      },
      "source": [
        "#Split the Kaggle data into our training and validation sets."
      ],
      "execution_count": 0,
      "outputs": []
    },
    {
      "cell_type": "code",
      "metadata": {
        "id": "we9TdFKespUm",
        "colab_type": "code",
        "colab": {}
      },
      "source": [
        "#Let's take a look at our test set for the Caterpillar competition.\n",
        "\n",
        "#Are there overlapping date ranges and overlapping tube assemblies from train to test because if train is earlier dates and then test is later dates then we probably want to do a time based split. That's telling\n",
        "#us that the goal is to forecast out into the future(using earlier information to predict later information). But if the test set has the same date ranges then that is evidently not how this model is being used."
      ],
      "execution_count": 0,
      "outputs": []
    },
    {
      "cell_type": "markdown",
      "metadata": {
        "id": "j4ch14w6xwFW",
        "colab_type": "text"
      },
      "source": [
        "**Does the test set have different dates?**"
      ]
    },
    {
      "cell_type": "code",
      "metadata": {
        "id": "dN_wOhQit9ne",
        "colab_type": "code",
        "colab": {}
      },
      "source": [
        "#Let's read in the train set. We'll end up using the train set to create a validation set as well.\n",
        "\n",
        "train_and_val = pd.read_csv('competition_data/train_set.csv')\n",
        "\n",
        "#We'll read in our test set as well.\n",
        "\n",
        "test = pd.read_csv('competition_data/test_set.csv')"
      ],
      "execution_count": 0,
      "outputs": []
    },
    {
      "cell_type": "code",
      "metadata": {
        "id": "CnJ9KsChueKG",
        "colab_type": "code",
        "outputId": "4598fe94-4cf8-48bf-f2cf-982084fae259",
        "colab": {
          "base_uri": "https://localhost:8080/",
          "height": 352
        }
      },
      "source": [
        "train_and_val.head(10)"
      ],
      "execution_count": 87,
      "outputs": [
        {
          "output_type": "execute_result",
          "data": {
            "text/html": [
              "<div>\n",
              "<style scoped>\n",
              "    .dataframe tbody tr th:only-of-type {\n",
              "        vertical-align: middle;\n",
              "    }\n",
              "\n",
              "    .dataframe tbody tr th {\n",
              "        vertical-align: top;\n",
              "    }\n",
              "\n",
              "    .dataframe thead th {\n",
              "        text-align: right;\n",
              "    }\n",
              "</style>\n",
              "<table border=\"1\" class=\"dataframe\">\n",
              "  <thead>\n",
              "    <tr style=\"text-align: right;\">\n",
              "      <th></th>\n",
              "      <th>tube_assembly_id</th>\n",
              "      <th>supplier</th>\n",
              "      <th>quote_date</th>\n",
              "      <th>annual_usage</th>\n",
              "      <th>min_order_quantity</th>\n",
              "      <th>bracket_pricing</th>\n",
              "      <th>quantity</th>\n",
              "      <th>cost</th>\n",
              "    </tr>\n",
              "  </thead>\n",
              "  <tbody>\n",
              "    <tr>\n",
              "      <th>0</th>\n",
              "      <td>TA-00002</td>\n",
              "      <td>S-0066</td>\n",
              "      <td>2013-07-07</td>\n",
              "      <td>0</td>\n",
              "      <td>0</td>\n",
              "      <td>Yes</td>\n",
              "      <td>1</td>\n",
              "      <td>21.905933</td>\n",
              "    </tr>\n",
              "    <tr>\n",
              "      <th>1</th>\n",
              "      <td>TA-00002</td>\n",
              "      <td>S-0066</td>\n",
              "      <td>2013-07-07</td>\n",
              "      <td>0</td>\n",
              "      <td>0</td>\n",
              "      <td>Yes</td>\n",
              "      <td>2</td>\n",
              "      <td>12.341214</td>\n",
              "    </tr>\n",
              "    <tr>\n",
              "      <th>2</th>\n",
              "      <td>TA-00002</td>\n",
              "      <td>S-0066</td>\n",
              "      <td>2013-07-07</td>\n",
              "      <td>0</td>\n",
              "      <td>0</td>\n",
              "      <td>Yes</td>\n",
              "      <td>5</td>\n",
              "      <td>6.601826</td>\n",
              "    </tr>\n",
              "    <tr>\n",
              "      <th>3</th>\n",
              "      <td>TA-00002</td>\n",
              "      <td>S-0066</td>\n",
              "      <td>2013-07-07</td>\n",
              "      <td>0</td>\n",
              "      <td>0</td>\n",
              "      <td>Yes</td>\n",
              "      <td>10</td>\n",
              "      <td>4.687770</td>\n",
              "    </tr>\n",
              "    <tr>\n",
              "      <th>4</th>\n",
              "      <td>TA-00002</td>\n",
              "      <td>S-0066</td>\n",
              "      <td>2013-07-07</td>\n",
              "      <td>0</td>\n",
              "      <td>0</td>\n",
              "      <td>Yes</td>\n",
              "      <td>25</td>\n",
              "      <td>3.541561</td>\n",
              "    </tr>\n",
              "    <tr>\n",
              "      <th>5</th>\n",
              "      <td>TA-00002</td>\n",
              "      <td>S-0066</td>\n",
              "      <td>2013-07-07</td>\n",
              "      <td>0</td>\n",
              "      <td>0</td>\n",
              "      <td>Yes</td>\n",
              "      <td>50</td>\n",
              "      <td>3.224406</td>\n",
              "    </tr>\n",
              "    <tr>\n",
              "      <th>6</th>\n",
              "      <td>TA-00002</td>\n",
              "      <td>S-0066</td>\n",
              "      <td>2013-07-07</td>\n",
              "      <td>0</td>\n",
              "      <td>0</td>\n",
              "      <td>Yes</td>\n",
              "      <td>100</td>\n",
              "      <td>3.082521</td>\n",
              "    </tr>\n",
              "    <tr>\n",
              "      <th>7</th>\n",
              "      <td>TA-00002</td>\n",
              "      <td>S-0066</td>\n",
              "      <td>2013-07-07</td>\n",
              "      <td>0</td>\n",
              "      <td>0</td>\n",
              "      <td>Yes</td>\n",
              "      <td>250</td>\n",
              "      <td>2.999060</td>\n",
              "    </tr>\n",
              "    <tr>\n",
              "      <th>8</th>\n",
              "      <td>TA-00004</td>\n",
              "      <td>S-0066</td>\n",
              "      <td>2013-07-07</td>\n",
              "      <td>0</td>\n",
              "      <td>0</td>\n",
              "      <td>Yes</td>\n",
              "      <td>1</td>\n",
              "      <td>21.972702</td>\n",
              "    </tr>\n",
              "    <tr>\n",
              "      <th>9</th>\n",
              "      <td>TA-00004</td>\n",
              "      <td>S-0066</td>\n",
              "      <td>2013-07-07</td>\n",
              "      <td>0</td>\n",
              "      <td>0</td>\n",
              "      <td>Yes</td>\n",
              "      <td>2</td>\n",
              "      <td>12.407983</td>\n",
              "    </tr>\n",
              "  </tbody>\n",
              "</table>\n",
              "</div>"
            ],
            "text/plain": [
              "  tube_assembly_id supplier  quote_date  ...  bracket_pricing  quantity       cost\n",
              "0         TA-00002   S-0066  2013-07-07  ...              Yes         1  21.905933\n",
              "1         TA-00002   S-0066  2013-07-07  ...              Yes         2  12.341214\n",
              "2         TA-00002   S-0066  2013-07-07  ...              Yes         5   6.601826\n",
              "3         TA-00002   S-0066  2013-07-07  ...              Yes        10   4.687770\n",
              "4         TA-00002   S-0066  2013-07-07  ...              Yes        25   3.541561\n",
              "5         TA-00002   S-0066  2013-07-07  ...              Yes        50   3.224406\n",
              "6         TA-00002   S-0066  2013-07-07  ...              Yes       100   3.082521\n",
              "7         TA-00002   S-0066  2013-07-07  ...              Yes       250   2.999060\n",
              "8         TA-00004   S-0066  2013-07-07  ...              Yes         1  21.972702\n",
              "9         TA-00004   S-0066  2013-07-07  ...              Yes         2  12.407983\n",
              "\n",
              "[10 rows x 8 columns]"
            ]
          },
          "metadata": {
            "tags": []
          },
          "execution_count": 87
        }
      ]
    },
    {
      "cell_type": "code",
      "metadata": {
        "id": "qKtRVLBJugl5",
        "colab_type": "code",
        "outputId": "9a22c2a0-b442-4578-c408-4759212a1214",
        "colab": {
          "base_uri": "https://localhost:8080/",
          "height": 352
        }
      },
      "source": [
        "test.head(10)"
      ],
      "execution_count": 88,
      "outputs": [
        {
          "output_type": "execute_result",
          "data": {
            "text/html": [
              "<div>\n",
              "<style scoped>\n",
              "    .dataframe tbody tr th:only-of-type {\n",
              "        vertical-align: middle;\n",
              "    }\n",
              "\n",
              "    .dataframe tbody tr th {\n",
              "        vertical-align: top;\n",
              "    }\n",
              "\n",
              "    .dataframe thead th {\n",
              "        text-align: right;\n",
              "    }\n",
              "</style>\n",
              "<table border=\"1\" class=\"dataframe\">\n",
              "  <thead>\n",
              "    <tr style=\"text-align: right;\">\n",
              "      <th></th>\n",
              "      <th>id</th>\n",
              "      <th>tube_assembly_id</th>\n",
              "      <th>supplier</th>\n",
              "      <th>quote_date</th>\n",
              "      <th>annual_usage</th>\n",
              "      <th>min_order_quantity</th>\n",
              "      <th>bracket_pricing</th>\n",
              "      <th>quantity</th>\n",
              "    </tr>\n",
              "  </thead>\n",
              "  <tbody>\n",
              "    <tr>\n",
              "      <th>0</th>\n",
              "      <td>1</td>\n",
              "      <td>TA-00001</td>\n",
              "      <td>S-0066</td>\n",
              "      <td>2013-06-23</td>\n",
              "      <td>0</td>\n",
              "      <td>0</td>\n",
              "      <td>Yes</td>\n",
              "      <td>1</td>\n",
              "    </tr>\n",
              "    <tr>\n",
              "      <th>1</th>\n",
              "      <td>2</td>\n",
              "      <td>TA-00001</td>\n",
              "      <td>S-0066</td>\n",
              "      <td>2013-06-23</td>\n",
              "      <td>0</td>\n",
              "      <td>0</td>\n",
              "      <td>Yes</td>\n",
              "      <td>2</td>\n",
              "    </tr>\n",
              "    <tr>\n",
              "      <th>2</th>\n",
              "      <td>3</td>\n",
              "      <td>TA-00001</td>\n",
              "      <td>S-0066</td>\n",
              "      <td>2013-06-23</td>\n",
              "      <td>0</td>\n",
              "      <td>0</td>\n",
              "      <td>Yes</td>\n",
              "      <td>5</td>\n",
              "    </tr>\n",
              "    <tr>\n",
              "      <th>3</th>\n",
              "      <td>4</td>\n",
              "      <td>TA-00001</td>\n",
              "      <td>S-0066</td>\n",
              "      <td>2013-06-23</td>\n",
              "      <td>0</td>\n",
              "      <td>0</td>\n",
              "      <td>Yes</td>\n",
              "      <td>10</td>\n",
              "    </tr>\n",
              "    <tr>\n",
              "      <th>4</th>\n",
              "      <td>5</td>\n",
              "      <td>TA-00001</td>\n",
              "      <td>S-0066</td>\n",
              "      <td>2013-06-23</td>\n",
              "      <td>0</td>\n",
              "      <td>0</td>\n",
              "      <td>Yes</td>\n",
              "      <td>25</td>\n",
              "    </tr>\n",
              "    <tr>\n",
              "      <th>5</th>\n",
              "      <td>6</td>\n",
              "      <td>TA-00001</td>\n",
              "      <td>S-0066</td>\n",
              "      <td>2013-06-23</td>\n",
              "      <td>0</td>\n",
              "      <td>0</td>\n",
              "      <td>Yes</td>\n",
              "      <td>50</td>\n",
              "    </tr>\n",
              "    <tr>\n",
              "      <th>6</th>\n",
              "      <td>7</td>\n",
              "      <td>TA-00001</td>\n",
              "      <td>S-0066</td>\n",
              "      <td>2013-06-23</td>\n",
              "      <td>0</td>\n",
              "      <td>0</td>\n",
              "      <td>Yes</td>\n",
              "      <td>100</td>\n",
              "    </tr>\n",
              "    <tr>\n",
              "      <th>7</th>\n",
              "      <td>8</td>\n",
              "      <td>TA-00001</td>\n",
              "      <td>S-0066</td>\n",
              "      <td>2013-06-23</td>\n",
              "      <td>0</td>\n",
              "      <td>0</td>\n",
              "      <td>Yes</td>\n",
              "      <td>250</td>\n",
              "    </tr>\n",
              "    <tr>\n",
              "      <th>8</th>\n",
              "      <td>9</td>\n",
              "      <td>TA-00003</td>\n",
              "      <td>S-0066</td>\n",
              "      <td>2013-07-07</td>\n",
              "      <td>0</td>\n",
              "      <td>0</td>\n",
              "      <td>Yes</td>\n",
              "      <td>1</td>\n",
              "    </tr>\n",
              "    <tr>\n",
              "      <th>9</th>\n",
              "      <td>10</td>\n",
              "      <td>TA-00003</td>\n",
              "      <td>S-0066</td>\n",
              "      <td>2013-07-07</td>\n",
              "      <td>0</td>\n",
              "      <td>0</td>\n",
              "      <td>Yes</td>\n",
              "      <td>2</td>\n",
              "    </tr>\n",
              "  </tbody>\n",
              "</table>\n",
              "</div>"
            ],
            "text/plain": [
              "   id tube_assembly_id supplier  ... min_order_quantity  bracket_pricing  quantity\n",
              "0   1         TA-00001   S-0066  ...                  0              Yes         1\n",
              "1   2         TA-00001   S-0066  ...                  0              Yes         2\n",
              "2   3         TA-00001   S-0066  ...                  0              Yes         5\n",
              "3   4         TA-00001   S-0066  ...                  0              Yes        10\n",
              "4   5         TA-00001   S-0066  ...                  0              Yes        25\n",
              "5   6         TA-00001   S-0066  ...                  0              Yes        50\n",
              "6   7         TA-00001   S-0066  ...                  0              Yes       100\n",
              "7   8         TA-00001   S-0066  ...                  0              Yes       250\n",
              "8   9         TA-00003   S-0066  ...                  0              Yes         1\n",
              "9  10         TA-00003   S-0066  ...                  0              Yes         2\n",
              "\n",
              "[10 rows x 8 columns]"
            ]
          },
          "metadata": {
            "tags": []
          },
          "execution_count": 88
        }
      ]
    },
    {
      "cell_type": "code",
      "metadata": {
        "id": "sM-wmI33u6mY",
        "colab_type": "code",
        "colab": {}
      },
      "source": [
        "#Off of initial looks we see some date overlap.\n",
        "\n",
        "#We could assess this more rigorously though.\n",
        "\n",
        "#We'll convert quote_date to a proper pandas date time in both train_and_val and test.\n",
        "\n",
        "train_and_val['quote_date'] = pd.to_datetime(train_and_val['quote_date'], infer_datetime_format=True)\n",
        "\n",
        "test['quote_date'] = pd.to_datetime(test['quote_date'], infer_datetime_format=True)"
      ],
      "execution_count": 0,
      "outputs": []
    },
    {
      "cell_type": "code",
      "metadata": {
        "id": "zHHM4wIfwDBt",
        "colab_type": "code",
        "outputId": "d8563566-0f93-4c5a-bfdb-2d9080623c45",
        "colab": {
          "base_uri": "https://localhost:8080/",
          "height": 141
        }
      },
      "source": [
        "train_and_val['quote_date'].describe()"
      ],
      "execution_count": 90,
      "outputs": [
        {
          "output_type": "execute_result",
          "data": {
            "text/plain": [
              "count                   30213\n",
              "unique                   1781\n",
              "top       2013-10-01 00:00:00\n",
              "freq                     2877\n",
              "first     1982-09-22 00:00:00\n",
              "last      2017-01-01 00:00:00\n",
              "Name: quote_date, dtype: object"
            ]
          },
          "metadata": {
            "tags": []
          },
          "execution_count": 90
        }
      ]
    },
    {
      "cell_type": "code",
      "metadata": {
        "id": "FjlVQK1dwQnI",
        "colab_type": "code",
        "outputId": "2b2abe5b-5eb9-444c-cc93-b7bc007bf248",
        "colab": {
          "base_uri": "https://localhost:8080/",
          "height": 141
        }
      },
      "source": [
        "test['quote_date'].describe()"
      ],
      "execution_count": 91,
      "outputs": [
        {
          "output_type": "execute_result",
          "data": {
            "text/plain": [
              "count                   30235\n",
              "unique                   1778\n",
              "top       2013-09-01 00:00:00\n",
              "freq                     2992\n",
              "first     1985-11-16 00:00:00\n",
              "last      2017-01-01 00:00:00\n",
              "Name: quote_date, dtype: object"
            ]
          },
          "metadata": {
            "tags": []
          },
          "execution_count": 91
        }
      ]
    },
    {
      "cell_type": "code",
      "metadata": {
        "id": "MRbHtYL4weEz",
        "colab_type": "code",
        "colab": {}
      },
      "source": [
        "#We can see from looking at the first and last dates of train_and_val and test that their date ranges are highly overlapping. It's clearly not the business goal to forecast from earlier information\n",
        "#to later information. Instead, their goal might be to use information about tube assemblies they have seen before to make predictions about tube assemblies that are unknown."
      ],
      "execution_count": 0,
      "outputs": []
    },
    {
      "cell_type": "markdown",
      "metadata": {
        "id": "eCv8o7oNx3xE",
        "colab_type": "text"
      },
      "source": [
        "**Does the test set have different tube assemblies?**"
      ]
    },
    {
      "cell_type": "code",
      "metadata": {
        "id": "JG19P3xXx61N",
        "colab_type": "code",
        "outputId": "f349b955-356d-4d36-d9db-824932aedf1b",
        "colab": {
          "base_uri": "https://localhost:8080/",
          "height": 35
        }
      },
      "source": [
        "#How many unique values does the train_and_val set have?\n",
        "\n",
        "train_and_val['tube_assembly_id'].nunique()"
      ],
      "execution_count": 93,
      "outputs": [
        {
          "output_type": "execute_result",
          "data": {
            "text/plain": [
              "8855"
            ]
          },
          "metadata": {
            "tags": []
          },
          "execution_count": 93
        }
      ]
    },
    {
      "cell_type": "code",
      "metadata": {
        "id": "YbjpTJvRyNvQ",
        "colab_type": "code",
        "outputId": "b0546718-7a93-4b9f-ff9f-52cff73adab3",
        "colab": {
          "base_uri": "https://localhost:8080/",
          "height": 35
        }
      },
      "source": [
        "#What about in test?\n",
        "\n",
        "test['tube_assembly_id'].nunique()"
      ],
      "execution_count": 94,
      "outputs": [
        {
          "output_type": "execute_result",
          "data": {
            "text/plain": [
              "8856"
            ]
          },
          "metadata": {
            "tags": []
          },
          "execution_count": 94
        }
      ]
    },
    {
      "cell_type": "code",
      "metadata": {
        "id": "h89_0LkMycO-",
        "colab_type": "code",
        "outputId": "bcec1989-c77a-4b3f-d6d8-094be6244a64",
        "colab": {
          "base_uri": "https://localhost:8080/",
          "height": 35
        }
      },
      "source": [
        "#Is there any overlap between the unique values for tube assemblies in train_and_val and test?\n",
        "\n",
        "train_and_val_tube_assemblies = train_and_val['tube_assembly_id'].unique()\n",
        "test_tube_assemblies = test['tube_assembly_id'].unique()\n",
        "\n",
        "(len(train_and_val_tube_assemblies), len(test_tube_assemblies))"
      ],
      "execution_count": 95,
      "outputs": [
        {
          "output_type": "execute_result",
          "data": {
            "text/plain": [
              "(8855, 8856)"
            ]
          },
          "metadata": {
            "tags": []
          },
          "execution_count": 95
        }
      ]
    },
    {
      "cell_type": "code",
      "metadata": {
        "id": "njIoyrEnzmHQ",
        "colab_type": "code",
        "outputId": "ef815eb2-fe32-45ab-9ad1-344250b8f1b7",
        "colab": {
          "base_uri": "https://localhost:8080/",
          "height": 35
        }
      },
      "source": [
        "#Let's see if there is an intersection for train_and_val_tube_assemblies and the test_tube_assemblies.\n",
        "#So, are there tube assemblies that they have in common?\n",
        "\n",
        "set(train_and_val_tube_assemblies) & set(test_tube_assemblies)\n",
        "\n",
        "#We see that there is no intersection/overlap as an empty set was returned."
      ],
      "execution_count": 96,
      "outputs": [
        {
          "output_type": "execute_result",
          "data": {
            "text/plain": [
              "set()"
            ]
          },
          "metadata": {
            "tags": []
          },
          "execution_count": 96
        }
      ]
    },
    {
      "cell_type": "markdown",
      "metadata": {
        "id": "krOMqjGO0aN-",
        "colab_type": "text"
      },
      "source": [
        "Make the validation set like the test set. We'll make sure that we have a complete tube assembly in either our train or val set. "
      ]
    },
    {
      "cell_type": "code",
      "metadata": {
        "id": "8Jlbhfba0d2-",
        "colab_type": "code",
        "outputId": "cad4baa9-deb1-4511-c1c2-89b603ec7a4d",
        "colab": {
          "base_uri": "https://localhost:8080/",
          "height": 52
        }
      },
      "source": [
        "train_and_val_tube_assemblies\n",
        "\n",
        "#For example, we would want all of TA-00002 to be in either train or val."
      ],
      "execution_count": 97,
      "outputs": [
        {
          "output_type": "execute_result",
          "data": {
            "text/plain": [
              "array(['TA-00002', 'TA-00004', 'TA-00005', ..., 'TA-21195', 'TA-21196',\n",
              "       'TA-21197'], dtype=object)"
            ]
          },
          "metadata": {
            "tags": []
          },
          "execution_count": 97
        }
      ]
    },
    {
      "cell_type": "code",
      "metadata": {
        "id": "303-uYAx0dzi",
        "colab_type": "code",
        "colab": {}
      },
      "source": [
        "from sklearn.model_selection import train_test_split\n",
        "\n",
        "train_tube_assemblies, val_tube_assemblies = train_test_split(train_and_val_tube_assemblies, random_state=42)"
      ],
      "execution_count": 0,
      "outputs": []
    },
    {
      "cell_type": "code",
      "metadata": {
        "id": "fQb9e4wf2zGh",
        "colab_type": "code",
        "outputId": "afa7975a-30d1-4a5e-9f69-5687b2269ba0",
        "colab": {
          "base_uri": "https://localhost:8080/",
          "height": 35
        }
      },
      "source": [
        "#Let's look at how many assemblies have been assigned to each set.\n",
        "\n",
        "len(train_tube_assemblies), len(val_tube_assemblies)"
      ],
      "execution_count": 99,
      "outputs": [
        {
          "output_type": "execute_result",
          "data": {
            "text/plain": [
              "(6641, 2214)"
            ]
          },
          "metadata": {
            "tags": []
          },
          "execution_count": 99
        }
      ]
    },
    {
      "cell_type": "code",
      "metadata": {
        "id": "oCUYUBeV3T_n",
        "colab_type": "code",
        "outputId": "847b59da-19df-4f71-8daf-123446ad58e5",
        "colab": {
          "base_uri": "https://localhost:8080/",
          "height": 35
        }
      },
      "source": [
        "#Verify that there isn't an intersection.\n",
        "\n",
        "set(train_tube_assemblies) & set(val_tube_assemblies)"
      ],
      "execution_count": 100,
      "outputs": [
        {
          "output_type": "execute_result",
          "data": {
            "text/plain": [
              "set()"
            ]
          },
          "metadata": {
            "tags": []
          },
          "execution_count": 100
        }
      ]
    },
    {
      "cell_type": "code",
      "metadata": {
        "id": "1EZaNpRT56in",
        "colab_type": "code",
        "colab": {}
      },
      "source": [
        "#How will we make sure that we have the proper tube assemblies in our train and val sets?\n",
        "\n",
        "\n",
        "train = train_and_val[train_and_val.tube_assembly_id.isin(train_tube_assemblies)]\n",
        "\n",
        "val = train_and_val[train_and_val.tube_assembly_id.isin(val_tube_assemblies)]"
      ],
      "execution_count": 0,
      "outputs": []
    },
    {
      "cell_type": "markdown",
      "metadata": {
        "id": "s33xLnvI8U47",
        "colab_type": "text"
      },
      "source": [
        "Yay, we now have our train and val sets!"
      ]
    },
    {
      "cell_type": "code",
      "metadata": {
        "id": "bnXzOjA58SY9",
        "colab_type": "code",
        "outputId": "a62c843f-d075-4951-e9ec-1db76b7442f9",
        "colab": {
          "base_uri": "https://localhost:8080/",
          "height": 200
        }
      },
      "source": [
        "#We can now begin with our baseline for regression.\n",
        "\n",
        "#To do this, we'll start by establishing our target.\n",
        "\n",
        "train.head()"
      ],
      "execution_count": 102,
      "outputs": [
        {
          "output_type": "execute_result",
          "data": {
            "text/html": [
              "<div>\n",
              "<style scoped>\n",
              "    .dataframe tbody tr th:only-of-type {\n",
              "        vertical-align: middle;\n",
              "    }\n",
              "\n",
              "    .dataframe tbody tr th {\n",
              "        vertical-align: top;\n",
              "    }\n",
              "\n",
              "    .dataframe thead th {\n",
              "        text-align: right;\n",
              "    }\n",
              "</style>\n",
              "<table border=\"1\" class=\"dataframe\">\n",
              "  <thead>\n",
              "    <tr style=\"text-align: right;\">\n",
              "      <th></th>\n",
              "      <th>tube_assembly_id</th>\n",
              "      <th>supplier</th>\n",
              "      <th>quote_date</th>\n",
              "      <th>annual_usage</th>\n",
              "      <th>min_order_quantity</th>\n",
              "      <th>bracket_pricing</th>\n",
              "      <th>quantity</th>\n",
              "      <th>cost</th>\n",
              "    </tr>\n",
              "  </thead>\n",
              "  <tbody>\n",
              "    <tr>\n",
              "      <th>8</th>\n",
              "      <td>TA-00004</td>\n",
              "      <td>S-0066</td>\n",
              "      <td>2013-07-07</td>\n",
              "      <td>0</td>\n",
              "      <td>0</td>\n",
              "      <td>Yes</td>\n",
              "      <td>1</td>\n",
              "      <td>21.972702</td>\n",
              "    </tr>\n",
              "    <tr>\n",
              "      <th>9</th>\n",
              "      <td>TA-00004</td>\n",
              "      <td>S-0066</td>\n",
              "      <td>2013-07-07</td>\n",
              "      <td>0</td>\n",
              "      <td>0</td>\n",
              "      <td>Yes</td>\n",
              "      <td>2</td>\n",
              "      <td>12.407983</td>\n",
              "    </tr>\n",
              "    <tr>\n",
              "      <th>10</th>\n",
              "      <td>TA-00004</td>\n",
              "      <td>S-0066</td>\n",
              "      <td>2013-07-07</td>\n",
              "      <td>0</td>\n",
              "      <td>0</td>\n",
              "      <td>Yes</td>\n",
              "      <td>5</td>\n",
              "      <td>6.668596</td>\n",
              "    </tr>\n",
              "    <tr>\n",
              "      <th>11</th>\n",
              "      <td>TA-00004</td>\n",
              "      <td>S-0066</td>\n",
              "      <td>2013-07-07</td>\n",
              "      <td>0</td>\n",
              "      <td>0</td>\n",
              "      <td>Yes</td>\n",
              "      <td>10</td>\n",
              "      <td>4.754539</td>\n",
              "    </tr>\n",
              "    <tr>\n",
              "      <th>12</th>\n",
              "      <td>TA-00004</td>\n",
              "      <td>S-0066</td>\n",
              "      <td>2013-07-07</td>\n",
              "      <td>0</td>\n",
              "      <td>0</td>\n",
              "      <td>Yes</td>\n",
              "      <td>25</td>\n",
              "      <td>3.608331</td>\n",
              "    </tr>\n",
              "  </tbody>\n",
              "</table>\n",
              "</div>"
            ],
            "text/plain": [
              "   tube_assembly_id supplier quote_date  ...  bracket_pricing  quantity       cost\n",
              "8          TA-00004   S-0066 2013-07-07  ...              Yes         1  21.972702\n",
              "9          TA-00004   S-0066 2013-07-07  ...              Yes         2  12.407983\n",
              "10         TA-00004   S-0066 2013-07-07  ...              Yes         5   6.668596\n",
              "11         TA-00004   S-0066 2013-07-07  ...              Yes        10   4.754539\n",
              "12         TA-00004   S-0066 2013-07-07  ...              Yes        25   3.608331\n",
              "\n",
              "[5 rows x 8 columns]"
            ]
          },
          "metadata": {
            "tags": []
          },
          "execution_count": 102
        }
      ]
    },
    {
      "cell_type": "code",
      "metadata": {
        "id": "7fOT_38J9PwG",
        "colab_type": "code",
        "colab": {}
      },
      "source": [
        "#We can determine that our target is cost.\n",
        "\n",
        "target = 'cost'\n",
        "\n",
        "y_train = train[target]\n",
        "\n",
        "y_val = val[target]\n",
        "\n",
        "#Establishing the baseline.\n",
        "\n",
        "y_pred = np.full_like(y_val, fill_value=y_train.mean())"
      ],
      "execution_count": 0,
      "outputs": []
    },
    {
      "cell_type": "code",
      "metadata": {
        "id": "v0TzWpi_-moy",
        "colab_type": "code",
        "outputId": "e1ea2eef-495f-443c-f41a-1b7561e6de82",
        "colab": {
          "base_uri": "https://localhost:8080/",
          "height": 35
        }
      },
      "source": [
        "print('Validation RMSLE for the Mean Baseline:', rmsle(y_val, y_pred))\n",
        "\n",
        "#We want to continue to improve our model with an error lower than the baseline.\n",
        "\n",
        "#RMSLE is not necesaarily from 0 to 1. A lower number is better however.\n",
        "#Note that this is in logarithmic units not in the original untis.\n",
        "#It will be useful for us to convert this back into the original units for interpretation."
      ],
      "execution_count": 104,
      "outputs": [
        {
          "output_type": "stream",
          "text": [
            "Validation RMSLE for the Mean Baseline: 0.9418101276064408\n"
          ],
          "name": "stdout"
        }
      ]
    },
    {
      "cell_type": "code",
      "metadata": {
        "id": "9wLTlTTpOrCD",
        "colab_type": "code",
        "outputId": "5ad5f6fb-7bed-4a6f-fde1-2157c5c0ea13",
        "colab": {
          "base_uri": "https://localhost:8080/",
          "height": 35
        }
      },
      "source": [
        "#What about an R^2 score?\n",
        "\n",
        "from sklearn.metrics import r2_score\n",
        "\n",
        "print('Validation R^2 for the Mean Baseline:', r2_score(y_val, y_pred))"
      ],
      "execution_count": 105,
      "outputs": [
        {
          "output_type": "stream",
          "text": [
            "Validation R^2 for the Mean Baseline: -4.701447715138585e-06\n"
          ],
          "name": "stdout"
        }
      ]
    },
    {
      "cell_type": "markdown",
      "metadata": {
        "id": "ydWpreUO_HpW",
        "colab_type": "text"
      },
      "source": [
        "So, let's develop a first model that does better than our mean baseline."
      ]
    },
    {
      "cell_type": "code",
      "metadata": {
        "id": "ppJe0Dd1_OLS",
        "colab_type": "code",
        "colab": {}
      },
      "source": [
        "#We'll start by using Random Forest and one feature, quantity!\n",
        "\n",
        "features = ['quantity']\n",
        "\n",
        "X_train = train[features]\n",
        "X_val = val[features]"
      ],
      "execution_count": 0,
      "outputs": []
    },
    {
      "cell_type": "code",
      "metadata": {
        "id": "twuIMLJGM61W",
        "colab_type": "code",
        "outputId": "b2efbaeb-d395-4005-d863-e4ec3d509805",
        "colab": {
          "base_uri": "https://localhost:8080/",
          "height": 35
        }
      },
      "source": [
        "#Remember this is a regression problem, hence we use the Random Forest Regressor.\n",
        "\n",
        "from sklearn.ensemble import RandomForestRegressor\n",
        "\n",
        "model = RandomForestRegressor(n_estimators=100, random_state=42, n_jobs=-1)\n",
        "\n",
        "model.fit(X_train, y_train)\n",
        "\n",
        "#Let's also take a look at an R^2 score.\n",
        "\n",
        "r2 = model.score(X_val, y_val)\n",
        "\n",
        "print('Validation R^2:', r2)"
      ],
      "execution_count": 107,
      "outputs": [
        {
          "output_type": "stream",
          "text": [
            "Validation R^2: 0.08879518736792147\n"
          ],
          "name": "stdout"
        }
      ]
    },
    {
      "cell_type": "code",
      "metadata": {
        "id": "nuYdQ3icToe7",
        "colab_type": "code",
        "outputId": "5a999ec3-c843-4ae1-81d2-a79d76aac123",
        "colab": {
          "base_uri": "https://localhost:8080/",
          "height": 35
        }
      },
      "source": [
        "y_pred = model.predict(X_val)\n",
        "\n",
        "print('Validation RMSLE for Random Forest Regressor with 1 Feature:', rmsle(y_val, y_pred))\n",
        "\n",
        "#We observe a lower RMSLE than our baseline.\n",
        "#Note: 0 is the best possible scenario for any error."
      ],
      "execution_count": 108,
      "outputs": [
        {
          "output_type": "stream",
          "text": [
            "Validation RMSLE for Random Forest Regressor with 1 Feature: 0.6908805822519186\n"
          ],
          "name": "stdout"
        }
      ]
    },
    {
      "cell_type": "code",
      "metadata": {
        "id": "YTPZ6h0ZVDKJ",
        "colab_type": "code",
        "colab": {}
      },
      "source": [
        "#How with using the same model type and just the one feature can we improve our error?\n",
        "\n",
        "#Log transforming the regression target!\n",
        "\n",
        "#And we can do this because we have a right skewed distribution."
      ],
      "execution_count": 0,
      "outputs": []
    },
    {
      "cell_type": "code",
      "metadata": {
        "id": "O-e5gAecVaKo",
        "colab_type": "code",
        "outputId": "7ae5c0e2-3d74-4bbb-cf64-b61f154529c9",
        "colab": {
          "base_uri": "https://localhost:8080/",
          "height": 283
        }
      },
      "source": [
        "#Let's visualize our distribution before we log transform the regression target.\n",
        "\n",
        "%matplotlib inline\n",
        "\n",
        "import seaborn as sns\n",
        "\n",
        "sns.distplot(y_train);\n",
        "\n",
        "#By visualizing, we clearly see the right-skew."
      ],
      "execution_count": 110,
      "outputs": [
        {
          "output_type": "display_data",
          "data": {
            "image/png": "[encoded data removed]",
            "text/plain": [
              "<Figure size 432x288 with 1 Axes>"
            ]
          },
          "metadata": {
            "tags": []
          }
        }
      ]
    },
    {
      "cell_type": "code",
      "metadata": {
        "id": "IDJ-sHl7Wow5",
        "colab_type": "code",
        "outputId": "e9124deb-acf9-4526-959a-bdf94f5c851a",
        "colab": {
          "base_uri": "https://localhost:8080/",
          "height": 52
        }
      },
      "source": [
        "#An important thing to note: Logarithms are like an undo for exponentiation.\n",
        "\n",
        "#To demonstrate...\n",
        "\n",
        "print(2**3)\n",
        "\n",
        "print(np.log2(8))\n",
        "\n",
        "#We see that it is like undoing the operation."
      ],
      "execution_count": 111,
      "outputs": [
        {
          "output_type": "stream",
          "text": [
            "8\n",
            "3.0\n"
          ],
          "name": "stdout"
        }
      ]
    },
    {
      "cell_type": "code",
      "metadata": {
        "id": "iaK55AB6X75O",
        "colab_type": "code",
        "outputId": "de0fe267-5fc6-4d99-f88c-5958d85530a3",
        "colab": {
          "base_uri": "https://localhost:8080/",
          "height": 283
        }
      },
      "source": [
        "#Let's apply this to our training labels and plot it as well.\n",
        "#Compare to the visualization above.\n",
        "\n",
        "y_train_log = np.log1p(y_train)\n",
        "sns.distplot(y_train_log);\n",
        "\n",
        "#Cost is now represented in log dollars."
      ],
      "execution_count": 112,
      "outputs": [
        {
          "output_type": "display_data",
          "data": {
            "image/png": "[encoded data removed]",
            "text/plain": [
              "<Figure size 432x288 with 1 Axes>"
            ]
          },
          "metadata": {
            "tags": []
          }
        }
      ]
    },
    {
      "cell_type": "code",
      "metadata": {
        "id": "rW1l_aLYX2Um",
        "colab_type": "code",
        "outputId": "0ccb917d-cbf1-4d1e-8860-081dfd0a9a12",
        "colab": {
          "base_uri": "https://localhost:8080/",
          "height": 283
        }
      },
      "source": [
        "#Transforming it would return the plot back to what it initially looked like.\n",
        "\n",
        "y_train_log_exp = np.expm1(y_train_log)\n",
        "\n",
        "sns.distplot(y_train_log_exp);"
      ],
      "execution_count": 113,
      "outputs": [
        {
          "output_type": "display_data",
          "data": {
            "image/png": "[encoded data removed]",
            "text/plain": [
              "<Figure size 432x288 with 1 Axes>"
            ]
          },
          "metadata": {
            "tags": []
          }
        }
      ]
    },
    {
      "cell_type": "markdown",
      "metadata": {
        "id": "AN_liJUsXnE8",
        "colab_type": "text"
      },
      "source": [
        "Let's now refit our model after log transforming our target!"
      ]
    },
    {
      "cell_type": "code",
      "metadata": {
        "id": "bJ8dzKthZRM4",
        "colab_type": "code",
        "outputId": "d8c0f934-8d4f-4c14-fb03-8114512f0798",
        "colab": {
          "base_uri": "https://localhost:8080/",
          "height": 35
        }
      },
      "source": [
        "y_train_log = np.log1p(y_train)\n",
        "\n",
        "model.fit(X_train, y_train_log)\n",
        "\n",
        "y_pred_log = model.predict(X_val) #These predictions are in log dollars.\n",
        "\n",
        "#Converting back to the original units.\n",
        "\n",
        "y_pred = np.expm1(y_pred_log)\n",
        "\n",
        "print('Validation RMSLE for Random Forest Regressor with 1 Feature and Log Transformed Target:', rmsle(y_val, y_pred))\n",
        "\n",
        "#We observe that this error is lower. Also, remember that this error is also in terms of our original units as we converted it back just above."
      ],
      "execution_count": 114,
      "outputs": [
        {
          "output_type": "stream",
          "text": [
            "Validation RMSLE for Random Forest Regressor with 1 Feature and Log Transformed Target: 0.622925465880199\n"
          ],
          "name": "stdout"
        }
      ]
    },
    {
      "cell_type": "code",
      "metadata": {
        "id": "tkWEL86Fb5RZ",
        "colab_type": "code",
        "outputId": "fa7d1b64-74f6-4f51-9b24-0c0a2699e27f",
        "colab": {
          "base_uri": "https://localhost:8080/",
          "height": 35
        }
      },
      "source": [
        "#RMSLE with original targets = RMSE with log transformed targets\n",
        "\n",
        "from sklearn.metrics import mean_squared_error\n",
        "\n",
        "def rmse(y_true, y_pred):\n",
        "  return np.sqrt(mean_squared_error(y_true, y_pred))\n",
        "\n",
        "#Log transform the validation target as well.\n",
        "\n",
        "y_val_log = np.log1p(y_val)\n",
        "\n",
        "rmse(y_val_log, y_pred_log) #This is in terms of log dollars!\n",
        "\n",
        "#Notice that this is the same as the RMSLE number with a log transformed target.  "
      ],
      "execution_count": 115,
      "outputs": [
        {
          "output_type": "execute_result",
          "data": {
            "text/plain": [
              "0.622925465880199"
            ]
          },
          "metadata": {
            "tags": []
          },
          "execution_count": 115
        }
      ]
    },
    {
      "cell_type": "markdown",
      "metadata": {
        "id": "0pwEPTmjeWou",
        "colab_type": "text"
      },
      "source": [
        "We are looking to select more features now..."
      ]
    },
    {
      "cell_type": "code",
      "metadata": {
        "id": "YaPRlbgYedPm",
        "colab_type": "code",
        "outputId": "114865a1-1a1a-43f4-d4d0-0dd90734e4fd",
        "colab": {
          "base_uri": "https://localhost:8080/",
          "height": 212
        }
      },
      "source": [
        "!pip install category_encoders"
      ],
      "execution_count": 116,
      "outputs": [
        {
          "output_type": "stream",
          "text": [
            "Requirement already satisfied: category_encoders in /usr/local/lib/python3.6/dist-packages (2.0.0)\n",
            "Requirement already satisfied: pandas>=0.21.1 in /usr/local/lib/python3.6/dist-packages (from category_encoders) (0.24.2)\n",
            "Requirement already satisfied: scikit-learn>=0.20.0 in /usr/local/lib/python3.6/dist-packages (from category_encoders) (0.21.2)\n",
            "Requirement already satisfied: statsmodels>=0.6.1 in /usr/local/lib/python3.6/dist-packages (from category_encoders) (0.10.0)\n",
            "Requirement already satisfied: scipy>=0.19.0 in /usr/local/lib/python3.6/dist-packages (from category_encoders) (1.3.0)\n",
            "Requirement already satisfied: numpy>=1.11.3 in /usr/local/lib/python3.6/dist-packages (from category_encoders) (1.16.4)\n",
            "Requirement already satisfied: patsy>=0.4.1 in /usr/local/lib/python3.6/dist-packages (from category_encoders) (0.5.1)\n",
            "Requirement already satisfied: python-dateutil>=2.5.0 in /usr/local/lib/python3.6/dist-packages (from pandas>=0.21.1->category_encoders) (2.5.3)\n",
            "Requirement already satisfied: pytz>=2011k in /usr/local/lib/python3.6/dist-packages (from pandas>=0.21.1->category_encoders) (2018.9)\n",
            "Requirement already satisfied: joblib>=0.11 in /usr/local/lib/python3.6/dist-packages (from scikit-learn>=0.20.0->category_encoders) (0.13.2)\n",
            "Requirement already satisfied: six in /usr/local/lib/python3.6/dist-packages (from patsy>=0.4.1->category_encoders) (1.12.0)\n"
          ],
          "name": "stdout"
        }
      ]
    },
    {
      "cell_type": "code",
      "metadata": {
        "id": "vgCTRcZbemyO",
        "colab_type": "code",
        "outputId": "84bc7350-941f-4051-a4c9-6a1f0115c59f",
        "colab": {
          "base_uri": "https://localhost:8080/",
          "height": 200
        }
      },
      "source": [
        "#Let's remind ourselves what features we have available to us.\n",
        "\n",
        "train.head()"
      ],
      "execution_count": 117,
      "outputs": [
        {
          "output_type": "execute_result",
          "data": {
            "text/html": [
              "<div>\n",
              "<style scoped>\n",
              "    .dataframe tbody tr th:only-of-type {\n",
              "        vertical-align: middle;\n",
              "    }\n",
              "\n",
              "    .dataframe tbody tr th {\n",
              "        vertical-align: top;\n",
              "    }\n",
              "\n",
              "    .dataframe thead th {\n",
              "        text-align: right;\n",
              "    }\n",
              "</style>\n",
              "<table border=\"1\" class=\"dataframe\">\n",
              "  <thead>\n",
              "    <tr style=\"text-align: right;\">\n",
              "      <th></th>\n",
              "      <th>tube_assembly_id</th>\n",
              "      <th>supplier</th>\n",
              "      <th>quote_date</th>\n",
              "      <th>annual_usage</th>\n",
              "      <th>min_order_quantity</th>\n",
              "      <th>bracket_pricing</th>\n",
              "      <th>quantity</th>\n",
              "      <th>cost</th>\n",
              "    </tr>\n",
              "  </thead>\n",
              "  <tbody>\n",
              "    <tr>\n",
              "      <th>8</th>\n",
              "      <td>TA-00004</td>\n",
              "      <td>S-0066</td>\n",
              "      <td>2013-07-07</td>\n",
              "      <td>0</td>\n",
              "      <td>0</td>\n",
              "      <td>Yes</td>\n",
              "      <td>1</td>\n",
              "      <td>21.972702</td>\n",
              "    </tr>\n",
              "    <tr>\n",
              "      <th>9</th>\n",
              "      <td>TA-00004</td>\n",
              "      <td>S-0066</td>\n",
              "      <td>2013-07-07</td>\n",
              "      <td>0</td>\n",
              "      <td>0</td>\n",
              "      <td>Yes</td>\n",
              "      <td>2</td>\n",
              "      <td>12.407983</td>\n",
              "    </tr>\n",
              "    <tr>\n",
              "      <th>10</th>\n",
              "      <td>TA-00004</td>\n",
              "      <td>S-0066</td>\n",
              "      <td>2013-07-07</td>\n",
              "      <td>0</td>\n",
              "      <td>0</td>\n",
              "      <td>Yes</td>\n",
              "      <td>5</td>\n",
              "      <td>6.668596</td>\n",
              "    </tr>\n",
              "    <tr>\n",
              "      <th>11</th>\n",
              "      <td>TA-00004</td>\n",
              "      <td>S-0066</td>\n",
              "      <td>2013-07-07</td>\n",
              "      <td>0</td>\n",
              "      <td>0</td>\n",
              "      <td>Yes</td>\n",
              "      <td>10</td>\n",
              "      <td>4.754539</td>\n",
              "    </tr>\n",
              "    <tr>\n",
              "      <th>12</th>\n",
              "      <td>TA-00004</td>\n",
              "      <td>S-0066</td>\n",
              "      <td>2013-07-07</td>\n",
              "      <td>0</td>\n",
              "      <td>0</td>\n",
              "      <td>Yes</td>\n",
              "      <td>25</td>\n",
              "      <td>3.608331</td>\n",
              "    </tr>\n",
              "  </tbody>\n",
              "</table>\n",
              "</div>"
            ],
            "text/plain": [
              "   tube_assembly_id supplier quote_date  ...  bracket_pricing  quantity       cost\n",
              "8          TA-00004   S-0066 2013-07-07  ...              Yes         1  21.972702\n",
              "9          TA-00004   S-0066 2013-07-07  ...              Yes         2  12.407983\n",
              "10         TA-00004   S-0066 2013-07-07  ...              Yes         5   6.668596\n",
              "11         TA-00004   S-0066 2013-07-07  ...              Yes        10   4.754539\n",
              "12         TA-00004   S-0066 2013-07-07  ...              Yes        25   3.608331\n",
              "\n",
              "[5 rows x 8 columns]"
            ]
          },
          "metadata": {
            "tags": []
          },
          "execution_count": 117
        }
      ]
    },
    {
      "cell_type": "code",
      "metadata": {
        "id": "o4yIWokDeweA",
        "colab_type": "code",
        "colab": {}
      },
      "source": [
        "#We are going to engineer some features off of the quote_date.\n",
        "\n",
        "#We'll create a wrangle function to do this.\n",
        "\n",
        "def wrangle(X):\n",
        "  \n",
        "  X = X.copy()\n",
        "  \n",
        "  #Engineer features off of quote_date.\n",
        "  \n",
        "  X['quote_date'] = pd.to_datetime(X['quote_date'], infer_datetime_format=True)   #Convert quote date to date time.\n",
        "  X['quote_date_year'] = X['quote_date'].dt.year     #Create a column for quote date year.\n",
        "  X['quote_date_month'] = X['quote_date'].dt.year    #Create a column for quote date month.\n",
        "  X = X.drop(columns='quote_date')                   #We'll drop quote_date after extracting the information we needed.\n",
        "    \n",
        "  #Drop the tube_assembly_id feature as our goal is to predict unknown assemblies. We have different assemblies in our train, val and test sets which makes tube_assembly_id not a useful feature. \n",
        "  \n",
        "  X = X.drop(columns='tube_assembly_id')\n",
        "  \n",
        "  return X"
      ],
      "execution_count": 0,
      "outputs": []
    },
    {
      "cell_type": "code",
      "metadata": {
        "id": "F6NXIRAcg0xb",
        "colab_type": "code",
        "colab": {}
      },
      "source": [
        "#We'll apply our wrangle function to our train and val sets.\n",
        "\n",
        "train_wrangled = wrangle(train)\n",
        "val_wrangled = wrangle(val)"
      ],
      "execution_count": 0,
      "outputs": []
    },
    {
      "cell_type": "code",
      "metadata": {
        "id": "xHYxns2tiBb8",
        "colab_type": "code",
        "outputId": "dfe000a7-538e-4387-b152-93ed0a3fdc3f",
        "colab": {
          "base_uri": "https://localhost:8080/",
          "height": 35
        }
      },
      "source": [
        "features = train_wrangled.columns.drop(target)\n",
        "\n",
        "print('Features:', features.tolist())\n",
        "\n",
        "#Here we see all the features we'll be using."
      ],
      "execution_count": 120,
      "outputs": [
        {
          "output_type": "stream",
          "text": [
            "Features: ['supplier', 'annual_usage', 'min_order_quantity', 'bracket_pricing', 'quantity', 'quote_date_year', 'quote_date_month']\n"
          ],
          "name": "stdout"
        }
      ]
    },
    {
      "cell_type": "code",
      "metadata": {
        "id": "LQz6Oyj6ilR5",
        "colab_type": "code",
        "colab": {}
      },
      "source": [
        "#Define X_train and X_val after performing our feature engineering.\n",
        "\n",
        "X_train = train_wrangled[features]\n",
        "\n",
        "X_val = val_wrangled[features]"
      ],
      "execution_count": 0,
      "outputs": []
    },
    {
      "cell_type": "code",
      "metadata": {
        "id": "CSFj6ANniyrc",
        "colab_type": "code",
        "outputId": "f97e7252-4a04-4c97-9087-7bec40677a4c",
        "colab": {
          "base_uri": "https://localhost:8080/",
          "height": 35
        }
      },
      "source": [
        "#Create a pipeline.\n",
        "\n",
        "import category_encoders as ce\n",
        "from sklearn.pipeline import make_pipeline\n",
        "\n",
        "pipeline = make_pipeline(ce.OrdinalEncoder(), RandomForestRegressor(n_estimators=100, random_state=42, n_jobs=-1))\n",
        "\n",
        "pipeline.fit(X_train, y_train_log)\n",
        "y_pred_log = pipeline.predict(X_val) #Again, these are predictions in terms of log dollars.\n",
        "\n",
        "print('Validation RMSE:', rmse(y_val_log, y_pred_log))"
      ],
      "execution_count": 122,
      "outputs": [
        {
          "output_type": "stream",
          "text": [
            "Validation RMSE: 0.4072194838269549\n"
          ],
          "name": "stdout"
        }
      ]
    },
    {
      "cell_type": "code",
      "metadata": {
        "id": "-dNrraiNknPx",
        "colab_type": "code",
        "outputId": "419e158b-de1a-4242-e25f-3fe9e66ee790",
        "colab": {
          "base_uri": "https://localhost:8080/",
          "height": 35
        }
      },
      "source": [
        "#Converting in terms of original units.\n",
        "\n",
        "y_pred = np.expm1(y_pred_log)\n",
        "\n",
        "rmsle(y_val, y_pred)"
      ],
      "execution_count": 123,
      "outputs": [
        {
          "output_type": "execute_result",
          "data": {
            "text/plain": [
              "0.4072194838269549"
            ]
          },
          "metadata": {
            "tags": []
          },
          "execution_count": 123
        }
      ]
    },
    {
      "cell_type": "markdown",
      "metadata": {
        "id": "UkpT1sbAk9_z",
        "colab_type": "text"
      },
      "source": [
        "**Take a look at our feature importances.**"
      ]
    },
    {
      "cell_type": "code",
      "metadata": {
        "id": "7-wgGge2lCMg",
        "colab_type": "code",
        "outputId": "0a0aa1da-337f-4abd-9874-87a58625a7d7",
        "colab": {
          "base_uri": "https://localhost:8080/",
          "height": 159
        }
      },
      "source": [
        "random_forest = pipeline.named_steps['randomforestregressor']\n",
        "feature_importances = pd.Series(random_forest.feature_importances_, X_train.columns)\n",
        "feature_importances.sort_values()\n",
        "\n",
        "#We see that quantity is associated with much more feature importance than our other features. The trees in this Random Forest split on quantity more often and earlier."
      ],
      "execution_count": 124,
      "outputs": [
        {
          "output_type": "execute_result",
          "data": {
            "text/plain": [
              "bracket_pricing       0.008718\n",
              "quote_date_year       0.047290\n",
              "min_order_quantity    0.047698\n",
              "quote_date_month      0.053194\n",
              "supplier              0.108763\n",
              "annual_usage          0.185907\n",
              "quantity              0.548431\n",
              "dtype: float64"
            ]
          },
          "metadata": {
            "tags": []
          },
          "execution_count": 124
        }
      ]
    },
    {
      "cell_type": "code",
      "metadata": {
        "id": "Rd_5bRp7noHZ",
        "colab_type": "code",
        "outputId": "1225b1f5-330a-4801-f0a6-5d6df659af14",
        "colab": {
          "base_uri": "https://localhost:8080/",
          "height": 269
        }
      },
      "source": [
        "#And to plot this out...\n",
        "\n",
        "feature_importances.sort_values().plot.barh(color='grey');"
      ],
      "execution_count": 125,
      "outputs": [
        {
          "output_type": "display_data",
          "data": {
            "image/png": "[encoded data removed]",
            "text/plain": [
              "<Figure size 432x288 with 1 Axes>"
            ]
          },
          "metadata": {
            "tags": []
          }
        }
      ]
    },
    {
      "cell_type": "markdown",
      "metadata": {
        "id": "jHNHP8Sxo0I9",
        "colab_type": "text"
      },
      "source": [
        "**We can continue to improve our model by feature engineering with relational data!**"
      ]
    },
    {
      "cell_type": "code",
      "metadata": {
        "id": "noUpIlgRo-vD",
        "colab_type": "code",
        "colab": {}
      },
      "source": [
        "#We may not mean feature engineering in the strict sense in this case such as through creating/engineering new columns,\n",
        "#but in being able to merge on columns you already have from those relational tables."
      ],
      "execution_count": 0,
      "outputs": []
    },
    {
      "cell_type": "code",
      "metadata": {
        "id": "002fOTOKqBtf",
        "colab_type": "code",
        "outputId": "0dd5205a-14e2-4799-dda5-ca09867784f3",
        "colab": {
          "base_uri": "https://localhost:8080/",
          "height": 304
        }
      },
      "source": [
        "#Taking a look at what columns some of our other files may have in common with our train set.\n",
        "\n",
        "for path in glob('competition_data/*.csv'):\n",
        "    df = pd.read_csv(path)\n",
        "    shared_columns = set(df.columns) & set(train.columns)\n",
        "    if shared_columns:\n",
        "        print(path, df.shape)\n",
        "        print(df.columns.tolist(), '\\n')\n",
        "        \n",
        "#The files that have at least one shared column with the train set are returned."
      ],
      "execution_count": 127,
      "outputs": [
        {
          "output_type": "stream",
          "text": [
            "competition_data/tube.csv (21198, 16)\n",
            "['tube_assembly_id', 'material_id', 'diameter', 'wall', 'length', 'num_bends', 'bend_radius', 'end_a_1x', 'end_a_2x', 'end_x_1x', 'end_x_2x', 'end_a', 'end_x', 'num_boss', 'num_bracket', 'other'] \n",
            "\n",
            "competition_data/train_set.csv (30213, 8)\n",
            "['tube_assembly_id', 'supplier', 'quote_date', 'annual_usage', 'min_order_quantity', 'bracket_pricing', 'quantity', 'cost'] \n",
            "\n",
            "competition_data/test_set.csv (30235, 8)\n",
            "['id', 'tube_assembly_id', 'supplier', 'quote_date', 'annual_usage', 'min_order_quantity', 'bracket_pricing', 'quantity'] \n",
            "\n",
            "competition_data/bill_of_materials.csv (21198, 17)\n",
            "['tube_assembly_id', 'component_id_1', 'quantity_1', 'component_id_2', 'quantity_2', 'component_id_3', 'quantity_3', 'component_id_4', 'quantity_4', 'component_id_5', 'quantity_5', 'component_id_6', 'quantity_6', 'component_id_7', 'quantity_7', 'component_id_8', 'quantity_8'] \n",
            "\n",
            "competition_data/specs.csv (21198, 11)\n",
            "['tube_assembly_id', 'spec1', 'spec2', 'spec3', 'spec4', 'spec5', 'spec6', 'spec7', 'spec8', 'spec9', 'spec10'] \n",
            "\n"
          ],
          "name": "stdout"
        }
      ]
    },
    {
      "cell_type": "code",
      "metadata": {
        "id": "zjm_hNGerQ5t",
        "colab_type": "code",
        "colab": {}
      },
      "source": [
        "#We see that bill_of_materials, specs and tube are files we have yet to use for our model."
      ],
      "execution_count": 0,
      "outputs": []
    },
    {
      "cell_type": "code",
      "metadata": {
        "id": "jpPc7hV6rrSt",
        "colab_type": "code",
        "colab": {}
      },
      "source": [
        "#Let's start with the tube.csv.\n",
        "\n",
        "tube = pd.read_csv('competition_data/tube.csv')"
      ],
      "execution_count": 0,
      "outputs": []
    },
    {
      "cell_type": "code",
      "metadata": {
        "id": "npA8eDFXsDby",
        "colab_type": "code",
        "outputId": "064fedae-a65a-4df1-e0e1-7722cc4df69f",
        "colab": {
          "base_uri": "https://localhost:8080/",
          "height": 291
        }
      },
      "source": [
        "#We can learn more about what is in this file.\n",
        "\n",
        "#Numeric features\n",
        "\n",
        "tube.describe()"
      ],
      "execution_count": 130,
      "outputs": [
        {
          "output_type": "execute_result",
          "data": {
            "text/html": [
              "<div>\n",
              "<style scoped>\n",
              "    .dataframe tbody tr th:only-of-type {\n",
              "        vertical-align: middle;\n",
              "    }\n",
              "\n",
              "    .dataframe tbody tr th {\n",
              "        vertical-align: top;\n",
              "    }\n",
              "\n",
              "    .dataframe thead th {\n",
              "        text-align: right;\n",
              "    }\n",
              "</style>\n",
              "<table border=\"1\" class=\"dataframe\">\n",
              "  <thead>\n",
              "    <tr style=\"text-align: right;\">\n",
              "      <th></th>\n",
              "      <th>diameter</th>\n",
              "      <th>wall</th>\n",
              "      <th>length</th>\n",
              "      <th>num_bends</th>\n",
              "      <th>bend_radius</th>\n",
              "      <th>num_boss</th>\n",
              "      <th>num_bracket</th>\n",
              "      <th>other</th>\n",
              "    </tr>\n",
              "  </thead>\n",
              "  <tbody>\n",
              "    <tr>\n",
              "      <th>count</th>\n",
              "      <td>21198.000000</td>\n",
              "      <td>21198.000000</td>\n",
              "      <td>21198.000000</td>\n",
              "      <td>21198.000000</td>\n",
              "      <td>21198.000000</td>\n",
              "      <td>21198.000000</td>\n",
              "      <td>21198.000000</td>\n",
              "      <td>21198.000000</td>\n",
              "    </tr>\n",
              "    <tr>\n",
              "      <th>mean</th>\n",
              "      <td>23.687764</td>\n",
              "      <td>1.578402</td>\n",
              "      <td>100.312844</td>\n",
              "      <td>3.748137</td>\n",
              "      <td>49.350767</td>\n",
              "      <td>0.044485</td>\n",
              "      <td>0.006746</td>\n",
              "      <td>0.022644</td>\n",
              "    </tr>\n",
              "    <tr>\n",
              "      <th>std</th>\n",
              "      <td>25.396277</td>\n",
              "      <td>0.745749</td>\n",
              "      <td>70.542771</td>\n",
              "      <td>2.265405</td>\n",
              "      <td>196.468480</td>\n",
              "      <td>0.260737</td>\n",
              "      <td>0.100015</td>\n",
              "      <td>0.199676</td>\n",
              "    </tr>\n",
              "    <tr>\n",
              "      <th>min</th>\n",
              "      <td>3.180000</td>\n",
              "      <td>0.710000</td>\n",
              "      <td>0.000000</td>\n",
              "      <td>0.000000</td>\n",
              "      <td>0.000000</td>\n",
              "      <td>0.000000</td>\n",
              "      <td>0.000000</td>\n",
              "      <td>0.000000</td>\n",
              "    </tr>\n",
              "    <tr>\n",
              "      <th>25%</th>\n",
              "      <td>9.520000</td>\n",
              "      <td>0.890000</td>\n",
              "      <td>48.000000</td>\n",
              "      <td>2.000000</td>\n",
              "      <td>19.050000</td>\n",
              "      <td>0.000000</td>\n",
              "      <td>0.000000</td>\n",
              "      <td>0.000000</td>\n",
              "    </tr>\n",
              "    <tr>\n",
              "      <th>50%</th>\n",
              "      <td>15.880000</td>\n",
              "      <td>1.650000</td>\n",
              "      <td>86.000000</td>\n",
              "      <td>3.000000</td>\n",
              "      <td>38.100000</td>\n",
              "      <td>0.000000</td>\n",
              "      <td>0.000000</td>\n",
              "      <td>0.000000</td>\n",
              "    </tr>\n",
              "    <tr>\n",
              "      <th>75%</th>\n",
              "      <td>25.400000</td>\n",
              "      <td>1.650000</td>\n",
              "      <td>135.000000</td>\n",
              "      <td>5.000000</td>\n",
              "      <td>50.800000</td>\n",
              "      <td>0.000000</td>\n",
              "      <td>0.000000</td>\n",
              "      <td>0.000000</td>\n",
              "    </tr>\n",
              "    <tr>\n",
              "      <th>max</th>\n",
              "      <td>203.200000</td>\n",
              "      <td>7.900000</td>\n",
              "      <td>1333.000000</td>\n",
              "      <td>17.000000</td>\n",
              "      <td>9999.000000</td>\n",
              "      <td>5.000000</td>\n",
              "      <td>5.000000</td>\n",
              "      <td>8.000000</td>\n",
              "    </tr>\n",
              "  </tbody>\n",
              "</table>\n",
              "</div>"
            ],
            "text/plain": [
              "           diameter          wall  ...   num_bracket         other\n",
              "count  21198.000000  21198.000000  ...  21198.000000  21198.000000\n",
              "mean      23.687764      1.578402  ...      0.006746      0.022644\n",
              "std       25.396277      0.745749  ...      0.100015      0.199676\n",
              "min        3.180000      0.710000  ...      0.000000      0.000000\n",
              "25%        9.520000      0.890000  ...      0.000000      0.000000\n",
              "50%       15.880000      1.650000  ...      0.000000      0.000000\n",
              "75%       25.400000      1.650000  ...      0.000000      0.000000\n",
              "max      203.200000      7.900000  ...      5.000000      8.000000\n",
              "\n",
              "[8 rows x 8 columns]"
            ]
          },
          "metadata": {
            "tags": []
          },
          "execution_count": 130
        }
      ]
    },
    {
      "cell_type": "code",
      "metadata": {
        "id": "tYzDNzRrsLox",
        "colab_type": "code",
        "outputId": "33326ada-6d9a-467b-d84f-5a81e46c8b90",
        "colab": {
          "base_uri": "https://localhost:8080/",
          "height": 170
        }
      },
      "source": [
        "#Non-numeric features\n",
        "\n",
        "tube.describe(exclude='number')"
      ],
      "execution_count": 131,
      "outputs": [
        {
          "output_type": "execute_result",
          "data": {
            "text/html": [
              "<div>\n",
              "<style scoped>\n",
              "    .dataframe tbody tr th:only-of-type {\n",
              "        vertical-align: middle;\n",
              "    }\n",
              "\n",
              "    .dataframe tbody tr th {\n",
              "        vertical-align: top;\n",
              "    }\n",
              "\n",
              "    .dataframe thead th {\n",
              "        text-align: right;\n",
              "    }\n",
              "</style>\n",
              "<table border=\"1\" class=\"dataframe\">\n",
              "  <thead>\n",
              "    <tr style=\"text-align: right;\">\n",
              "      <th></th>\n",
              "      <th>tube_assembly_id</th>\n",
              "      <th>material_id</th>\n",
              "      <th>end_a_1x</th>\n",
              "      <th>end_a_2x</th>\n",
              "      <th>end_x_1x</th>\n",
              "      <th>end_x_2x</th>\n",
              "      <th>end_a</th>\n",
              "      <th>end_x</th>\n",
              "    </tr>\n",
              "  </thead>\n",
              "  <tbody>\n",
              "    <tr>\n",
              "      <th>count</th>\n",
              "      <td>21198</td>\n",
              "      <td>20919</td>\n",
              "      <td>21198</td>\n",
              "      <td>21198</td>\n",
              "      <td>21198</td>\n",
              "      <td>21198</td>\n",
              "      <td>21198</td>\n",
              "      <td>21198</td>\n",
              "    </tr>\n",
              "    <tr>\n",
              "      <th>unique</th>\n",
              "      <td>21198</td>\n",
              "      <td>19</td>\n",
              "      <td>2</td>\n",
              "      <td>2</td>\n",
              "      <td>2</td>\n",
              "      <td>2</td>\n",
              "      <td>25</td>\n",
              "      <td>27</td>\n",
              "    </tr>\n",
              "    <tr>\n",
              "      <th>top</th>\n",
              "      <td>TA-04872</td>\n",
              "      <td>SP-0029</td>\n",
              "      <td>N</td>\n",
              "      <td>N</td>\n",
              "      <td>N</td>\n",
              "      <td>N</td>\n",
              "      <td>EF-003</td>\n",
              "      <td>EF-003</td>\n",
              "    </tr>\n",
              "    <tr>\n",
              "      <th>freq</th>\n",
              "      <td>1</td>\n",
              "      <td>11488</td>\n",
              "      <td>20118</td>\n",
              "      <td>18015</td>\n",
              "      <td>20377</td>\n",
              "      <td>18493</td>\n",
              "      <td>11388</td>\n",
              "      <td>10863</td>\n",
              "    </tr>\n",
              "  </tbody>\n",
              "</table>\n",
              "</div>"
            ],
            "text/plain": [
              "       tube_assembly_id material_id end_a_1x  ... end_x_2x   end_a   end_x\n",
              "count             21198       20919    21198  ...    21198   21198   21198\n",
              "unique            21198          19        2  ...        2      25      27\n",
              "top            TA-04872     SP-0029        N  ...        N  EF-003  EF-003\n",
              "freq                  1       11488    20118  ...    18493   11388   10863\n",
              "\n",
              "[4 rows x 8 columns]"
            ]
          },
          "metadata": {
            "tags": []
          },
          "execution_count": 131
        }
      ]
    },
    {
      "cell_type": "code",
      "metadata": {
        "id": "URwj1BxosfiF",
        "colab_type": "code",
        "colab": {}
      },
      "source": [
        "#We are going to use our wrangle function from earlier to do a little feature engineering and also merge our tube data with the train and val sets.\n",
        "def wrangle(X):\n",
        "  \n",
        "  X = X.copy()\n",
        "  \n",
        "  #Engineer features off of quote_date.\n",
        "  \n",
        "  X['quote_date'] = pd.to_datetime(X['quote_date'], infer_datetime_format=True)   #Convert quote date to date time.\n",
        "  X['quote_date_year'] = X['quote_date'].dt.year     #Create a column for quote date year.\n",
        "  X['quote_date_month'] = X['quote_date'].dt.year    #Create a column for quote date month.\n",
        "  X = X.drop(columns='quote_date')                   #We'll drop quote_date after extracting the information we needed.\n",
        "  \n",
        "  #Merge the tube data.\n",
        "  \n",
        "  tube = pd.read_csv('competition_data/tube.csv')\n",
        "  X = X.merge(tube, how='left')\n",
        "    \n",
        "  #Drop the tube_assembly_id feature as our goal is to predict unknown assemblies. We have different assemblies in our train, val and test sets which makes tube_assembly_id not a useful feature. \n",
        "  \n",
        "  X = X.drop(columns='tube_assembly_id')\n",
        "  \n",
        "  return X"
      ],
      "execution_count": 0,
      "outputs": []
    },
    {
      "cell_type": "code",
      "metadata": {
        "id": "v-LyI6yFtSqI",
        "colab_type": "code",
        "colab": {}
      },
      "source": [
        "train_wrangled = wrangle(train)\n",
        "val_wrangled = wrangle(val)"
      ],
      "execution_count": 0,
      "outputs": []
    },
    {
      "cell_type": "code",
      "metadata": {
        "id": "flF574aItd1u",
        "colab_type": "code",
        "outputId": "be6d76fb-f3ea-4ded-dc4c-1301cf0eeb74",
        "colab": {
          "base_uri": "https://localhost:8080/",
          "height": 35
        }
      },
      "source": [
        "#We can verify that the tube data has been merged by looking at the shape and head of our train_wrangled and val_wrangled sets.\n",
        "\n",
        "train_wrangled.shape, val_wrangled.shape\n",
        "\n",
        "#We see that additional columns have been added."
      ],
      "execution_count": 134,
      "outputs": [
        {
          "output_type": "execute_result",
          "data": {
            "text/plain": [
              "((22628, 23), (7585, 23))"
            ]
          },
          "metadata": {
            "tags": []
          },
          "execution_count": 134
        }
      ]
    },
    {
      "cell_type": "code",
      "metadata": {
        "id": "8RtAiVfRtxYf",
        "colab_type": "code",
        "outputId": "ba663e80-d075-4cce-b29b-d96404313783",
        "colab": {
          "base_uri": "https://localhost:8080/",
          "height": 305
        }
      },
      "source": [
        "#We verify that additional columns have been added this way as well.\n",
        "\n",
        "train_wrangled.head()"
      ],
      "execution_count": 135,
      "outputs": [
        {
          "output_type": "execute_result",
          "data": {
            "text/html": [
              "<div>\n",
              "<style scoped>\n",
              "    .dataframe tbody tr th:only-of-type {\n",
              "        vertical-align: middle;\n",
              "    }\n",
              "\n",
              "    .dataframe tbody tr th {\n",
              "        vertical-align: top;\n",
              "    }\n",
              "\n",
              "    .dataframe thead th {\n",
              "        text-align: right;\n",
              "    }\n",
              "</style>\n",
              "<table border=\"1\" class=\"dataframe\">\n",
              "  <thead>\n",
              "    <tr style=\"text-align: right;\">\n",
              "      <th></th>\n",
              "      <th>supplier</th>\n",
              "      <th>annual_usage</th>\n",
              "      <th>min_order_quantity</th>\n",
              "      <th>bracket_pricing</th>\n",
              "      <th>quantity</th>\n",
              "      <th>cost</th>\n",
              "      <th>quote_date_year</th>\n",
              "      <th>quote_date_month</th>\n",
              "      <th>material_id</th>\n",
              "      <th>diameter</th>\n",
              "      <th>wall</th>\n",
              "      <th>length</th>\n",
              "      <th>num_bends</th>\n",
              "      <th>bend_radius</th>\n",
              "      <th>end_a_1x</th>\n",
              "      <th>end_a_2x</th>\n",
              "      <th>end_x_1x</th>\n",
              "      <th>end_x_2x</th>\n",
              "      <th>end_a</th>\n",
              "      <th>end_x</th>\n",
              "      <th>num_boss</th>\n",
              "      <th>num_bracket</th>\n",
              "      <th>other</th>\n",
              "    </tr>\n",
              "  </thead>\n",
              "  <tbody>\n",
              "    <tr>\n",
              "      <th>0</th>\n",
              "      <td>S-0066</td>\n",
              "      <td>0</td>\n",
              "      <td>0</td>\n",
              "      <td>Yes</td>\n",
              "      <td>1</td>\n",
              "      <td>21.972702</td>\n",
              "      <td>2013</td>\n",
              "      <td>2013</td>\n",
              "      <td>SP-0019</td>\n",
              "      <td>6.35</td>\n",
              "      <td>0.71</td>\n",
              "      <td>137.0</td>\n",
              "      <td>9</td>\n",
              "      <td>19.05</td>\n",
              "      <td>N</td>\n",
              "      <td>N</td>\n",
              "      <td>N</td>\n",
              "      <td>N</td>\n",
              "      <td>EF-008</td>\n",
              "      <td>EF-008</td>\n",
              "      <td>0</td>\n",
              "      <td>0</td>\n",
              "      <td>0</td>\n",
              "    </tr>\n",
              "    <tr>\n",
              "      <th>1</th>\n",
              "      <td>S-0066</td>\n",
              "      <td>0</td>\n",
              "      <td>0</td>\n",
              "      <td>Yes</td>\n",
              "      <td>2</td>\n",
              "      <td>12.407983</td>\n",
              "      <td>2013</td>\n",
              "      <td>2013</td>\n",
              "      <td>SP-0019</td>\n",
              "      <td>6.35</td>\n",
              "      <td>0.71</td>\n",
              "      <td>137.0</td>\n",
              "      <td>9</td>\n",
              "      <td>19.05</td>\n",
              "      <td>N</td>\n",
              "      <td>N</td>\n",
              "      <td>N</td>\n",
              "      <td>N</td>\n",
              "      <td>EF-008</td>\n",
              "      <td>EF-008</td>\n",
              "      <td>0</td>\n",
              "      <td>0</td>\n",
              "      <td>0</td>\n",
              "    </tr>\n",
              "    <tr>\n",
              "      <th>2</th>\n",
              "      <td>S-0066</td>\n",
              "      <td>0</td>\n",
              "      <td>0</td>\n",
              "      <td>Yes</td>\n",
              "      <td>5</td>\n",
              "      <td>6.668596</td>\n",
              "      <td>2013</td>\n",
              "      <td>2013</td>\n",
              "      <td>SP-0019</td>\n",
              "      <td>6.35</td>\n",
              "      <td>0.71</td>\n",
              "      <td>137.0</td>\n",
              "      <td>9</td>\n",
              "      <td>19.05</td>\n",
              "      <td>N</td>\n",
              "      <td>N</td>\n",
              "      <td>N</td>\n",
              "      <td>N</td>\n",
              "      <td>EF-008</td>\n",
              "      <td>EF-008</td>\n",
              "      <td>0</td>\n",
              "      <td>0</td>\n",
              "      <td>0</td>\n",
              "    </tr>\n",
              "    <tr>\n",
              "      <th>3</th>\n",
              "      <td>S-0066</td>\n",
              "      <td>0</td>\n",
              "      <td>0</td>\n",
              "      <td>Yes</td>\n",
              "      <td>10</td>\n",
              "      <td>4.754539</td>\n",
              "      <td>2013</td>\n",
              "      <td>2013</td>\n",
              "      <td>SP-0019</td>\n",
              "      <td>6.35</td>\n",
              "      <td>0.71</td>\n",
              "      <td>137.0</td>\n",
              "      <td>9</td>\n",
              "      <td>19.05</td>\n",
              "      <td>N</td>\n",
              "      <td>N</td>\n",
              "      <td>N</td>\n",
              "      <td>N</td>\n",
              "      <td>EF-008</td>\n",
              "      <td>EF-008</td>\n",
              "      <td>0</td>\n",
              "      <td>0</td>\n",
              "      <td>0</td>\n",
              "    </tr>\n",
              "    <tr>\n",
              "      <th>4</th>\n",
              "      <td>S-0066</td>\n",
              "      <td>0</td>\n",
              "      <td>0</td>\n",
              "      <td>Yes</td>\n",
              "      <td>25</td>\n",
              "      <td>3.608331</td>\n",
              "      <td>2013</td>\n",
              "      <td>2013</td>\n",
              "      <td>SP-0019</td>\n",
              "      <td>6.35</td>\n",
              "      <td>0.71</td>\n",
              "      <td>137.0</td>\n",
              "      <td>9</td>\n",
              "      <td>19.05</td>\n",
              "      <td>N</td>\n",
              "      <td>N</td>\n",
              "      <td>N</td>\n",
              "      <td>N</td>\n",
              "      <td>EF-008</td>\n",
              "      <td>EF-008</td>\n",
              "      <td>0</td>\n",
              "      <td>0</td>\n",
              "      <td>0</td>\n",
              "    </tr>\n",
              "  </tbody>\n",
              "</table>\n",
              "</div>"
            ],
            "text/plain": [
              "  supplier  annual_usage  min_order_quantity  ... num_boss  num_bracket  other\n",
              "0   S-0066             0                   0  ...        0            0      0\n",
              "1   S-0066             0                   0  ...        0            0      0\n",
              "2   S-0066             0                   0  ...        0            0      0\n",
              "3   S-0066             0                   0  ...        0            0      0\n",
              "4   S-0066             0                   0  ...        0            0      0\n",
              "\n",
              "[5 rows x 23 columns]"
            ]
          },
          "metadata": {
            "tags": []
          },
          "execution_count": 135
        }
      ]
    },
    {
      "cell_type": "code",
      "metadata": {
        "id": "sZYzY3t_ujSI",
        "colab_type": "code",
        "outputId": "41c608c6-b8f7-4b5a-bc19-47e9a49a3495",
        "colab": {
          "base_uri": "https://localhost:8080/",
          "height": 35
        }
      },
      "source": [
        "#Now for training our model using this data.\n",
        "\n",
        "X_train = train_wrangled.drop(columns=target)\n",
        "\n",
        "X_val = val_wrangled.drop(columns=target)\n",
        "\n",
        "#Create a pipeline.\n",
        "\n",
        "pipeline = make_pipeline(ce.OrdinalEncoder(), RandomForestRegressor(n_estimators=100, random_state=42, n_jobs=-1))\n",
        "\n",
        "pipeline.fit(X_train, y_train_log)\n",
        "y_pred_log = pipeline.predict(X_val) #Again, these are predictions in terms of log dollars.\n",
        "\n",
        "print('Validation RMSE:', rmse(y_val_log, y_pred_log))\n",
        "\n",
        "#We observe a lower error!"
      ],
      "execution_count": 136,
      "outputs": [
        {
          "output_type": "stream",
          "text": [
            "Validation RMSE: 0.30501096913378545\n"
          ],
          "name": "stdout"
        }
      ]
    },
    {
      "cell_type": "markdown",
      "metadata": {
        "id": "fKI8qWnN5Kql",
        "colab_type": "text"
      },
      "source": [
        "**Module 2**\n",
        "\n",
        "**XGboost for Gradient Boosting**"
      ]
    },
    {
      "cell_type": "code",
      "metadata": {
        "id": "VrEIzftvBZd5",
        "colab_type": "code",
        "colab": {
          "base_uri": "https://localhost:8080/",
          "height": 52
        },
        "outputId": "4a4ab5ee-0eba-4416-c347-6bb7dc24e505"
      },
      "source": [
        "from xgboost import XGBRegressor\n",
        "\n",
        "#Create a pipeline.\n",
        "\n",
        "pipeline = make_pipeline(ce.OrdinalEncoder(), XGBRegressor(n_estimators=100, n_jobs=-1))\n",
        "\n",
        "pipeline.fit(X_train, y_train_log)\n",
        "\n",
        "y_pred_log = pipeline.predict(X_val)\n",
        "\n",
        "print('Validation RMSE:', rmse(y_val_log, y_pred_log))\n",
        "\n",
        "#Notice that we have a higher validation error than our Random Forest model."
      ],
      "execution_count": 137,
      "outputs": [
        {
          "output_type": "stream",
          "text": [
            "[04:37:41] WARNING: /workspace/src/objective/regression_obj.cu:152: reg:linear is now deprecated in favor of reg:squarederror.\n",
            "Validation RMSE: 0.34958624168085045\n"
          ],
          "name": "stdout"
        }
      ]
    },
    {
      "cell_type": "code",
      "metadata": {
        "id": "BbSqm-IKELX9",
        "colab_type": "code",
        "colab": {
          "base_uri": "https://localhost:8080/",
          "height": 52
        },
        "outputId": "8cbc1afe-02f9-4f23-ac97-e53f7bf6634f"
      },
      "source": [
        "#What if we increase the number of estimators by 10 times?\n",
        "\n",
        "pipeline = make_pipeline(ce.OrdinalEncoder(), XGBRegressor(n_estimators=1000, n_jobs=-1))\n",
        "\n",
        "pipeline.fit(X_train, y_train_log)\n",
        "\n",
        "y_pred_log = pipeline.predict(X_val)\n",
        "\n",
        "print('Validation RMSE:', rmse(y_val_log, y_pred_log))"
      ],
      "execution_count": 138,
      "outputs": [
        {
          "output_type": "stream",
          "text": [
            "[04:37:43] WARNING: /workspace/src/objective/regression_obj.cu:152: reg:linear is now deprecated in favor of reg:squarederror.\n",
            "Validation RMSE: 0.2951322331403255\n"
          ],
          "name": "stdout"
        }
      ]
    },
    {
      "cell_type": "code",
      "metadata": {
        "id": "4FAWE80lE5E8",
        "colab_type": "code",
        "colab": {}
      },
      "source": [
        "#We observe a lower validation error."
      ],
      "execution_count": 0,
      "outputs": []
    },
    {
      "cell_type": "markdown",
      "metadata": {
        "id": "qK6SOdTRHaPC",
        "colab_type": "text"
      },
      "source": [
        "Avoid and prevent overfitting by using **early stopping**!"
      ]
    },
    {
      "cell_type": "code",
      "metadata": {
        "id": "xZNZG0dIHeDE",
        "colab_type": "code",
        "colab": {
          "base_uri": "https://localhost:8080/",
          "height": 1000
        },
        "outputId": "ad493f5d-2558-4367-b9e3-7558c3ca449d"
      },
      "source": [
        "#It's hard to implement this using a pipeline, so we'll do it this way...\n",
        "\n",
        "import category_encoders as ce\n",
        "from xgboost import XGBRegressor\n",
        "\n",
        "encoder = ce.OrdinalEncoder()\n",
        "X_train_encoded = encoder.fit_transform(X_train)\n",
        "X_val_encoded = encoder.transform(X_val)\n",
        "\n",
        "eval_set = [(X_train_encoded, y_train_log), (X_val_encoded, y_val_log)]\n",
        "\n",
        "model = XGBRegressor(n_estimators=1000, n_jobs=-1)\n",
        "model.fit(X_train_encoded, y_train_log, early_stopping_rounds=10, eval_metric='rmse', eval_set=eval_set) #If after 10 rounds our error hasn't improved we'd consider that to be plateauing and so the model stops."
      ],
      "execution_count": 140,
      "outputs": [
        {
          "output_type": "stream",
          "text": [
            "[04:37:55] WARNING: /workspace/src/objective/regression_obj.cu:152: reg:linear is now deprecated in favor of reg:squarederror.\n",
            "[0]\tvalidation_0-rmse:1.71924\tvalidation_1-rmse:1.70846\n",
            "Multiple eval metrics have been passed: 'validation_1-rmse' will be used for early stopping.\n",
            "\n",
            "Will train until validation_1-rmse hasn't improved in 10 rounds.\n",
            "[1]\tvalidation_0-rmse:1.56516\tvalidation_1-rmse:1.55498\n",
            "[2]\tvalidation_0-rmse:1.42805\tvalidation_1-rmse:1.41868\n",
            "[3]\tvalidation_0-rmse:1.30379\tvalidation_1-rmse:1.29472\n",
            "[4]\tvalidation_0-rmse:1.19233\tvalidation_1-rmse:1.18372\n",
            "[5]\tvalidation_0-rmse:1.09432\tvalidation_1-rmse:1.08627\n",
            "[6]\tvalidation_0-rmse:1.00669\tvalidation_1-rmse:0.999137\n",
            "[7]\tvalidation_0-rmse:0.930868\tvalidation_1-rmse:0.923643\n",
            "[8]\tvalidation_0-rmse:0.862939\tvalidation_1-rmse:0.856299\n",
            "[9]\tvalidation_0-rmse:0.803185\tvalidation_1-rmse:0.796445\n",
            "[10]\tvalidation_0-rmse:0.751263\tvalidation_1-rmse:0.745281\n",
            "[11]\tvalidation_0-rmse:0.706111\tvalidation_1-rmse:0.70065\n",
            "[12]\tvalidation_0-rmse:0.664844\tvalidation_1-rmse:0.659469\n",
            "[13]\tvalidation_0-rmse:0.630449\tvalidation_1-rmse:0.625833\n",
            "[14]\tvalidation_0-rmse:0.600932\tvalidation_1-rmse:0.596763\n",
            "[15]\tvalidation_0-rmse:0.573589\tvalidation_1-rmse:0.569538\n",
            "[16]\tvalidation_0-rmse:0.551587\tvalidation_1-rmse:0.546927\n",
            "[17]\tvalidation_0-rmse:0.532087\tvalidation_1-rmse:0.528199\n",
            "[18]\tvalidation_0-rmse:0.515104\tvalidation_1-rmse:0.511635\n",
            "[19]\tvalidation_0-rmse:0.498264\tvalidation_1-rmse:0.494894\n",
            "[20]\tvalidation_0-rmse:0.485998\tvalidation_1-rmse:0.482858\n",
            "[21]\tvalidation_0-rmse:0.474591\tvalidation_1-rmse:0.472055\n",
            "[22]\tvalidation_0-rmse:0.464455\tvalidation_1-rmse:0.462142\n",
            "[23]\tvalidation_0-rmse:0.456348\tvalidation_1-rmse:0.454554\n",
            "[24]\tvalidation_0-rmse:0.449749\tvalidation_1-rmse:0.447482\n",
            "[25]\tvalidation_0-rmse:0.442978\tvalidation_1-rmse:0.441292\n",
            "[26]\tvalidation_0-rmse:0.43632\tvalidation_1-rmse:0.434743\n",
            "[27]\tvalidation_0-rmse:0.431325\tvalidation_1-rmse:0.42949\n",
            "[28]\tvalidation_0-rmse:0.427007\tvalidation_1-rmse:0.425626\n",
            "[29]\tvalidation_0-rmse:0.42299\tvalidation_1-rmse:0.422129\n",
            "[30]\tvalidation_0-rmse:0.419654\tvalidation_1-rmse:0.418911\n",
            "[31]\tvalidation_0-rmse:0.415276\tvalidation_1-rmse:0.41452\n",
            "[32]\tvalidation_0-rmse:0.410267\tvalidation_1-rmse:0.40979\n",
            "[33]\tvalidation_0-rmse:0.4076\tvalidation_1-rmse:0.407401\n",
            "[34]\tvalidation_0-rmse:0.405332\tvalidation_1-rmse:0.405238\n",
            "[35]\tvalidation_0-rmse:0.403104\tvalidation_1-rmse:0.403535\n",
            "[36]\tvalidation_0-rmse:0.400847\tvalidation_1-rmse:0.401569\n",
            "[37]\tvalidation_0-rmse:0.398062\tvalidation_1-rmse:0.398841\n",
            "[38]\tvalidation_0-rmse:0.396263\tvalidation_1-rmse:0.396982\n",
            "[39]\tvalidation_0-rmse:0.394508\tvalidation_1-rmse:0.395493\n",
            "[40]\tvalidation_0-rmse:0.391208\tvalidation_1-rmse:0.392434\n",
            "[41]\tvalidation_0-rmse:0.388779\tvalidation_1-rmse:0.391266\n",
            "[42]\tvalidation_0-rmse:0.387052\tvalidation_1-rmse:0.389859\n",
            "[43]\tvalidation_0-rmse:0.385627\tvalidation_1-rmse:0.388675\n",
            "[44]\tvalidation_0-rmse:0.384365\tvalidation_1-rmse:0.387914\n",
            "[45]\tvalidation_0-rmse:0.383364\tvalidation_1-rmse:0.386893\n",
            "[46]\tvalidation_0-rmse:0.381596\tvalidation_1-rmse:0.386011\n",
            "[47]\tvalidation_0-rmse:0.380701\tvalidation_1-rmse:0.38513\n",
            "[48]\tvalidation_0-rmse:0.379281\tvalidation_1-rmse:0.383735\n",
            "[49]\tvalidation_0-rmse:0.378268\tvalidation_1-rmse:0.383179\n",
            "[50]\tvalidation_0-rmse:0.376866\tvalidation_1-rmse:0.382109\n",
            "[51]\tvalidation_0-rmse:0.37561\tvalidation_1-rmse:0.381359\n",
            "[52]\tvalidation_0-rmse:0.374491\tvalidation_1-rmse:0.380315\n",
            "[53]\tvalidation_0-rmse:0.372985\tvalidation_1-rmse:0.378775\n",
            "[54]\tvalidation_0-rmse:0.371924\tvalidation_1-rmse:0.377633\n",
            "[55]\tvalidation_0-rmse:0.368935\tvalidation_1-rmse:0.376119\n",
            "[56]\tvalidation_0-rmse:0.368213\tvalidation_1-rmse:0.375689\n",
            "[57]\tvalidation_0-rmse:0.366987\tvalidation_1-rmse:0.374644\n",
            "[58]\tvalidation_0-rmse:0.365442\tvalidation_1-rmse:0.372771\n",
            "[59]\tvalidation_0-rmse:0.364503\tvalidation_1-rmse:0.371955\n",
            "[60]\tvalidation_0-rmse:0.362085\tvalidation_1-rmse:0.370817\n",
            "[61]\tvalidation_0-rmse:0.361213\tvalidation_1-rmse:0.369918\n",
            "[62]\tvalidation_0-rmse:0.360391\tvalidation_1-rmse:0.369605\n",
            "[63]\tvalidation_0-rmse:0.358553\tvalidation_1-rmse:0.367953\n",
            "[64]\tvalidation_0-rmse:0.357496\tvalidation_1-rmse:0.366962\n",
            "[65]\tvalidation_0-rmse:0.35687\tvalidation_1-rmse:0.366653\n",
            "[66]\tvalidation_0-rmse:0.355909\tvalidation_1-rmse:0.365836\n",
            "[67]\tvalidation_0-rmse:0.354993\tvalidation_1-rmse:0.365497\n",
            "[68]\tvalidation_0-rmse:0.3543\tvalidation_1-rmse:0.364878\n",
            "[69]\tvalidation_0-rmse:0.353554\tvalidation_1-rmse:0.364196\n",
            "[70]\tvalidation_0-rmse:0.353156\tvalidation_1-rmse:0.363734\n",
            "[71]\tvalidation_0-rmse:0.352271\tvalidation_1-rmse:0.36295\n",
            "[72]\tvalidation_0-rmse:0.351431\tvalidation_1-rmse:0.362495\n",
            "[73]\tvalidation_0-rmse:0.350565\tvalidation_1-rmse:0.362168\n",
            "[74]\tvalidation_0-rmse:0.349821\tvalidation_1-rmse:0.361606\n",
            "[75]\tvalidation_0-rmse:0.34952\tvalidation_1-rmse:0.36155\n",
            "[76]\tvalidation_0-rmse:0.348752\tvalidation_1-rmse:0.360899\n",
            "[77]\tvalidation_0-rmse:0.347631\tvalidation_1-rmse:0.360363\n",
            "[78]\tvalidation_0-rmse:0.34677\tvalidation_1-rmse:0.359769\n",
            "[79]\tvalidation_0-rmse:0.346151\tvalidation_1-rmse:0.359265\n",
            "[80]\tvalidation_0-rmse:0.345169\tvalidation_1-rmse:0.358395\n",
            "[81]\tvalidation_0-rmse:0.344642\tvalidation_1-rmse:0.358185\n",
            "[82]\tvalidation_0-rmse:0.344199\tvalidation_1-rmse:0.357936\n",
            "[83]\tvalidation_0-rmse:0.34353\tvalidation_1-rmse:0.357617\n",
            "[84]\tvalidation_0-rmse:0.342986\tvalidation_1-rmse:0.357473\n",
            "[85]\tvalidation_0-rmse:0.341901\tvalidation_1-rmse:0.356169\n",
            "[86]\tvalidation_0-rmse:0.341636\tvalidation_1-rmse:0.355847\n",
            "[87]\tvalidation_0-rmse:0.341053\tvalidation_1-rmse:0.355356\n",
            "[88]\tvalidation_0-rmse:0.340478\tvalidation_1-rmse:0.355069\n",
            "[89]\tvalidation_0-rmse:0.339462\tvalidation_1-rmse:0.354586\n",
            "[90]\tvalidation_0-rmse:0.338453\tvalidation_1-rmse:0.353692\n",
            "[91]\tvalidation_0-rmse:0.33772\tvalidation_1-rmse:0.352772\n",
            "[92]\tvalidation_0-rmse:0.33695\tvalidation_1-rmse:0.351975\n",
            "[93]\tvalidation_0-rmse:0.336532\tvalidation_1-rmse:0.351968\n",
            "[94]\tvalidation_0-rmse:0.335722\tvalidation_1-rmse:0.351634\n",
            "[95]\tvalidation_0-rmse:0.335294\tvalidation_1-rmse:0.351434\n",
            "[96]\tvalidation_0-rmse:0.334442\tvalidation_1-rmse:0.350969\n",
            "[97]\tvalidation_0-rmse:0.333742\tvalidation_1-rmse:0.350313\n",
            "[98]\tvalidation_0-rmse:0.333318\tvalidation_1-rmse:0.350083\n",
            "[99]\tvalidation_0-rmse:0.33292\tvalidation_1-rmse:0.349586\n",
            "[100]\tvalidation_0-rmse:0.332363\tvalidation_1-rmse:0.349013\n",
            "[101]\tvalidation_0-rmse:0.331995\tvalidation_1-rmse:0.348925\n",
            "[102]\tvalidation_0-rmse:0.331499\tvalidation_1-rmse:0.348535\n",
            "[103]\tvalidation_0-rmse:0.330841\tvalidation_1-rmse:0.348176\n",
            "[104]\tvalidation_0-rmse:0.330396\tvalidation_1-rmse:0.347722\n",
            "[105]\tvalidation_0-rmse:0.330261\tvalidation_1-rmse:0.347727\n",
            "[106]\tvalidation_0-rmse:0.329508\tvalidation_1-rmse:0.347072\n",
            "[107]\tvalidation_0-rmse:0.32814\tvalidation_1-rmse:0.345898\n",
            "[108]\tvalidation_0-rmse:0.327482\tvalidation_1-rmse:0.345156\n",
            "[109]\tvalidation_0-rmse:0.326853\tvalidation_1-rmse:0.34452\n",
            "[110]\tvalidation_0-rmse:0.326283\tvalidation_1-rmse:0.344112\n",
            "[111]\tvalidation_0-rmse:0.325673\tvalidation_1-rmse:0.343554\n",
            "[112]\tvalidation_0-rmse:0.325405\tvalidation_1-rmse:0.343195\n",
            "[113]\tvalidation_0-rmse:0.324975\tvalidation_1-rmse:0.34281\n",
            "[114]\tvalidation_0-rmse:0.324598\tvalidation_1-rmse:0.342629\n",
            "[115]\tvalidation_0-rmse:0.324101\tvalidation_1-rmse:0.341971\n",
            "[116]\tvalidation_0-rmse:0.323785\tvalidation_1-rmse:0.341986\n",
            "[117]\tvalidation_0-rmse:0.322861\tvalidation_1-rmse:0.34127\n",
            "[118]\tvalidation_0-rmse:0.322066\tvalidation_1-rmse:0.340563\n",
            "[119]\tvalidation_0-rmse:0.321528\tvalidation_1-rmse:0.339925\n",
            "[120]\tvalidation_0-rmse:0.321088\tvalidation_1-rmse:0.339558\n",
            "[121]\tvalidation_0-rmse:0.320879\tvalidation_1-rmse:0.339436\n",
            "[122]\tvalidation_0-rmse:0.320354\tvalidation_1-rmse:0.338998\n",
            "[123]\tvalidation_0-rmse:0.320152\tvalidation_1-rmse:0.338821\n",
            "[124]\tvalidation_0-rmse:0.318896\tvalidation_1-rmse:0.337907\n",
            "[125]\tvalidation_0-rmse:0.318578\tvalidation_1-rmse:0.337594\n",
            "[126]\tvalidation_0-rmse:0.31824\tvalidation_1-rmse:0.337219\n",
            "[127]\tvalidation_0-rmse:0.318073\tvalidation_1-rmse:0.337106\n",
            "[128]\tvalidation_0-rmse:0.317023\tvalidation_1-rmse:0.336321\n",
            "[129]\tvalidation_0-rmse:0.316692\tvalidation_1-rmse:0.336236\n",
            "[130]\tvalidation_0-rmse:0.316464\tvalidation_1-rmse:0.336122\n",
            "[131]\tvalidation_0-rmse:0.316129\tvalidation_1-rmse:0.335983\n",
            "[132]\tvalidation_0-rmse:0.315885\tvalidation_1-rmse:0.335863\n",
            "[133]\tvalidation_0-rmse:0.315685\tvalidation_1-rmse:0.335821\n",
            "[134]\tvalidation_0-rmse:0.315425\tvalidation_1-rmse:0.335641\n",
            "[135]\tvalidation_0-rmse:0.315155\tvalidation_1-rmse:0.335421\n",
            "[136]\tvalidation_0-rmse:0.314927\tvalidation_1-rmse:0.335178\n",
            "[137]\tvalidation_0-rmse:0.314779\tvalidation_1-rmse:0.33519\n",
            "[138]\tvalidation_0-rmse:0.314074\tvalidation_1-rmse:0.334614\n",
            "[139]\tvalidation_0-rmse:0.313665\tvalidation_1-rmse:0.334133\n",
            "[140]\tvalidation_0-rmse:0.313489\tvalidation_1-rmse:0.334075\n",
            "[141]\tvalidation_0-rmse:0.313421\tvalidation_1-rmse:0.333999\n",
            "[142]\tvalidation_0-rmse:0.312915\tvalidation_1-rmse:0.333658\n",
            "[143]\tvalidation_0-rmse:0.312667\tvalidation_1-rmse:0.333477\n",
            "[144]\tvalidation_0-rmse:0.312572\tvalidation_1-rmse:0.33341\n",
            "[145]\tvalidation_0-rmse:0.312361\tvalidation_1-rmse:0.333268\n",
            "[146]\tvalidation_0-rmse:0.312169\tvalidation_1-rmse:0.333076\n",
            "[147]\tvalidation_0-rmse:0.312071\tvalidation_1-rmse:0.333026\n",
            "[148]\tvalidation_0-rmse:0.311865\tvalidation_1-rmse:0.332874\n",
            "[149]\tvalidation_0-rmse:0.311231\tvalidation_1-rmse:0.33248\n",
            "[150]\tvalidation_0-rmse:0.310783\tvalidation_1-rmse:0.332109\n",
            "[151]\tvalidation_0-rmse:0.310132\tvalidation_1-rmse:0.33147\n",
            "[152]\tvalidation_0-rmse:0.309478\tvalidation_1-rmse:0.330935\n",
            "[153]\tvalidation_0-rmse:0.309158\tvalidation_1-rmse:0.330608\n",
            "[154]\tvalidation_0-rmse:0.308715\tvalidation_1-rmse:0.33032\n",
            "[155]\tvalidation_0-rmse:0.308246\tvalidation_1-rmse:0.330037\n",
            "[156]\tvalidation_0-rmse:0.30786\tvalidation_1-rmse:0.329726\n",
            "[157]\tvalidation_0-rmse:0.307642\tvalidation_1-rmse:0.329656\n",
            "[158]\tvalidation_0-rmse:0.307532\tvalidation_1-rmse:0.329488\n",
            "[159]\tvalidation_0-rmse:0.307293\tvalidation_1-rmse:0.329479\n",
            "[160]\tvalidation_0-rmse:0.307128\tvalidation_1-rmse:0.329334\n",
            "[161]\tvalidation_0-rmse:0.306957\tvalidation_1-rmse:0.329222\n",
            "[162]\tvalidation_0-rmse:0.306374\tvalidation_1-rmse:0.329072\n",
            "[163]\tvalidation_0-rmse:0.306255\tvalidation_1-rmse:0.328981\n",
            "[164]\tvalidation_0-rmse:0.306028\tvalidation_1-rmse:0.328843\n",
            "[165]\tvalidation_0-rmse:0.305882\tvalidation_1-rmse:0.32883\n",
            "[166]\tvalidation_0-rmse:0.305699\tvalidation_1-rmse:0.328783\n",
            "[167]\tvalidation_0-rmse:0.305479\tvalidation_1-rmse:0.32874\n",
            "[168]\tvalidation_0-rmse:0.305086\tvalidation_1-rmse:0.328518\n",
            "[169]\tvalidation_0-rmse:0.304976\tvalidation_1-rmse:0.328499\n",
            "[170]\tvalidation_0-rmse:0.304841\tvalidation_1-rmse:0.32843\n",
            "[171]\tvalidation_0-rmse:0.304472\tvalidation_1-rmse:0.32808\n",
            "[172]\tvalidation_0-rmse:0.30438\tvalidation_1-rmse:0.327928\n",
            "[173]\tvalidation_0-rmse:0.304308\tvalidation_1-rmse:0.327876\n",
            "[174]\tvalidation_0-rmse:0.304112\tvalidation_1-rmse:0.32767\n",
            "[175]\tvalidation_0-rmse:0.303713\tvalidation_1-rmse:0.327463\n",
            "[176]\tvalidation_0-rmse:0.303379\tvalidation_1-rmse:0.327266\n",
            "[177]\tvalidation_0-rmse:0.303173\tvalidation_1-rmse:0.327006\n",
            "[178]\tvalidation_0-rmse:0.302975\tvalidation_1-rmse:0.326826\n",
            "[179]\tvalidation_0-rmse:0.302623\tvalidation_1-rmse:0.326409\n",
            "[180]\tvalidation_0-rmse:0.302062\tvalidation_1-rmse:0.326131\n",
            "[181]\tvalidation_0-rmse:0.301776\tvalidation_1-rmse:0.326103\n",
            "[182]\tvalidation_0-rmse:0.301639\tvalidation_1-rmse:0.326038\n",
            "[183]\tvalidation_0-rmse:0.301404\tvalidation_1-rmse:0.325863\n",
            "[184]\tvalidation_0-rmse:0.301293\tvalidation_1-rmse:0.325834\n",
            "[185]\tvalidation_0-rmse:0.301149\tvalidation_1-rmse:0.325678\n",
            "[186]\tvalidation_0-rmse:0.301099\tvalidation_1-rmse:0.325663\n",
            "[187]\tvalidation_0-rmse:0.300967\tvalidation_1-rmse:0.325557\n",
            "[188]\tvalidation_0-rmse:0.300457\tvalidation_1-rmse:0.324962\n",
            "[189]\tvalidation_0-rmse:0.300274\tvalidation_1-rmse:0.324937\n",
            "[190]\tvalidation_0-rmse:0.300143\tvalidation_1-rmse:0.324908\n",
            "[191]\tvalidation_0-rmse:0.299885\tvalidation_1-rmse:0.324748\n",
            "[192]\tvalidation_0-rmse:0.299414\tvalidation_1-rmse:0.324426\n",
            "[193]\tvalidation_0-rmse:0.299339\tvalidation_1-rmse:0.32439\n",
            "[194]\tvalidation_0-rmse:0.299019\tvalidation_1-rmse:0.324075\n",
            "[195]\tvalidation_0-rmse:0.29877\tvalidation_1-rmse:0.323847\n",
            "[196]\tvalidation_0-rmse:0.298505\tvalidation_1-rmse:0.323812\n",
            "[197]\tvalidation_0-rmse:0.298387\tvalidation_1-rmse:0.323628\n",
            "[198]\tvalidation_0-rmse:0.298149\tvalidation_1-rmse:0.323545\n",
            "[199]\tvalidation_0-rmse:0.298055\tvalidation_1-rmse:0.323489\n",
            "[200]\tvalidation_0-rmse:0.297939\tvalidation_1-rmse:0.323362\n",
            "[201]\tvalidation_0-rmse:0.297713\tvalidation_1-rmse:0.323176\n",
            "[202]\tvalidation_0-rmse:0.297341\tvalidation_1-rmse:0.323098\n",
            "[203]\tvalidation_0-rmse:0.297222\tvalidation_1-rmse:0.323006\n",
            "[204]\tvalidation_0-rmse:0.297146\tvalidation_1-rmse:0.32286\n",
            "[205]\tvalidation_0-rmse:0.297079\tvalidation_1-rmse:0.322802\n",
            "[206]\tvalidation_0-rmse:0.296882\tvalidation_1-rmse:0.322777\n",
            "[207]\tvalidation_0-rmse:0.296855\tvalidation_1-rmse:0.322755\n",
            "[208]\tvalidation_0-rmse:0.296777\tvalidation_1-rmse:0.322718\n",
            "[209]\tvalidation_0-rmse:0.29657\tvalidation_1-rmse:0.322528\n",
            "[210]\tvalidation_0-rmse:0.296267\tvalidation_1-rmse:0.322302\n",
            "[211]\tvalidation_0-rmse:0.295864\tvalidation_1-rmse:0.321941\n",
            "[212]\tvalidation_0-rmse:0.295661\tvalidation_1-rmse:0.321755\n",
            "[213]\tvalidation_0-rmse:0.295541\tvalidation_1-rmse:0.321713\n",
            "[214]\tvalidation_0-rmse:0.295346\tvalidation_1-rmse:0.321557\n",
            "[215]\tvalidation_0-rmse:0.295206\tvalidation_1-rmse:0.321409\n",
            "[216]\tvalidation_0-rmse:0.294816\tvalidation_1-rmse:0.321324\n",
            "[217]\tvalidation_0-rmse:0.294704\tvalidation_1-rmse:0.321324\n",
            "[218]\tvalidation_0-rmse:0.294518\tvalidation_1-rmse:0.321306\n",
            "[219]\tvalidation_0-rmse:0.294359\tvalidation_1-rmse:0.321272\n",
            "[220]\tvalidation_0-rmse:0.294248\tvalidation_1-rmse:0.321284\n",
            "[221]\tvalidation_0-rmse:0.294164\tvalidation_1-rmse:0.321198\n",
            "[222]\tvalidation_0-rmse:0.294082\tvalidation_1-rmse:0.321165\n",
            "[223]\tvalidation_0-rmse:0.293938\tvalidation_1-rmse:0.321129\n",
            "[224]\tvalidation_0-rmse:0.293848\tvalidation_1-rmse:0.321119\n",
            "[225]\tvalidation_0-rmse:0.29378\tvalidation_1-rmse:0.321019\n",
            "[226]\tvalidation_0-rmse:0.293732\tvalidation_1-rmse:0.321021\n",
            "[227]\tvalidation_0-rmse:0.293673\tvalidation_1-rmse:0.320941\n",
            "[228]\tvalidation_0-rmse:0.293275\tvalidation_1-rmse:0.320601\n",
            "[229]\tvalidation_0-rmse:0.293094\tvalidation_1-rmse:0.320496\n",
            "[230]\tvalidation_0-rmse:0.292891\tvalidation_1-rmse:0.320362\n",
            "[231]\tvalidation_0-rmse:0.292499\tvalidation_1-rmse:0.31989\n",
            "[232]\tvalidation_0-rmse:0.292216\tvalidation_1-rmse:0.319686\n",
            "[233]\tvalidation_0-rmse:0.292042\tvalidation_1-rmse:0.319501\n",
            "[234]\tvalidation_0-rmse:0.291874\tvalidation_1-rmse:0.319419\n",
            "[235]\tvalidation_0-rmse:0.291619\tvalidation_1-rmse:0.319237\n",
            "[236]\tvalidation_0-rmse:0.291597\tvalidation_1-rmse:0.319211\n",
            "[237]\tvalidation_0-rmse:0.290997\tvalidation_1-rmse:0.318782\n",
            "[238]\tvalidation_0-rmse:0.290764\tvalidation_1-rmse:0.318383\n",
            "[239]\tvalidation_0-rmse:0.290663\tvalidation_1-rmse:0.31835\n",
            "[240]\tvalidation_0-rmse:0.290601\tvalidation_1-rmse:0.318319\n",
            "[241]\tvalidation_0-rmse:0.290485\tvalidation_1-rmse:0.318247\n",
            "[242]\tvalidation_0-rmse:0.290331\tvalidation_1-rmse:0.318214\n",
            "[243]\tvalidation_0-rmse:0.290211\tvalidation_1-rmse:0.318189\n",
            "[244]\tvalidation_0-rmse:0.28973\tvalidation_1-rmse:0.31781\n",
            "[245]\tvalidation_0-rmse:0.289377\tvalidation_1-rmse:0.317575\n",
            "[246]\tvalidation_0-rmse:0.289232\tvalidation_1-rmse:0.317578\n",
            "[247]\tvalidation_0-rmse:0.289183\tvalidation_1-rmse:0.317562\n",
            "[248]\tvalidation_0-rmse:0.289135\tvalidation_1-rmse:0.317537\n",
            "[249]\tvalidation_0-rmse:0.289104\tvalidation_1-rmse:0.317485\n",
            "[250]\tvalidation_0-rmse:0.288908\tvalidation_1-rmse:0.317337\n",
            "[251]\tvalidation_0-rmse:0.288847\tvalidation_1-rmse:0.317323\n",
            "[252]\tvalidation_0-rmse:0.288721\tvalidation_1-rmse:0.317261\n",
            "[253]\tvalidation_0-rmse:0.288509\tvalidation_1-rmse:0.317241\n",
            "[254]\tvalidation_0-rmse:0.288289\tvalidation_1-rmse:0.317137\n",
            "[255]\tvalidation_0-rmse:0.288085\tvalidation_1-rmse:0.317017\n",
            "[256]\tvalidation_0-rmse:0.287712\tvalidation_1-rmse:0.316675\n",
            "[257]\tvalidation_0-rmse:0.287562\tvalidation_1-rmse:0.316602\n",
            "[258]\tvalidation_0-rmse:0.287391\tvalidation_1-rmse:0.316508\n",
            "[259]\tvalidation_0-rmse:0.287088\tvalidation_1-rmse:0.316354\n",
            "[260]\tvalidation_0-rmse:0.286774\tvalidation_1-rmse:0.315788\n",
            "[261]\tvalidation_0-rmse:0.286626\tvalidation_1-rmse:0.315574\n",
            "[262]\tvalidation_0-rmse:0.286397\tvalidation_1-rmse:0.315451\n",
            "[263]\tvalidation_0-rmse:0.286219\tvalidation_1-rmse:0.315313\n",
            "[264]\tvalidation_0-rmse:0.286173\tvalidation_1-rmse:0.315254\n",
            "[265]\tvalidation_0-rmse:0.286049\tvalidation_1-rmse:0.315193\n",
            "[266]\tvalidation_0-rmse:0.28577\tvalidation_1-rmse:0.31489\n",
            "[267]\tvalidation_0-rmse:0.285585\tvalidation_1-rmse:0.314823\n",
            "[268]\tvalidation_0-rmse:0.285304\tvalidation_1-rmse:0.314635\n",
            "[269]\tvalidation_0-rmse:0.285167\tvalidation_1-rmse:0.314524\n",
            "[270]\tvalidation_0-rmse:0.285101\tvalidation_1-rmse:0.314533\n",
            "[271]\tvalidation_0-rmse:0.285061\tvalidation_1-rmse:0.314542\n",
            "[272]\tvalidation_0-rmse:0.285019\tvalidation_1-rmse:0.314442\n",
            "[273]\tvalidation_0-rmse:0.284954\tvalidation_1-rmse:0.314486\n",
            "[274]\tvalidation_0-rmse:0.284769\tvalidation_1-rmse:0.314418\n",
            "[275]\tvalidation_0-rmse:0.284658\tvalidation_1-rmse:0.314444\n",
            "[276]\tvalidation_0-rmse:0.284525\tvalidation_1-rmse:0.314245\n",
            "[277]\tvalidation_0-rmse:0.284459\tvalidation_1-rmse:0.314305\n",
            "[278]\tvalidation_0-rmse:0.284375\tvalidation_1-rmse:0.314284\n",
            "[279]\tvalidation_0-rmse:0.284154\tvalidation_1-rmse:0.314165\n",
            "[280]\tvalidation_0-rmse:0.283963\tvalidation_1-rmse:0.313977\n",
            "[281]\tvalidation_0-rmse:0.283803\tvalidation_1-rmse:0.313859\n",
            "[282]\tvalidation_0-rmse:0.283737\tvalidation_1-rmse:0.313788\n",
            "[283]\tvalidation_0-rmse:0.283638\tvalidation_1-rmse:0.313782\n",
            "[284]\tvalidation_0-rmse:0.283591\tvalidation_1-rmse:0.313733\n",
            "[285]\tvalidation_0-rmse:0.283493\tvalidation_1-rmse:0.313693\n",
            "[286]\tvalidation_0-rmse:0.283336\tvalidation_1-rmse:0.313587\n",
            "[287]\tvalidation_0-rmse:0.282953\tvalidation_1-rmse:0.313235\n",
            "[288]\tvalidation_0-rmse:0.282637\tvalidation_1-rmse:0.312911\n",
            "[289]\tvalidation_0-rmse:0.282583\tvalidation_1-rmse:0.312913\n",
            "[290]\tvalidation_0-rmse:0.282504\tvalidation_1-rmse:0.312888\n",
            "[291]\tvalidation_0-rmse:0.282457\tvalidation_1-rmse:0.312907\n",
            "[292]\tvalidation_0-rmse:0.282379\tvalidation_1-rmse:0.312819\n",
            "[293]\tvalidation_0-rmse:0.282337\tvalidation_1-rmse:0.312766\n",
            "[294]\tvalidation_0-rmse:0.282107\tvalidation_1-rmse:0.312721\n",
            "[295]\tvalidation_0-rmse:0.281931\tvalidation_1-rmse:0.312566\n",
            "[296]\tvalidation_0-rmse:0.28182\tvalidation_1-rmse:0.312498\n",
            "[297]\tvalidation_0-rmse:0.281726\tvalidation_1-rmse:0.312481\n",
            "[298]\tvalidation_0-rmse:0.281546\tvalidation_1-rmse:0.312466\n",
            "[299]\tvalidation_0-rmse:0.281337\tvalidation_1-rmse:0.312328\n",
            "[300]\tvalidation_0-rmse:0.281195\tvalidation_1-rmse:0.312369\n",
            "[301]\tvalidation_0-rmse:0.281129\tvalidation_1-rmse:0.31235\n",
            "[302]\tvalidation_0-rmse:0.281087\tvalidation_1-rmse:0.312304\n",
            "[303]\tvalidation_0-rmse:0.281055\tvalidation_1-rmse:0.312294\n",
            "[304]\tvalidation_0-rmse:0.280972\tvalidation_1-rmse:0.31232\n",
            "[305]\tvalidation_0-rmse:0.280925\tvalidation_1-rmse:0.312276\n",
            "[306]\tvalidation_0-rmse:0.280888\tvalidation_1-rmse:0.312229\n",
            "[307]\tvalidation_0-rmse:0.280872\tvalidation_1-rmse:0.312204\n",
            "[308]\tvalidation_0-rmse:0.280787\tvalidation_1-rmse:0.31209\n",
            "[309]\tvalidation_0-rmse:0.280706\tvalidation_1-rmse:0.312043\n",
            "[310]\tvalidation_0-rmse:0.280572\tvalidation_1-rmse:0.312068\n",
            "[311]\tvalidation_0-rmse:0.280487\tvalidation_1-rmse:0.312068\n",
            "[312]\tvalidation_0-rmse:0.280438\tvalidation_1-rmse:0.312037\n",
            "[313]\tvalidation_0-rmse:0.280421\tvalidation_1-rmse:0.312037\n",
            "[314]\tvalidation_0-rmse:0.280401\tvalidation_1-rmse:0.31203\n",
            "[315]\tvalidation_0-rmse:0.280378\tvalidation_1-rmse:0.312013\n",
            "[316]\tvalidation_0-rmse:0.28018\tvalidation_1-rmse:0.312046\n",
            "[317]\tvalidation_0-rmse:0.280132\tvalidation_1-rmse:0.311999\n",
            "[318]\tvalidation_0-rmse:0.279998\tvalidation_1-rmse:0.311862\n",
            "[319]\tvalidation_0-rmse:0.279692\tvalidation_1-rmse:0.311647\n",
            "[320]\tvalidation_0-rmse:0.279572\tvalidation_1-rmse:0.311609\n",
            "[321]\tvalidation_0-rmse:0.279473\tvalidation_1-rmse:0.311575\n",
            "[322]\tvalidation_0-rmse:0.279351\tvalidation_1-rmse:0.311586\n",
            "[323]\tvalidation_0-rmse:0.279159\tvalidation_1-rmse:0.311399\n",
            "[324]\tvalidation_0-rmse:0.278885\tvalidation_1-rmse:0.311159\n",
            "[325]\tvalidation_0-rmse:0.278639\tvalidation_1-rmse:0.311073\n",
            "[326]\tvalidation_0-rmse:0.278515\tvalidation_1-rmse:0.310971\n",
            "[327]\tvalidation_0-rmse:0.278255\tvalidation_1-rmse:0.310738\n",
            "[328]\tvalidation_0-rmse:0.278132\tvalidation_1-rmse:0.310672\n",
            "[329]\tvalidation_0-rmse:0.277941\tvalidation_1-rmse:0.310515\n",
            "[330]\tvalidation_0-rmse:0.277718\tvalidation_1-rmse:0.310301\n",
            "[331]\tvalidation_0-rmse:0.277516\tvalidation_1-rmse:0.310194\n",
            "[332]\tvalidation_0-rmse:0.277389\tvalidation_1-rmse:0.310048\n",
            "[333]\tvalidation_0-rmse:0.277321\tvalidation_1-rmse:0.309988\n",
            "[334]\tvalidation_0-rmse:0.277287\tvalidation_1-rmse:0.309937\n",
            "[335]\tvalidation_0-rmse:0.27722\tvalidation_1-rmse:0.309944\n",
            "[336]\tvalidation_0-rmse:0.277173\tvalidation_1-rmse:0.309956\n",
            "[337]\tvalidation_0-rmse:0.276979\tvalidation_1-rmse:0.309745\n",
            "[338]\tvalidation_0-rmse:0.276931\tvalidation_1-rmse:0.309759\n",
            "[339]\tvalidation_0-rmse:0.27691\tvalidation_1-rmse:0.30975\n",
            "[340]\tvalidation_0-rmse:0.27686\tvalidation_1-rmse:0.309746\n",
            "[341]\tvalidation_0-rmse:0.276636\tvalidation_1-rmse:0.309818\n",
            "[342]\tvalidation_0-rmse:0.276622\tvalidation_1-rmse:0.309825\n",
            "[343]\tvalidation_0-rmse:0.276537\tvalidation_1-rmse:0.309761\n",
            "[344]\tvalidation_0-rmse:0.276415\tvalidation_1-rmse:0.309753\n",
            "[345]\tvalidation_0-rmse:0.276361\tvalidation_1-rmse:0.309744\n",
            "[346]\tvalidation_0-rmse:0.276189\tvalidation_1-rmse:0.309686\n",
            "[347]\tvalidation_0-rmse:0.276074\tvalidation_1-rmse:0.309689\n",
            "[348]\tvalidation_0-rmse:0.276029\tvalidation_1-rmse:0.309691\n",
            "[349]\tvalidation_0-rmse:0.275911\tvalidation_1-rmse:0.30964\n",
            "[350]\tvalidation_0-rmse:0.275875\tvalidation_1-rmse:0.309586\n",
            "[351]\tvalidation_0-rmse:0.275834\tvalidation_1-rmse:0.309597\n",
            "[352]\tvalidation_0-rmse:0.275612\tvalidation_1-rmse:0.309472\n",
            "[353]\tvalidation_0-rmse:0.275499\tvalidation_1-rmse:0.309458\n",
            "[354]\tvalidation_0-rmse:0.275427\tvalidation_1-rmse:0.309459\n",
            "[355]\tvalidation_0-rmse:0.275106\tvalidation_1-rmse:0.309199\n",
            "[356]\tvalidation_0-rmse:0.275091\tvalidation_1-rmse:0.309207\n",
            "[357]\tvalidation_0-rmse:0.275075\tvalidation_1-rmse:0.309203\n",
            "[358]\tvalidation_0-rmse:0.274895\tvalidation_1-rmse:0.308984\n",
            "[359]\tvalidation_0-rmse:0.274861\tvalidation_1-rmse:0.308951\n",
            "[360]\tvalidation_0-rmse:0.274741\tvalidation_1-rmse:0.308975\n",
            "[361]\tvalidation_0-rmse:0.27459\tvalidation_1-rmse:0.308947\n",
            "[362]\tvalidation_0-rmse:0.274377\tvalidation_1-rmse:0.309212\n",
            "[363]\tvalidation_0-rmse:0.274266\tvalidation_1-rmse:0.309097\n",
            "[364]\tvalidation_0-rmse:0.274046\tvalidation_1-rmse:0.308953\n",
            "[365]\tvalidation_0-rmse:0.273937\tvalidation_1-rmse:0.308879\n",
            "[366]\tvalidation_0-rmse:0.273847\tvalidation_1-rmse:0.308773\n",
            "[367]\tvalidation_0-rmse:0.273593\tvalidation_1-rmse:0.308724\n",
            "[368]\tvalidation_0-rmse:0.273498\tvalidation_1-rmse:0.308744\n",
            "[369]\tvalidation_0-rmse:0.273395\tvalidation_1-rmse:0.308707\n",
            "[370]\tvalidation_0-rmse:0.27319\tvalidation_1-rmse:0.308646\n",
            "[371]\tvalidation_0-rmse:0.273077\tvalidation_1-rmse:0.308565\n",
            "[372]\tvalidation_0-rmse:0.272977\tvalidation_1-rmse:0.308513\n",
            "[373]\tvalidation_0-rmse:0.27282\tvalidation_1-rmse:0.308551\n",
            "[374]\tvalidation_0-rmse:0.272767\tvalidation_1-rmse:0.308518\n",
            "[375]\tvalidation_0-rmse:0.272583\tvalidation_1-rmse:0.308415\n",
            "[376]\tvalidation_0-rmse:0.272325\tvalidation_1-rmse:0.308166\n",
            "[377]\tvalidation_0-rmse:0.272236\tvalidation_1-rmse:0.308146\n",
            "[378]\tvalidation_0-rmse:0.271951\tvalidation_1-rmse:0.307947\n",
            "[379]\tvalidation_0-rmse:0.271795\tvalidation_1-rmse:0.307817\n",
            "[380]\tvalidation_0-rmse:0.27163\tvalidation_1-rmse:0.307609\n",
            "[381]\tvalidation_0-rmse:0.271522\tvalidation_1-rmse:0.307567\n",
            "[382]\tvalidation_0-rmse:0.271224\tvalidation_1-rmse:0.307292\n",
            "[383]\tvalidation_0-rmse:0.271184\tvalidation_1-rmse:0.307342\n",
            "[384]\tvalidation_0-rmse:0.271047\tvalidation_1-rmse:0.30721\n",
            "[385]\tvalidation_0-rmse:0.270832\tvalidation_1-rmse:0.307002\n",
            "[386]\tvalidation_0-rmse:0.270729\tvalidation_1-rmse:0.306994\n",
            "[387]\tvalidation_0-rmse:0.270577\tvalidation_1-rmse:0.306976\n",
            "[388]\tvalidation_0-rmse:0.270516\tvalidation_1-rmse:0.306951\n",
            "[389]\tvalidation_0-rmse:0.270489\tvalidation_1-rmse:0.306937\n",
            "[390]\tvalidation_0-rmse:0.270445\tvalidation_1-rmse:0.306927\n",
            "[391]\tvalidation_0-rmse:0.270418\tvalidation_1-rmse:0.306914\n",
            "[392]\tvalidation_0-rmse:0.27039\tvalidation_1-rmse:0.306927\n",
            "[393]\tvalidation_0-rmse:0.270287\tvalidation_1-rmse:0.306924\n",
            "[394]\tvalidation_0-rmse:0.270255\tvalidation_1-rmse:0.306898\n",
            "[395]\tvalidation_0-rmse:0.27021\tvalidation_1-rmse:0.306894\n",
            "[396]\tvalidation_0-rmse:0.270166\tvalidation_1-rmse:0.306897\n",
            "[397]\tvalidation_0-rmse:0.270103\tvalidation_1-rmse:0.306872\n",
            "[398]\tvalidation_0-rmse:0.270042\tvalidation_1-rmse:0.306826\n",
            "[399]\tvalidation_0-rmse:0.269935\tvalidation_1-rmse:0.306825\n",
            "[400]\tvalidation_0-rmse:0.26986\tvalidation_1-rmse:0.306685\n",
            "[401]\tvalidation_0-rmse:0.26978\tvalidation_1-rmse:0.306646\n",
            "[402]\tvalidation_0-rmse:0.269726\tvalidation_1-rmse:0.306656\n",
            "[403]\tvalidation_0-rmse:0.269611\tvalidation_1-rmse:0.306718\n",
            "[404]\tvalidation_0-rmse:0.269535\tvalidation_1-rmse:0.306731\n",
            "[405]\tvalidation_0-rmse:0.269399\tvalidation_1-rmse:0.306756\n",
            "[406]\tvalidation_0-rmse:0.269238\tvalidation_1-rmse:0.306778\n",
            "[407]\tvalidation_0-rmse:0.269137\tvalidation_1-rmse:0.30687\n",
            "[408]\tvalidation_0-rmse:0.269045\tvalidation_1-rmse:0.306798\n",
            "[409]\tvalidation_0-rmse:0.268948\tvalidation_1-rmse:0.306774\n",
            "[410]\tvalidation_0-rmse:0.268932\tvalidation_1-rmse:0.306779\n",
            "[411]\tvalidation_0-rmse:0.268845\tvalidation_1-rmse:0.306873\n",
            "Stopping. Best iteration:\n",
            "[401]\tvalidation_0-rmse:0.26978\tvalidation_1-rmse:0.306646\n",
            "\n"
          ],
          "name": "stdout"
        },
        {
          "output_type": "execute_result",
          "data": {
            "text/plain": [
              "XGBRegressor(base_score=0.5, booster='gbtree', colsample_bylevel=1,\n",
              "             colsample_bynode=1, colsample_bytree=1, gamma=0,\n",
              "             importance_type='gain', learning_rate=0.1, max_delta_step=0,\n",
              "             max_depth=3, min_child_weight=1, missing=None, n_estimators=1000,\n",
              "             n_jobs=-1, nthread=None, objective='reg:linear', random_state=0,\n",
              "             reg_alpha=0, reg_lambda=1, scale_pos_weight=1, seed=None,\n",
              "             silent=None, subsample=1, verbosity=1)"
            ]
          },
          "metadata": {
            "tags": []
          },
          "execution_count": 140
        }
      ]
    },
    {
      "cell_type": "code",
      "metadata": {
        "id": "EU7VCntuM5SY",
        "colab_type": "code",
        "colab": {
          "base_uri": "https://localhost:8080/",
          "height": 269
        },
        "outputId": "9114e8a9-b73b-4280-ff98-a4f97996bf5f"
      },
      "source": [
        "#If we wanted to plot these results...\n",
        "\n",
        "import matplotlib.pyplot as plt\n",
        "\n",
        "results = model.evals_result()\n",
        "train_rmse = results['validation_0']['rmse']\n",
        "val_rmse = results['validation_1']['rmse']\n",
        "unit_of_time = range(len(train_rmse))\n",
        "\n",
        "plt.plot(unit_of_time, train_rmse, label='Train')\n",
        "plt.plot(unit_of_time, val_rmse, label='Validation')\n",
        "plt.legend();"
      ],
      "execution_count": 141,
      "outputs": [
        {
          "output_type": "display_data",
          "data": {
            "image/png": "[encoded data removed]",
            "text/plain": [
              "<Figure size 432x288 with 1 Axes>"
            ]
          },
          "metadata": {
            "tags": []
          }
        }
      ]
    },
    {
      "cell_type": "markdown",
      "metadata": {
        "id": "ljvcRctJEvDN",
        "colab_type": "text"
      },
      "source": [
        "**3 types of Model Explanations**\n",
        "\n",
        "#### 1. Global model explanation: all features in relation to each other\n",
        "- Feature Importances: _Default, fastest, good for first estimates_\n",
        "- Drop-Column Importances: _The best in theory, but much too slow in practice_\n",
        "- Permutaton Importances: _A good compromise!_\n",
        "\n",
        "#### 2. Global model explanation: individual feature(s) in relation to target\n",
        "- Partial Dependence plots\n",
        "\n",
        "#### 3. Individual prediction explanation\n",
        "- Shapley Values\n",
        "\n",
        "_Note that the coefficients from a linear model give you all three types of explanations!_"
      ]
    },
    {
      "cell_type": "markdown",
      "metadata": {
        "id": "kHDMf5UzDWai",
        "colab_type": "text"
      },
      "source": [
        "**Permutation Importance**- What features does your model think are important?\n",
        "\n",
        "**Partial Plots**- How does each feature affect your predictions?\n",
        "\n",
        "**Shapley(SHAP) Values**- Understanding individual predictions."
      ]
    },
    {
      "cell_type": "code",
      "metadata": {
        "id": "CkV2laoeItsz",
        "colab_type": "code",
        "colab": {
          "base_uri": "https://localhost:8080/",
          "height": 662
        },
        "outputId": "52c11653-5cdd-45cc-e7bb-441b258b7bf0"
      },
      "source": [
        "#Look at feature importances.\n",
        "\n",
        "importances = pd.Series(model.feature_importances_, X_train_encoded.columns)\n",
        "\n",
        "#Plot feature importances.\n",
        "\n",
        "n = len(X_train_encoded.columns)\n",
        "plt.figure(figsize=(10,n/2))\n",
        "plt.title(f'Top {n} Features')\n",
        "importances.sort_values()[-n:].plot.barh(color='grey');"
      ],
      "execution_count": 142,
      "outputs": [
        {
          "output_type": "display_data",
          "data": {
            "image/png": "[encoded data removed]",
            "text/plain": [
              "<Figure size 720x792 with 1 Axes>"
            ]
          },
          "metadata": {
            "tags": []
          }
        }
      ]
    },
    {
      "cell_type": "markdown",
      "metadata": {
        "id": "eMiVvI-UJVZq",
        "colab_type": "text"
      },
      "source": [
        "###**Permutation Importances**"
      ]
    },
    {
      "cell_type": "code",
      "metadata": {
        "id": "lhb2fZTUYRFw",
        "colab_type": "code",
        "colab": {
          "base_uri": "https://localhost:8080/",
          "height": 461
        },
        "outputId": "1402066f-46e2-4639-ff33-51bc173affeb"
      },
      "source": [
        "!pip install eli5 pdpbox category_encoders"
      ],
      "execution_count": 143,
      "outputs": [
        {
          "output_type": "stream",
          "text": [
            "Requirement already satisfied: eli5 in /usr/local/lib/python3.6/dist-packages (0.9.0)\n",
            "Requirement already satisfied: pdpbox in /usr/local/lib/python3.6/dist-packages (0.2.0)\n",
            "Requirement already satisfied: category_encoders in /usr/local/lib/python3.6/dist-packages (2.0.0)\n",
            "Requirement already satisfied: scipy in /usr/local/lib/python3.6/dist-packages (from eli5) (1.3.0)\n",
            "Requirement already satisfied: numpy>=1.9.0 in /usr/local/lib/python3.6/dist-packages (from eli5) (1.16.4)\n",
            "Requirement already satisfied: scikit-learn>=0.18 in /usr/local/lib/python3.6/dist-packages (from eli5) (0.21.2)\n",
            "Requirement already satisfied: tabulate>=0.7.7 in /usr/local/lib/python3.6/dist-packages (from eli5) (0.8.3)\n",
            "Requirement already satisfied: typing in /usr/local/lib/python3.6/dist-packages (from eli5) (3.7.4)\n",
            "Requirement already satisfied: attrs>16.0.0 in /usr/local/lib/python3.6/dist-packages (from eli5) (19.1.0)\n",
            "Requirement already satisfied: jinja2 in /usr/local/lib/python3.6/dist-packages (from eli5) (2.10.1)\n",
            "Requirement already satisfied: six in /usr/local/lib/python3.6/dist-packages (from eli5) (1.12.0)\n",
            "Requirement already satisfied: graphviz in /usr/local/lib/python3.6/dist-packages (from eli5) (0.10.1)\n",
            "Requirement already satisfied: matplotlib>=2.1.2 in /usr/local/lib/python3.6/dist-packages (from pdpbox) (3.0.3)\n",
            "Requirement already satisfied: psutil in /usr/local/lib/python3.6/dist-packages (from pdpbox) (5.4.8)\n",
            "Requirement already satisfied: joblib in /usr/local/lib/python3.6/dist-packages (from pdpbox) (0.13.2)\n",
            "Requirement already satisfied: pandas in /usr/local/lib/python3.6/dist-packages (from pdpbox) (0.24.2)\n",
            "Requirement already satisfied: patsy>=0.4.1 in /usr/local/lib/python3.6/dist-packages (from category_encoders) (0.5.1)\n",
            "Requirement already satisfied: statsmodels>=0.6.1 in /usr/local/lib/python3.6/dist-packages (from category_encoders) (0.10.0)\n",
            "Requirement already satisfied: MarkupSafe>=0.23 in /usr/local/lib/python3.6/dist-packages (from jinja2->eli5) (1.1.1)\n",
            "Requirement already satisfied: python-dateutil>=2.1 in /usr/local/lib/python3.6/dist-packages (from matplotlib>=2.1.2->pdpbox) (2.5.3)\n",
            "Requirement already satisfied: cycler>=0.10 in /usr/local/lib/python3.6/dist-packages (from matplotlib>=2.1.2->pdpbox) (0.10.0)\n",
            "Requirement already satisfied: pyparsing!=2.0.4,!=2.1.2,!=2.1.6,>=2.0.1 in /usr/local/lib/python3.6/dist-packages (from matplotlib>=2.1.2->pdpbox) (2.4.0)\n",
            "Requirement already satisfied: kiwisolver>=1.0.1 in /usr/local/lib/python3.6/dist-packages (from matplotlib>=2.1.2->pdpbox) (1.1.0)\n",
            "Requirement already satisfied: pytz>=2011k in /usr/local/lib/python3.6/dist-packages (from pandas->pdpbox) (2018.9)\n",
            "Requirement already satisfied: setuptools in /usr/local/lib/python3.6/dist-packages (from kiwisolver>=1.0.1->matplotlib>=2.1.2->pdpbox) (41.0.1)\n"
          ],
          "name": "stdout"
        }
      ]
    },
    {
      "cell_type": "code",
      "metadata": {
        "id": "ZH9W7v2IayAa",
        "colab_type": "code",
        "colab": {
          "base_uri": "https://localhost:8080/",
          "height": 409
        },
        "outputId": "5a152953-68e1-4ec1-acb3-4ed8a8b43cb6"
      },
      "source": [
        "import eli5\n",
        "\n",
        "from eli5.sklearn import PermutationImportance\n",
        "\n",
        "permuter = PermutationImportance(model, scoring='neg_mean_squared_error', cv='prefit', n_iter=2, random_state=42)\n",
        "\n",
        "permuter.fit(X_val_encoded, y_val_log)\n",
        "feature_names = X_val_encoded.columns.tolist()\n",
        "eli5.show_weights(permuter, top=None, feature_names=feature_names)\n",
        "\n",
        "#What is this saying?\n",
        "#Sometimes it impacted your score a little less and a little more. Probablilistic estimate of the feature importance.\n",
        "#Example: For the quantity feature, when we permute a quantity then in these two iterations one time it was .7200 + .0023 and the other it was .7200 - .0023."
      ],
      "execution_count": 144,
      "outputs": [
        {
          "output_type": "execute_result",
          "data": {
            "text/html": [
              "\n",
              "    <style>\n",
              "    table.eli5-weights tr:hover {\n",
              "        filter: brightness(85%);\n",
              "    }\n",
              "</style>\n",
              "\n",
              "\n",
              "\n",
              "    \n",
              "\n",
              "    \n",
              "\n",
              "    \n",
              "\n",
              "    \n",
              "\n",
              "    \n",
              "\n",
              "    \n",
              "\n",
              "\n",
              "    \n",
              "\n",
              "    \n",
              "\n",
              "    \n",
              "\n",
              "    \n",
              "\n",
              "    \n",
              "\n",
              "    \n",
              "\n",
              "\n",
              "    \n",
              "\n",
              "    \n",
              "\n",
              "    \n",
              "\n",
              "    \n",
              "\n",
              "    \n",
              "        <table class=\"eli5-weights eli5-feature-importances\" style=\"border-collapse: collapse; border: none; margin-top: 0em; table-layout: auto;\">\n",
              "    <thead>\n",
              "    <tr style=\"border: none;\">\n",
              "        <th style=\"padding: 0 1em 0 0.5em; text-align: right; border: none;\">Weight</th>\n",
              "        <th style=\"padding: 0 0.5em 0 0.5em; text-align: left; border: none;\">Feature</th>\n",
              "    </tr>\n",
              "    </thead>\n",
              "    <tbody>\n",
              "    \n",
              "        <tr style=\"background-color: hsl(120, 100.00%, 80.00%); border: none;\">\n",
              "            <td style=\"padding: 0 1em 0 0.5em; text-align: right; border: none;\">\n",
              "                0.7200\n",
              "                \n",
              "                    &plusmn; 0.0023\n",
              "                \n",
              "            </td>\n",
              "            <td style=\"padding: 0 0.5em 0 0.5em; text-align: left; border: none;\">\n",
              "                quantity\n",
              "            </td>\n",
              "        </tr>\n",
              "    \n",
              "        <tr style=\"background-color: hsl(120, 100.00%, 91.20%); border: none;\">\n",
              "            <td style=\"padding: 0 1em 0 0.5em; text-align: right; border: none;\">\n",
              "                0.2228\n",
              "                \n",
              "                    &plusmn; 0.0016\n",
              "                \n",
              "            </td>\n",
              "            <td style=\"padding: 0 0.5em 0 0.5em; text-align: left; border: none;\">\n",
              "                min_order_quantity\n",
              "            </td>\n",
              "        </tr>\n",
              "    \n",
              "        <tr style=\"background-color: hsl(120, 100.00%, 95.64%); border: none;\">\n",
              "            <td style=\"padding: 0 1em 0 0.5em; text-align: right; border: none;\">\n",
              "                0.0817\n",
              "                \n",
              "                    &plusmn; 0.0013\n",
              "                \n",
              "            </td>\n",
              "            <td style=\"padding: 0 0.5em 0 0.5em; text-align: left; border: none;\">\n",
              "                diameter\n",
              "            </td>\n",
              "        </tr>\n",
              "    \n",
              "        <tr style=\"background-color: hsl(120, 100.00%, 96.14%); border: none;\">\n",
              "            <td style=\"padding: 0 1em 0 0.5em; text-align: right; border: none;\">\n",
              "                0.0685\n",
              "                \n",
              "                    &plusmn; 0.0015\n",
              "                \n",
              "            </td>\n",
              "            <td style=\"padding: 0 0.5em 0 0.5em; text-align: left; border: none;\">\n",
              "                end_a\n",
              "            </td>\n",
              "        </tr>\n",
              "    \n",
              "        <tr style=\"background-color: hsl(120, 100.00%, 96.24%); border: none;\">\n",
              "            <td style=\"padding: 0 1em 0 0.5em; text-align: right; border: none;\">\n",
              "                0.0661\n",
              "                \n",
              "                    &plusmn; 0.0022\n",
              "                \n",
              "            </td>\n",
              "            <td style=\"padding: 0 0.5em 0 0.5em; text-align: left; border: none;\">\n",
              "                annual_usage\n",
              "            </td>\n",
              "        </tr>\n",
              "    \n",
              "        <tr style=\"background-color: hsl(120, 100.00%, 96.86%); border: none;\">\n",
              "            <td style=\"padding: 0 1em 0 0.5em; text-align: right; border: none;\">\n",
              "                0.0512\n",
              "                \n",
              "                    &plusmn; 0.0056\n",
              "                \n",
              "            </td>\n",
              "            <td style=\"padding: 0 0.5em 0 0.5em; text-align: left; border: none;\">\n",
              "                supplier\n",
              "            </td>\n",
              "        </tr>\n",
              "    \n",
              "        <tr style=\"background-color: hsl(120, 100.00%, 97.10%); border: none;\">\n",
              "            <td style=\"padding: 0 1em 0 0.5em; text-align: right; border: none;\">\n",
              "                0.0456\n",
              "                \n",
              "                    &plusmn; 0.0018\n",
              "                \n",
              "            </td>\n",
              "            <td style=\"padding: 0 0.5em 0 0.5em; text-align: left; border: none;\">\n",
              "                end_x\n",
              "            </td>\n",
              "        </tr>\n",
              "    \n",
              "        <tr style=\"background-color: hsl(120, 100.00%, 97.75%); border: none;\">\n",
              "            <td style=\"padding: 0 1em 0 0.5em; text-align: right; border: none;\">\n",
              "                0.0318\n",
              "                \n",
              "                    &plusmn; 0.0005\n",
              "                \n",
              "            </td>\n",
              "            <td style=\"padding: 0 0.5em 0 0.5em; text-align: left; border: none;\">\n",
              "                quote_date_year\n",
              "            </td>\n",
              "        </tr>\n",
              "    \n",
              "        <tr style=\"background-color: hsl(120, 100.00%, 98.23%); border: none;\">\n",
              "            <td style=\"padding: 0 1em 0 0.5em; text-align: right; border: none;\">\n",
              "                0.0226\n",
              "                \n",
              "                    &plusmn; 0.0001\n",
              "                \n",
              "            </td>\n",
              "            <td style=\"padding: 0 0.5em 0 0.5em; text-align: left; border: none;\">\n",
              "                length\n",
              "            </td>\n",
              "        </tr>\n",
              "    \n",
              "        <tr style=\"background-color: hsl(120, 100.00%, 98.64%); border: none;\">\n",
              "            <td style=\"padding: 0 1em 0 0.5em; text-align: right; border: none;\">\n",
              "                0.0154\n",
              "                \n",
              "                    &plusmn; 0.0005\n",
              "                \n",
              "            </td>\n",
              "            <td style=\"padding: 0 0.5em 0 0.5em; text-align: left; border: none;\">\n",
              "                wall\n",
              "            </td>\n",
              "        </tr>\n",
              "    \n",
              "        <tr style=\"background-color: hsl(120, 100.00%, 99.17%); border: none;\">\n",
              "            <td style=\"padding: 0 1em 0 0.5em; text-align: right; border: none;\">\n",
              "                0.0076\n",
              "                \n",
              "                    &plusmn; 0.0017\n",
              "                \n",
              "            </td>\n",
              "            <td style=\"padding: 0 0.5em 0 0.5em; text-align: left; border: none;\">\n",
              "                other\n",
              "            </td>\n",
              "        </tr>\n",
              "    \n",
              "        <tr style=\"background-color: hsl(120, 100.00%, 99.36%); border: none;\">\n",
              "            <td style=\"padding: 0 1em 0 0.5em; text-align: right; border: none;\">\n",
              "                0.0053\n",
              "                \n",
              "                    &plusmn; 0.0002\n",
              "                \n",
              "            </td>\n",
              "            <td style=\"padding: 0 0.5em 0 0.5em; text-align: left; border: none;\">\n",
              "                bend_radius\n",
              "            </td>\n",
              "        </tr>\n",
              "    \n",
              "        <tr style=\"background-color: hsl(120, 100.00%, 99.44%); border: none;\">\n",
              "            <td style=\"padding: 0 1em 0 0.5em; text-align: right; border: none;\">\n",
              "                0.0044\n",
              "                \n",
              "                    &plusmn; 0.0003\n",
              "                \n",
              "            </td>\n",
              "            <td style=\"padding: 0 0.5em 0 0.5em; text-align: left; border: none;\">\n",
              "                num_boss\n",
              "            </td>\n",
              "        </tr>\n",
              "    \n",
              "        <tr style=\"background-color: hsl(120, 100.00%, 99.71%); border: none;\">\n",
              "            <td style=\"padding: 0 1em 0 0.5em; text-align: right; border: none;\">\n",
              "                0.0017\n",
              "                \n",
              "                    &plusmn; 0.0003\n",
              "                \n",
              "            </td>\n",
              "            <td style=\"padding: 0 0.5em 0 0.5em; text-align: left; border: none;\">\n",
              "                bracket_pricing\n",
              "            </td>\n",
              "        </tr>\n",
              "    \n",
              "        <tr style=\"background-color: hsl(120, 100.00%, 99.71%); border: none;\">\n",
              "            <td style=\"padding: 0 1em 0 0.5em; text-align: right; border: none;\">\n",
              "                0.0017\n",
              "                \n",
              "                    &plusmn; 0.0003\n",
              "                \n",
              "            </td>\n",
              "            <td style=\"padding: 0 0.5em 0 0.5em; text-align: left; border: none;\">\n",
              "                material_id\n",
              "            </td>\n",
              "        </tr>\n",
              "    \n",
              "        <tr style=\"background-color: hsl(120, 100.00%, 99.71%); border: none;\">\n",
              "            <td style=\"padding: 0 1em 0 0.5em; text-align: right; border: none;\">\n",
              "                0.0017\n",
              "                \n",
              "                    &plusmn; 0.0002\n",
              "                \n",
              "            </td>\n",
              "            <td style=\"padding: 0 0.5em 0 0.5em; text-align: left; border: none;\">\n",
              "                num_bends\n",
              "            </td>\n",
              "        </tr>\n",
              "    \n",
              "        <tr style=\"background-color: hsl(120, 100.00%, 99.79%); border: none;\">\n",
              "            <td style=\"padding: 0 1em 0 0.5em; text-align: right; border: none;\">\n",
              "                0.0010\n",
              "                \n",
              "                    &plusmn; 0.0004\n",
              "                \n",
              "            </td>\n",
              "            <td style=\"padding: 0 0.5em 0 0.5em; text-align: left; border: none;\">\n",
              "                end_x_2x\n",
              "            </td>\n",
              "        </tr>\n",
              "    \n",
              "        <tr style=\"background-color: hsl(120, 100.00%, 99.83%); border: none;\">\n",
              "            <td style=\"padding: 0 1em 0 0.5em; text-align: right; border: none;\">\n",
              "                0.0008\n",
              "                \n",
              "                    &plusmn; 0.0001\n",
              "                \n",
              "            </td>\n",
              "            <td style=\"padding: 0 0.5em 0 0.5em; text-align: left; border: none;\">\n",
              "                num_bracket\n",
              "            </td>\n",
              "        </tr>\n",
              "    \n",
              "        <tr style=\"background-color: hsl(120, 100.00%, 99.84%); border: none;\">\n",
              "            <td style=\"padding: 0 1em 0 0.5em; text-align: right; border: none;\">\n",
              "                0.0007\n",
              "                \n",
              "                    &plusmn; 0.0000\n",
              "                \n",
              "            </td>\n",
              "            <td style=\"padding: 0 0.5em 0 0.5em; text-align: left; border: none;\">\n",
              "                end_a_2x\n",
              "            </td>\n",
              "        </tr>\n",
              "    \n",
              "        <tr style=\"background-color: hsl(120, 100.00%, 99.97%); border: none;\">\n",
              "            <td style=\"padding: 0 1em 0 0.5em; text-align: right; border: none;\">\n",
              "                0.0001\n",
              "                \n",
              "                    &plusmn; 0.0001\n",
              "                \n",
              "            </td>\n",
              "            <td style=\"padding: 0 0.5em 0 0.5em; text-align: left; border: none;\">\n",
              "                end_x_1x\n",
              "            </td>\n",
              "        </tr>\n",
              "    \n",
              "        <tr style=\"background-color: hsl(0, 100.00%, 100.00%); border: none;\">\n",
              "            <td style=\"padding: 0 1em 0 0.5em; text-align: right; border: none;\">\n",
              "                0\n",
              "                \n",
              "                    &plusmn; 0.0000\n",
              "                \n",
              "            </td>\n",
              "            <td style=\"padding: 0 0.5em 0 0.5em; text-align: left; border: none;\">\n",
              "                quote_date_month\n",
              "            </td>\n",
              "        </tr>\n",
              "    \n",
              "        <tr style=\"background-color: hsl(0, 100.00%, 99.99%); border: none;\">\n",
              "            <td style=\"padding: 0 1em 0 0.5em; text-align: right; border: none;\">\n",
              "                -0.0000\n",
              "                \n",
              "                    &plusmn; 0.0000\n",
              "                \n",
              "            </td>\n",
              "            <td style=\"padding: 0 0.5em 0 0.5em; text-align: left; border: none;\">\n",
              "                end_a_1x\n",
              "            </td>\n",
              "        </tr>\n",
              "    \n",
              "    \n",
              "    </tbody>\n",
              "</table>\n",
              "    \n",
              "\n",
              "    \n",
              "\n",
              "\n",
              "    \n",
              "\n",
              "    \n",
              "\n",
              "    \n",
              "\n",
              "    \n",
              "\n",
              "    \n",
              "\n",
              "    \n",
              "\n",
              "\n",
              "\n"
            ],
            "text/plain": [
              "<IPython.core.display.HTML object>"
            ]
          },
          "metadata": {
            "tags": []
          },
          "execution_count": 144
        }
      ]
    },
    {
      "cell_type": "markdown",
      "metadata": {
        "id": "MtayGDTrfcrC",
        "colab_type": "text"
      },
      "source": [
        "###**Partial Dependence Plots**"
      ]
    },
    {
      "cell_type": "markdown",
      "metadata": {
        "id": "QhERbGnmqgTM",
        "colab_type": "text"
      },
      "source": [
        "**1 Feature**"
      ]
    },
    {
      "cell_type": "code",
      "metadata": {
        "id": "_jU3POi0fg4N",
        "colab_type": "code",
        "colab": {
          "base_uri": "https://localhost:8080/",
          "height": 582
        },
        "outputId": "df22ff8c-f3c6-4ea6-be02-1302c87e4330"
      },
      "source": [
        "from pdpbox.pdp import pdp_isolate, pdp_plot\n",
        "\n",
        "feature = 'quantity'\n",
        "\n",
        "isolated = pdp_isolate(model=model, dataset=X_val_encoded, model_features=X_val_encoded.columns, feature=feature)\n",
        "\n",
        "pdp_plot(isolated, feature_name=feature);"
      ],
      "execution_count": 146,
      "outputs": [
        {
          "output_type": "display_data",
          "data": {
            "image/png": "[encoded data removed]",
            "text/plain": [
              "<Figure size 1080x684 with 2 Axes>"
            ]
          },
          "metadata": {
            "tags": []
          }
        }
      ]
    },
    {
      "cell_type": "markdown",
      "metadata": {
        "id": "KxNy0NyJqj1U",
        "colab_type": "text"
      },
      "source": [
        "**2 Features (to see interactions)**"
      ]
    },
    {
      "cell_type": "code",
      "metadata": {
        "id": "FUb4GJOHqtaj",
        "colab_type": "code",
        "colab": {
          "base_uri": "https://localhost:8080/",
          "height": 585
        },
        "outputId": "606aa5fd-9d48-4022-c53a-31dc78cd33ec"
      },
      "source": [
        "from pdpbox.pdp import pdp_interact, pdp_interact_plot\n",
        "\n",
        "features = ['quantity', 'quote_date_year']\n",
        "\n",
        "interaction = pdp_interact(model=model, dataset=X_val_encoded, model_features=X_val_encoded.columns, features=features)\n",
        "\n",
        "pdp_interact_plot(interaction, plot_type='grid', feature_names=features);"
      ],
      "execution_count": 148,
      "outputs": [
        {
          "output_type": "display_data",
          "data": {
            "image/png": "[encoded data removed]",
            "text/plain": [
              "<Figure size 540x684 with 3 Axes>"
            ]
          },
          "metadata": {
            "tags": []
          }
        }
      ]
    }
  ]
}